{
  "nbformat": 4,
  "nbformat_minor": 0,
  "metadata": {
    "accelerator": "TPU",
    "colab": {
      "name": "TwitterUSairlineSentiment_NikhitaDevgan.ipynb",
      "provenance": [],
      "collapsed_sections": [
        "WooHPz-I8cf6",
        "oW8WppxV_MPB",
        "czM1lfKSitkz",
        "gfj3Z0jXYzq0",
        "od2kU3-HZZDq",
        "GLH_wd-0dxum",
        "VFXrYfHD1YFl",
        "9Qh-AjVLeKZ-",
        "cCtxBGI0Ay8M",
        "DO1sphtHA4zN",
        "dzgKC0sNfsW_",
        "HY-FNUY6qjIJ",
        "Ec_rDwz6BzXs",
        "d3LsWsOHx9n3",
        "ynHD3AG-r_z-",
        "cXKc3SgQwyks",
        "OtLb6XNyydSs",
        "IlztQCq0DqAz",
        "I_PHf24KCAOX"
      ]
    },
    "kernelspec": {
      "display_name": "Python 3",
      "name": "python3"
    }
  },
  "cells": [
    {
      "cell_type": "markdown",
      "metadata": {
        "id": "WooHPz-I8cf6"
      },
      "source": [
        "# Project Description: Twitter US Airline Sentiment"
      ]
    },
    {
      "cell_type": "markdown",
      "metadata": {
        "id": "oW8WppxV_MPB"
      },
      "source": [
        "## Data Description:\n",
        "\n",
        "A sentiment analysis job about the problems of each major US airline. Twitter data was scraped from February of 2015 and contributors were asked to first classify positive, negative, and neutral tweets, followed by categorizing negative reasons (such as \"late flight\" or \"rude service\").\n",
        "\n",
        "## Dataset:\n",
        "\n",
        "The project is from a dataset from Kaggle.\n",
        "Link to the Kaggle project site: https://www.kaggle.com/crowdflower/twitter-airline-sentiment The dataset has to be downloaded from the above Kaggle website.\n",
        "\n",
        "The dataset has the following columns:\n",
        "\n",
        "- tweet_id\n",
        "- airline_sentiment\n",
        "- airline_sentiment_confidence\n",
        "- negativereason\n",
        "- negativereason_confidence\n",
        "- airline\n",
        "- airline_sentiment_gold\n",
        "- name\n",
        "- negativereason_gold\n",
        "- retweet_count\n",
        "- text\n",
        "- tweet_coord\n",
        "- tweet_created\n",
        "- tweet_location\n",
        "- user_timezone\n",
        "\n",
        "## Objective:\n",
        "\n",
        "To implement the techniques learnt as a part of the course.\n",
        "\n",
        "## Learning Outcomes:\n",
        "\n",
        "- Basic understanding of text pre-processing\n",
        "- What to do after text pre-processing\n",
        "    - Bag of words\n",
        "    - Tf-idf\n",
        "- Build the classification model\n",
        "- Evaluate the model\n",
        "\n",
        "## Steps & Tasks:\n",
        "\n",
        "1. Import the libraries, load dataset, print shape of data, data description. (5 Marks)\n",
        "2. Understand of data-columns: (5 Marks)\n",
        "a. Drop all other columns except “text” and “airline_sentiment”.\n",
        "b. Check the shape of data.\n",
        "c. Print first 5 rows of data.\n",
        "3. Text pre-processing: Data preparation. (20 Marks)\n",
        "a. Html tag removal.\n",
        "b. Tokenization.\n",
        "c. Remove the numbers.\n",
        "d. Removal of Special Characters and Punctuations.\n",
        "e. Conversion to lowercase.\n",
        "f. Lemmatize or stemming.\n",
        "g. Join the words in the list to convert back to text string in the dataframe. (So that each row\n",
        "contains the data in text format.)\n",
        "h. Print first 5 rows of data after pre-processing.\n",
        "4. Vectorization: (10 Marks)\n",
        "a. Use CountVectorizer.\n",
        "b. Use TfidfVectorizer.\n",
        "5. Fit and evaluate model using both type of vectorization. (6+6 Marks)\n",
        "6. Summarize your understanding of the application of Various Pre-processing and Vectorization and\n",
        "performance of your model on this dataset. (8 Marks)\n"
      ]
    },
    {
      "cell_type": "markdown",
      "metadata": {
        "id": "czM1lfKSitkz"
      },
      "source": [
        "# Step 1: Load Dataset"
      ]
    },
    {
      "cell_type": "code",
      "metadata": {
        "id": "NNYg58Bn_A-3"
      },
      "source": [
        "# Import libraries\n",
        "import numpy as np\n",
        "import pandas as pd\n",
        "import matplotlib.pyplot as plt\n",
        "import seaborn as sns\n",
        "\n",
        "import re\n",
        "import nltk\n",
        "import string\n",
        "import warnings\n",
        "\n",
        "import tensorflow as tf\n",
        "\n",
        "pd.set_option(\"display.max_colwidth\", None) # Displays twitter text without truncating\n",
        "warnings.filterwarnings(\"ignore\")\n",
        "\n",
        "%matplotlib inline"
      ],
      "execution_count": null,
      "outputs": []
    },
    {
      "cell_type": "code",
      "metadata": {
        "colab": {
          "base_uri": "https://localhost:8080/"
        },
        "id": "IU7tzZ-WDBjf",
        "outputId": "cce2c456-1665-4538-f0c0-c09da0dc774d"
      },
      "source": [
        "# Mount drive\n",
        "from google.colab import drive\n",
        "drive.mount('/content/drive')"
      ],
      "execution_count": null,
      "outputs": [
        {
          "output_type": "stream",
          "text": [
            "Drive already mounted at /content/drive; to attempt to forcibly remount, call drive.mount(\"/content/drive\", force_remount=True).\n"
          ],
          "name": "stdout"
        }
      ]
    },
    {
      "cell_type": "code",
      "metadata": {
        "id": "xSRZTNJdC2Uj"
      },
      "source": [
        "# Read Dataset\n",
        "data = pd.read_csv('/content/drive/My Drive/My Mac/Matter_of_Life/Technologies/Machine Learning/Course-GL/ML-UOT/Projects/Project 8/Tweets.csv')"
      ],
      "execution_count": null,
      "outputs": []
    },
    {
      "cell_type": "code",
      "metadata": {
        "colab": {
          "base_uri": "https://localhost:8080/"
        },
        "id": "ms5KDrLpECXV",
        "outputId": "34073449-af1f-4eb9-b76a-47ebc7dc5161"
      },
      "source": [
        "# View dataset\n",
        "data.head()"
      ],
      "execution_count": null,
      "outputs": [
        {
          "output_type": "execute_result",
          "data": {
            "text/html": [
              "<div>\n",
              "<style scoped>\n",
              "    .dataframe tbody tr th:only-of-type {\n",
              "        vertical-align: middle;\n",
              "    }\n",
              "\n",
              "    .dataframe tbody tr th {\n",
              "        vertical-align: top;\n",
              "    }\n",
              "\n",
              "    .dataframe thead th {\n",
              "        text-align: right;\n",
              "    }\n",
              "</style>\n",
              "<table border=\"1\" class=\"dataframe\">\n",
              "  <thead>\n",
              "    <tr style=\"text-align: right;\">\n",
              "      <th></th>\n",
              "      <th>tweet_id</th>\n",
              "      <th>airline_sentiment</th>\n",
              "      <th>airline_sentiment_confidence</th>\n",
              "      <th>negativereason</th>\n",
              "      <th>negativereason_confidence</th>\n",
              "      <th>airline</th>\n",
              "      <th>airline_sentiment_gold</th>\n",
              "      <th>name</th>\n",
              "      <th>negativereason_gold</th>\n",
              "      <th>retweet_count</th>\n",
              "      <th>text</th>\n",
              "      <th>tweet_coord</th>\n",
              "      <th>tweet_created</th>\n",
              "      <th>tweet_location</th>\n",
              "      <th>user_timezone</th>\n",
              "    </tr>\n",
              "  </thead>\n",
              "  <tbody>\n",
              "    <tr>\n",
              "      <th>0</th>\n",
              "      <td>570306133677760513</td>\n",
              "      <td>neutral</td>\n",
              "      <td>1.0000</td>\n",
              "      <td>NaN</td>\n",
              "      <td>NaN</td>\n",
              "      <td>Virgin America</td>\n",
              "      <td>NaN</td>\n",
              "      <td>cairdin</td>\n",
              "      <td>NaN</td>\n",
              "      <td>0</td>\n",
              "      <td>@VirginAmerica What @dhepburn said.</td>\n",
              "      <td>NaN</td>\n",
              "      <td>2015-02-24 11:35:52 -0800</td>\n",
              "      <td>NaN</td>\n",
              "      <td>Eastern Time (US &amp; Canada)</td>\n",
              "    </tr>\n",
              "    <tr>\n",
              "      <th>1</th>\n",
              "      <td>570301130888122368</td>\n",
              "      <td>positive</td>\n",
              "      <td>0.3486</td>\n",
              "      <td>NaN</td>\n",
              "      <td>0.0000</td>\n",
              "      <td>Virgin America</td>\n",
              "      <td>NaN</td>\n",
              "      <td>jnardino</td>\n",
              "      <td>NaN</td>\n",
              "      <td>0</td>\n",
              "      <td>@VirginAmerica plus you've added commercials to the experience... tacky.</td>\n",
              "      <td>NaN</td>\n",
              "      <td>2015-02-24 11:15:59 -0800</td>\n",
              "      <td>NaN</td>\n",
              "      <td>Pacific Time (US &amp; Canada)</td>\n",
              "    </tr>\n",
              "    <tr>\n",
              "      <th>2</th>\n",
              "      <td>570301083672813571</td>\n",
              "      <td>neutral</td>\n",
              "      <td>0.6837</td>\n",
              "      <td>NaN</td>\n",
              "      <td>NaN</td>\n",
              "      <td>Virgin America</td>\n",
              "      <td>NaN</td>\n",
              "      <td>yvonnalynn</td>\n",
              "      <td>NaN</td>\n",
              "      <td>0</td>\n",
              "      <td>@VirginAmerica I didn't today... Must mean I need to take another trip!</td>\n",
              "      <td>NaN</td>\n",
              "      <td>2015-02-24 11:15:48 -0800</td>\n",
              "      <td>Lets Play</td>\n",
              "      <td>Central Time (US &amp; Canada)</td>\n",
              "    </tr>\n",
              "    <tr>\n",
              "      <th>3</th>\n",
              "      <td>570301031407624196</td>\n",
              "      <td>negative</td>\n",
              "      <td>1.0000</td>\n",
              "      <td>Bad Flight</td>\n",
              "      <td>0.7033</td>\n",
              "      <td>Virgin America</td>\n",
              "      <td>NaN</td>\n",
              "      <td>jnardino</td>\n",
              "      <td>NaN</td>\n",
              "      <td>0</td>\n",
              "      <td>@VirginAmerica it's really aggressive to blast obnoxious \"entertainment\" in your guests' faces &amp;amp; they have little recourse</td>\n",
              "      <td>NaN</td>\n",
              "      <td>2015-02-24 11:15:36 -0800</td>\n",
              "      <td>NaN</td>\n",
              "      <td>Pacific Time (US &amp; Canada)</td>\n",
              "    </tr>\n",
              "    <tr>\n",
              "      <th>4</th>\n",
              "      <td>570300817074462722</td>\n",
              "      <td>negative</td>\n",
              "      <td>1.0000</td>\n",
              "      <td>Can't Tell</td>\n",
              "      <td>1.0000</td>\n",
              "      <td>Virgin America</td>\n",
              "      <td>NaN</td>\n",
              "      <td>jnardino</td>\n",
              "      <td>NaN</td>\n",
              "      <td>0</td>\n",
              "      <td>@VirginAmerica and it's a really big bad thing about it</td>\n",
              "      <td>NaN</td>\n",
              "      <td>2015-02-24 11:14:45 -0800</td>\n",
              "      <td>NaN</td>\n",
              "      <td>Pacific Time (US &amp; Canada)</td>\n",
              "    </tr>\n",
              "  </tbody>\n",
              "</table>\n",
              "</div>"
            ],
            "text/plain": [
              "             tweet_id  ...               user_timezone\n",
              "0  570306133677760513  ...  Eastern Time (US & Canada)\n",
              "1  570301130888122368  ...  Pacific Time (US & Canada)\n",
              "2  570301083672813571  ...  Central Time (US & Canada)\n",
              "3  570301031407624196  ...  Pacific Time (US & Canada)\n",
              "4  570300817074462722  ...  Pacific Time (US & Canada)\n",
              "\n",
              "[5 rows x 15 columns]"
            ]
          },
          "metadata": {
            "tags": []
          },
          "execution_count": 4
        }
      ]
    },
    {
      "cell_type": "code",
      "metadata": {
        "colab": {
          "base_uri": "https://localhost:8080/"
        },
        "id": "DM2ZSStjF5Cg",
        "outputId": "d4ecda18-9c73-489b-e632-95ab28156adc"
      },
      "source": [
        "# Shape of dataset\n",
        "data.shape"
      ],
      "execution_count": null,
      "outputs": [
        {
          "output_type": "execute_result",
          "data": {
            "text/plain": [
              "(14640, 15)"
            ]
          },
          "metadata": {
            "tags": []
          },
          "execution_count": 5
        }
      ]
    },
    {
      "cell_type": "code",
      "metadata": {
        "colab": {
          "base_uri": "https://localhost:8080/"
        },
        "id": "a-cteEP48xLk",
        "outputId": "e829f8f9-e784-4b44-e14b-e4c1b798cf75"
      },
      "source": [
        "# Data Info\n",
        "data.info()"
      ],
      "execution_count": null,
      "outputs": [
        {
          "output_type": "stream",
          "text": [
            "<class 'pandas.core.frame.DataFrame'>\n",
            "RangeIndex: 14640 entries, 0 to 14639\n",
            "Data columns (total 15 columns):\n",
            " #   Column                        Non-Null Count  Dtype  \n",
            "---  ------                        --------------  -----  \n",
            " 0   tweet_id                      14640 non-null  int64  \n",
            " 1   airline_sentiment             14640 non-null  object \n",
            " 2   airline_sentiment_confidence  14640 non-null  float64\n",
            " 3   negativereason                9178 non-null   object \n",
            " 4   negativereason_confidence     10522 non-null  float64\n",
            " 5   airline                       14640 non-null  object \n",
            " 6   airline_sentiment_gold        40 non-null     object \n",
            " 7   name                          14640 non-null  object \n",
            " 8   negativereason_gold           32 non-null     object \n",
            " 9   retweet_count                 14640 non-null  int64  \n",
            " 10  text                          14640 non-null  object \n",
            " 11  tweet_coord                   1019 non-null   object \n",
            " 12  tweet_created                 14640 non-null  object \n",
            " 13  tweet_location                9907 non-null   object \n",
            " 14  user_timezone                 9820 non-null   object \n",
            "dtypes: float64(2), int64(2), object(11)\n",
            "memory usage: 1.7+ MB\n"
          ],
          "name": "stdout"
        }
      ]
    },
    {
      "cell_type": "markdown",
      "metadata": {
        "id": "gfj3Z0jXYzq0"
      },
      "source": [
        "# Step 2: Data Analysis "
      ]
    },
    {
      "cell_type": "code",
      "metadata": {
        "colab": {
          "base_uri": "https://localhost:8080/"
        },
        "id": "1IisCEivE6gW",
        "outputId": "f0d91d23-401d-4d00-fbbc-e2c354a0ad93"
      },
      "source": [
        "# Description of dataset\n",
        "data.describe()"
      ],
      "execution_count": null,
      "outputs": [
        {
          "output_type": "execute_result",
          "data": {
            "text/html": [
              "<div>\n",
              "<style scoped>\n",
              "    .dataframe tbody tr th:only-of-type {\n",
              "        vertical-align: middle;\n",
              "    }\n",
              "\n",
              "    .dataframe tbody tr th {\n",
              "        vertical-align: top;\n",
              "    }\n",
              "\n",
              "    .dataframe thead th {\n",
              "        text-align: right;\n",
              "    }\n",
              "</style>\n",
              "<table border=\"1\" class=\"dataframe\">\n",
              "  <thead>\n",
              "    <tr style=\"text-align: right;\">\n",
              "      <th></th>\n",
              "      <th>tweet_id</th>\n",
              "      <th>airline_sentiment_confidence</th>\n",
              "      <th>negativereason_confidence</th>\n",
              "      <th>retweet_count</th>\n",
              "    </tr>\n",
              "  </thead>\n",
              "  <tbody>\n",
              "    <tr>\n",
              "      <th>count</th>\n",
              "      <td>1.464000e+04</td>\n",
              "      <td>14640.000000</td>\n",
              "      <td>10522.000000</td>\n",
              "      <td>14640.000000</td>\n",
              "    </tr>\n",
              "    <tr>\n",
              "      <th>mean</th>\n",
              "      <td>5.692184e+17</td>\n",
              "      <td>0.900169</td>\n",
              "      <td>0.638298</td>\n",
              "      <td>0.082650</td>\n",
              "    </tr>\n",
              "    <tr>\n",
              "      <th>std</th>\n",
              "      <td>7.791112e+14</td>\n",
              "      <td>0.162830</td>\n",
              "      <td>0.330440</td>\n",
              "      <td>0.745778</td>\n",
              "    </tr>\n",
              "    <tr>\n",
              "      <th>min</th>\n",
              "      <td>5.675883e+17</td>\n",
              "      <td>0.335000</td>\n",
              "      <td>0.000000</td>\n",
              "      <td>0.000000</td>\n",
              "    </tr>\n",
              "    <tr>\n",
              "      <th>25%</th>\n",
              "      <td>5.685592e+17</td>\n",
              "      <td>0.692300</td>\n",
              "      <td>0.360600</td>\n",
              "      <td>0.000000</td>\n",
              "    </tr>\n",
              "    <tr>\n",
              "      <th>50%</th>\n",
              "      <td>5.694779e+17</td>\n",
              "      <td>1.000000</td>\n",
              "      <td>0.670600</td>\n",
              "      <td>0.000000</td>\n",
              "    </tr>\n",
              "    <tr>\n",
              "      <th>75%</th>\n",
              "      <td>5.698905e+17</td>\n",
              "      <td>1.000000</td>\n",
              "      <td>1.000000</td>\n",
              "      <td>0.000000</td>\n",
              "    </tr>\n",
              "    <tr>\n",
              "      <th>max</th>\n",
              "      <td>5.703106e+17</td>\n",
              "      <td>1.000000</td>\n",
              "      <td>1.000000</td>\n",
              "      <td>44.000000</td>\n",
              "    </tr>\n",
              "  </tbody>\n",
              "</table>\n",
              "</div>"
            ],
            "text/plain": [
              "           tweet_id  ...  retweet_count\n",
              "count  1.464000e+04  ...   14640.000000\n",
              "mean   5.692184e+17  ...       0.082650\n",
              "std    7.791112e+14  ...       0.745778\n",
              "min    5.675883e+17  ...       0.000000\n",
              "25%    5.685592e+17  ...       0.000000\n",
              "50%    5.694779e+17  ...       0.000000\n",
              "75%    5.698905e+17  ...       0.000000\n",
              "max    5.703106e+17  ...      44.000000\n",
              "\n",
              "[8 rows x 4 columns]"
            ]
          },
          "metadata": {
            "tags": []
          },
          "execution_count": 7
        }
      ]
    },
    {
      "cell_type": "code",
      "metadata": {
        "colab": {
          "base_uri": "https://localhost:8080/"
        },
        "id": "EjqUKF3qv_nm",
        "outputId": "a5124aba-6b57-4855-f29c-bf424dd4137b"
      },
      "source": [
        "# Columns of dataset\n",
        "data.columns"
      ],
      "execution_count": null,
      "outputs": [
        {
          "output_type": "execute_result",
          "data": {
            "text/plain": [
              "Index(['tweet_id', 'airline_sentiment', 'airline_sentiment_confidence',\n",
              "       'negativereason', 'negativereason_confidence', 'airline',\n",
              "       'airline_sentiment_gold', 'name', 'negativereason_gold',\n",
              "       'retweet_count', 'text', 'tweet_coord', 'tweet_created',\n",
              "       'tweet_location', 'user_timezone'],\n",
              "      dtype='object')"
            ]
          },
          "metadata": {
            "tags": []
          },
          "execution_count": 8
        }
      ]
    },
    {
      "cell_type": "code",
      "metadata": {
        "colab": {
          "base_uri": "https://localhost:8080/"
        },
        "id": "gGW2WgrBE1rF",
        "outputId": "1bc72f38-4522-4164-817e-711e0673a844"
      },
      "source": [
        "# Example of Negative tweets\n",
        "data[data['airline_sentiment'] == 'negative']['text'].head()"
      ],
      "execution_count": null,
      "outputs": [
        {
          "output_type": "execute_result",
          "data": {
            "text/plain": [
              "3                @VirginAmerica it's really aggressive to blast obnoxious \"entertainment\" in your guests' faces &amp; they have little recourse\n",
              "4                                                                                       @VirginAmerica and it's a really big bad thing about it\n",
              "5      @VirginAmerica seriously would pay $30 a flight for seats that didn't have this playing.\\nit's really the only bad thing about flying VA\n",
              "15                                                                                                @VirginAmerica SFO-PDX schedule is still MIA.\n",
              "17    @VirginAmerica  I flew from NYC to SFO last week and couldn't fully sit in my seat due to two large gentleman on either side of me. HELP!\n",
              "Name: text, dtype: object"
            ]
          },
          "metadata": {
            "tags": []
          },
          "execution_count": 9
        }
      ]
    },
    {
      "cell_type": "code",
      "metadata": {
        "colab": {
          "base_uri": "https://localhost:8080/"
        },
        "id": "jdR8GNO1FbnA",
        "outputId": "e5f92e84-86e2-4dcc-e2c3-1b69264f1d93"
      },
      "source": [
        "# Example of Positive tweets\n",
        "data[data['airline_sentiment'] == 'positive']['text'].head()"
      ],
      "execution_count": null,
      "outputs": [
        {
          "output_type": "execute_result",
          "data": {
            "text/plain": [
              "1                @VirginAmerica plus you've added commercials to the experience... tacky.\n",
              "6         @VirginAmerica yes, nearly every time I fly VX this “ear worm” won’t go away :)\n",
              "8                                         @virginamerica Well, I didn't…but NOW I DO! :-D\n",
              "9        @VirginAmerica it was amazing, and arrived an hour early. You're too good to me.\n",
              "11    @VirginAmerica I &lt;3 pretty graphics. so much better than minimal iconography. :D\n",
              "Name: text, dtype: object"
            ]
          },
          "metadata": {
            "tags": []
          },
          "execution_count": 10
        }
      ]
    },
    {
      "cell_type": "code",
      "metadata": {
        "colab": {
          "base_uri": "https://localhost:8080/"
        },
        "id": "b59AuwEGF049",
        "outputId": "066616eb-47bf-4bce-f6c5-2fa8565f9808"
      },
      "source": [
        "# Example of Neutral tweets\n",
        "data[data['airline_sentiment'] == 'neutral']['text'].head()"
      ],
      "execution_count": null,
      "outputs": [
        {
          "output_type": "execute_result",
          "data": {
            "text/plain": [
              "0                                                                              @VirginAmerica What @dhepburn said.\n",
              "2                                          @VirginAmerica I didn't today... Must mean I need to take another trip!\n",
              "7     @VirginAmerica Really missed a prime opportunity for Men Without Hats parody, there. https://t.co/mWpG7grEZP\n",
              "10                 @VirginAmerica did you know that suicide is the second leading cause of death among teens 10-24\n",
              "23                                 @VirginAmerica will you be making BOS&gt;LAS non stop permanently anytime soon?\n",
              "Name: text, dtype: object"
            ]
          },
          "metadata": {
            "tags": []
          },
          "execution_count": 11
        }
      ]
    },
    {
      "cell_type": "code",
      "metadata": {
        "colab": {
          "base_uri": "https://localhost:8080/"
        },
        "id": "mUTBJKiewJ8v",
        "outputId": "34226b20-2706-479d-fd05-40b7606f58ea"
      },
      "source": [
        "# Different types of airlines\n",
        "data['airline'].value_counts()"
      ],
      "execution_count": null,
      "outputs": [
        {
          "output_type": "execute_result",
          "data": {
            "text/plain": [
              "United            3822\n",
              "US Airways        2913\n",
              "American          2759\n",
              "Southwest         2420\n",
              "Delta             2222\n",
              "Virgin America     504\n",
              "Name: airline, dtype: int64"
            ]
          },
          "metadata": {
            "tags": []
          },
          "execution_count": 12
        }
      ]
    },
    {
      "cell_type": "markdown",
      "metadata": {
        "id": "Vw4ajHd0xvQZ"
      },
      "source": [
        "> There are more number of tweets for 'United' airlines and least for 'Virgin America' airlines."
      ]
    },
    {
      "cell_type": "code",
      "metadata": {
        "colab": {
          "base_uri": "https://localhost:8080/"
        },
        "id": "kzdz1s4axFIA",
        "outputId": "e5a00589-4bce-48dd-8ea0-d9d57f270325"
      },
      "source": [
        "# sentiments for different airlines\n",
        "plt.figure(figsize = (10,5));\n",
        "sns.countplot(x = data['airline'], hue = data['airline_sentiment']);"
      ],
      "execution_count": null,
      "outputs": [
        {
          "output_type": "display_data",
          "data": {
            "image/png": "[encoded data removed]",
            "text/plain": [
              "<Figure size 720x360 with 1 Axes>"
            ]
          },
          "metadata": {
            "tags": [],
            "needs_background": "light"
          }
        }
      ]
    },
    {
      "cell_type": "markdown",
      "metadata": {
        "id": "PxDNl33Ex8Te"
      },
      "source": [
        "> Among different tweets for airlines, maximum number of negative tweets are for 'United' airlines, max number of neutral tweets are for 'United', 'Southwest' and 'Delta' airlines, and max number of positive tweets are for 'Southwest' and 'Delta' airlines. "
      ]
    },
    {
      "cell_type": "code",
      "metadata": {
        "colab": {
          "base_uri": "https://localhost:8080/"
        },
        "id": "2bLm-g0zymYk",
        "outputId": "c8cc5974-d1ae-4f1d-adb8-b7be543709fe"
      },
      "source": [
        "# Reasons for negative tweets\n",
        "print(data['negativereason'].unique())\n",
        "print('\\nTop Reasons for negative tweets:')\n",
        "print(data['negativereason'].value_counts())"
      ],
      "execution_count": null,
      "outputs": [
        {
          "output_type": "stream",
          "text": [
            "[nan 'Bad Flight' \"Can't Tell\" 'Late Flight' 'Customer Service Issue'\n",
            " 'Flight Booking Problems' 'Lost Luggage' 'Flight Attendant Complaints'\n",
            " 'Cancelled Flight' 'Damaged Luggage' 'longlines']\n",
            "\n",
            "Top Reasons for negative tweets:\n",
            "Customer Service Issue         2910\n",
            "Late Flight                    1665\n",
            "Can't Tell                     1190\n",
            "Cancelled Flight                847\n",
            "Lost Luggage                    724\n",
            "Bad Flight                      580\n",
            "Flight Booking Problems         529\n",
            "Flight Attendant Complaints     481\n",
            "longlines                       178\n",
            "Damaged Luggage                  74\n",
            "Name: negativereason, dtype: int64\n"
          ],
          "name": "stdout"
        }
      ]
    },
    {
      "cell_type": "markdown",
      "metadata": {
        "id": "WuOfjmj4yspB"
      },
      "source": [
        "> The most popular reasons for negative tweets are customer service issues, late flight, cancelled flight, lost lugagge, bad flight, flight booking problems, flight attendant complaints, longliness, and least number of negative tweets for damaged luggage. "
      ]
    },
    {
      "cell_type": "code",
      "metadata": {
        "colab": {
          "base_uri": "https://localhost:8080/"
        },
        "id": "lTvMEnF-ZLAq",
        "outputId": "13487024-9061-46c5-d319-f41069e8afa3"
      },
      "source": [
        "# Number of times tweets are retweeted\n",
        "sns.distplot(data['retweet_count']);"
      ],
      "execution_count": null,
      "outputs": [
        {
          "output_type": "display_data",
          "data": {
            "image/png": "[encoded data removed]",
            "text/plain": [
              "<Figure size 432x288 with 1 Axes>"
            ]
          },
          "metadata": {
            "tags": [],
            "needs_background": "light"
          }
        }
      ]
    },
    {
      "cell_type": "code",
      "metadata": {
        "colab": {
          "base_uri": "https://localhost:8080/"
        },
        "id": "yMdeDdoX0PFY",
        "outputId": "dd8743fd-f9f7-4e7f-daf6-268a7619f9de"
      },
      "source": [
        "# airline sentiments that are retweeted maximum number of times\n",
        "data[data['retweet_count'] > 10][['retweet_count', 'airline_sentiment']].sort_values(by = 'retweet_count')"
      ],
      "execution_count": null,
      "outputs": [
        {
          "output_type": "execute_result",
          "data": {
            "text/html": [
              "<div>\n",
              "<style scoped>\n",
              "    .dataframe tbody tr th:only-of-type {\n",
              "        vertical-align: middle;\n",
              "    }\n",
              "\n",
              "    .dataframe tbody tr th {\n",
              "        vertical-align: top;\n",
              "    }\n",
              "\n",
              "    .dataframe thead th {\n",
              "        text-align: right;\n",
              "    }\n",
              "</style>\n",
              "<table border=\"1\" class=\"dataframe\">\n",
              "  <thead>\n",
              "    <tr style=\"text-align: right;\">\n",
              "      <th></th>\n",
              "      <th>retweet_count</th>\n",
              "      <th>airline_sentiment</th>\n",
              "    </tr>\n",
              "  </thead>\n",
              "  <tbody>\n",
              "    <tr>\n",
              "      <th>7453</th>\n",
              "      <td>11</td>\n",
              "      <td>positive</td>\n",
              "    </tr>\n",
              "    <tr>\n",
              "      <th>7111</th>\n",
              "      <td>15</td>\n",
              "      <td>neutral</td>\n",
              "    </tr>\n",
              "    <tr>\n",
              "      <th>7027</th>\n",
              "      <td>18</td>\n",
              "      <td>negative</td>\n",
              "    </tr>\n",
              "    <tr>\n",
              "      <th>5607</th>\n",
              "      <td>22</td>\n",
              "      <td>positive</td>\n",
              "    </tr>\n",
              "    <tr>\n",
              "      <th>7115</th>\n",
              "      <td>22</td>\n",
              "      <td>negative</td>\n",
              "    </tr>\n",
              "    <tr>\n",
              "      <th>9999</th>\n",
              "      <td>28</td>\n",
              "      <td>neutral</td>\n",
              "    </tr>\n",
              "    <tr>\n",
              "      <th>7132</th>\n",
              "      <td>31</td>\n",
              "      <td>negative</td>\n",
              "    </tr>\n",
              "    <tr>\n",
              "      <th>11582</th>\n",
              "      <td>32</td>\n",
              "      <td>negative</td>\n",
              "    </tr>\n",
              "    <tr>\n",
              "      <th>11596</th>\n",
              "      <td>44</td>\n",
              "      <td>negative</td>\n",
              "    </tr>\n",
              "  </tbody>\n",
              "</table>\n",
              "</div>"
            ],
            "text/plain": [
              "       retweet_count airline_sentiment\n",
              "7453              11          positive\n",
              "7111              15           neutral\n",
              "7027              18          negative\n",
              "5607              22          positive\n",
              "7115              22          negative\n",
              "9999              28           neutral\n",
              "7132              31          negative\n",
              "11582             32          negative\n",
              "11596             44          negative"
            ]
          },
          "metadata": {
            "tags": []
          },
          "execution_count": 16
        }
      ]
    },
    {
      "cell_type": "markdown",
      "metadata": {
        "id": "gh0uiFbo0GFx"
      },
      "source": [
        "> Mostly the tweets are not retweeted, but there are times when negative sentiments are retweeted more than 30 times. "
      ]
    },
    {
      "cell_type": "code",
      "metadata": {
        "colab": {
          "base_uri": "https://localhost:8080/"
        },
        "id": "ImSfyOjf0FHk",
        "outputId": "4671795f-966e-48f0-fa70-82a0ca0e69e1"
      },
      "source": [
        "# Popular tweet locations\n",
        "data['tweet_location'].value_counts()"
      ],
      "execution_count": null,
      "outputs": [
        {
          "output_type": "execute_result",
          "data": {
            "text/plain": [
              "Boston, MA                   157\n",
              "New York, NY                 156\n",
              "Washington, DC               150\n",
              "New York                     127\n",
              "USA                          126\n",
              "                            ... \n",
              "where ever i lay my hat        1\n",
              "united states georgia          1\n",
              "WDVE PITTSBURGH                1\n",
              "Major metro area, USA          1\n",
              "#SF#Optimist #Freefalling      1\n",
              "Name: tweet_location, Length: 3081, dtype: int64"
            ]
          },
          "metadata": {
            "tags": []
          },
          "execution_count": 17
        }
      ]
    },
    {
      "cell_type": "markdown",
      "metadata": {
        "id": "-u7O2D7K1ugJ"
      },
      "source": [
        "> The top 3 locations for tweets are Boston, New York and Washington DC. "
      ]
    },
    {
      "cell_type": "code",
      "metadata": {
        "colab": {
          "base_uri": "https://localhost:8080/"
        },
        "id": "NIr86NTs1twK",
        "outputId": "003e9cd3-da8b-428c-f4bb-1270b9bee359"
      },
      "source": [
        "# Twitter user time-zone\n",
        "data['user_timezone'].value_counts()"
      ],
      "execution_count": null,
      "outputs": [
        {
          "output_type": "execute_result",
          "data": {
            "text/plain": [
              "Eastern Time (US & Canada)    3744\n",
              "Central Time (US & Canada)    1931\n",
              "Pacific Time (US & Canada)    1208\n",
              "Quito                          738\n",
              "Atlantic Time (Canada)         497\n",
              "                              ... \n",
              "Warsaw                           1\n",
              "Bern                             1\n",
              "Lisbon                           1\n",
              "Istanbul                         1\n",
              "Kuala Lumpur                     1\n",
              "Name: user_timezone, Length: 85, dtype: int64"
            ]
          },
          "metadata": {
            "tags": []
          },
          "execution_count": 18
        }
      ]
    },
    {
      "cell_type": "markdown",
      "metadata": {
        "id": "jec2RAfp2Jva"
      },
      "source": [
        "> Majority of the users who tweet about airlines are from Eastern Time zone (US & Canada)."
      ]
    },
    {
      "cell_type": "code",
      "metadata": {
        "colab": {
          "base_uri": "https://localhost:8080/"
        },
        "id": "CLKbWzcHjO9t",
        "outputId": "91cf313c-6ff8-49e6-f9f8-e6e4375c8604"
      },
      "source": [
        "# check the confidence of airline sentiments\n",
        "data[data['airline_sentiment_confidence'] != 1.0][['text','airline_sentiment','airline_sentiment_confidence']]"
      ],
      "execution_count": null,
      "outputs": [
        {
          "output_type": "execute_result",
          "data": {
            "text/html": [
              "<div>\n",
              "<style scoped>\n",
              "    .dataframe tbody tr th:only-of-type {\n",
              "        vertical-align: middle;\n",
              "    }\n",
              "\n",
              "    .dataframe tbody tr th {\n",
              "        vertical-align: top;\n",
              "    }\n",
              "\n",
              "    .dataframe thead th {\n",
              "        text-align: right;\n",
              "    }\n",
              "</style>\n",
              "<table border=\"1\" class=\"dataframe\">\n",
              "  <thead>\n",
              "    <tr style=\"text-align: right;\">\n",
              "      <th></th>\n",
              "      <th>text</th>\n",
              "      <th>airline_sentiment</th>\n",
              "      <th>airline_sentiment_confidence</th>\n",
              "    </tr>\n",
              "  </thead>\n",
              "  <tbody>\n",
              "    <tr>\n",
              "      <th>1</th>\n",
              "      <td>@VirginAmerica plus you've added commercials to the experience... tacky.</td>\n",
              "      <td>positive</td>\n",
              "      <td>0.3486</td>\n",
              "    </tr>\n",
              "    <tr>\n",
              "      <th>2</th>\n",
              "      <td>@VirginAmerica I didn't today... Must mean I need to take another trip!</td>\n",
              "      <td>neutral</td>\n",
              "      <td>0.6837</td>\n",
              "    </tr>\n",
              "    <tr>\n",
              "      <th>6</th>\n",
              "      <td>@VirginAmerica yes, nearly every time I fly VX this “ear worm” won’t go away :)</td>\n",
              "      <td>positive</td>\n",
              "      <td>0.6745</td>\n",
              "    </tr>\n",
              "    <tr>\n",
              "      <th>7</th>\n",
              "      <td>@VirginAmerica Really missed a prime opportunity for Men Without Hats parody, there. https://t.co/mWpG7grEZP</td>\n",
              "      <td>neutral</td>\n",
              "      <td>0.6340</td>\n",
              "    </tr>\n",
              "    <tr>\n",
              "      <th>8</th>\n",
              "      <td>@virginamerica Well, I didn't…but NOW I DO! :-D</td>\n",
              "      <td>positive</td>\n",
              "      <td>0.6559</td>\n",
              "    </tr>\n",
              "    <tr>\n",
              "      <th>...</th>\n",
              "      <td>...</td>\n",
              "      <td>...</td>\n",
              "      <td>...</td>\n",
              "    </tr>\n",
              "    <tr>\n",
              "      <th>14623</th>\n",
              "      <td>@AmericanAir Love the new planes for the JFK-LAX run.  Maybe one day I will be on one where the amenities all function.  #NoCharge #Ever</td>\n",
              "      <td>positive</td>\n",
              "      <td>0.6274</td>\n",
              "    </tr>\n",
              "    <tr>\n",
              "      <th>14632</th>\n",
              "      <td>“@AmericanAir: @TilleyMonsta George, that doesn't look good. Please follow this link to start the refund process: http://t.co/4gr39s91Dl”😂</td>\n",
              "      <td>neutral</td>\n",
              "      <td>0.6760</td>\n",
              "    </tr>\n",
              "    <tr>\n",
              "      <th>14634</th>\n",
              "      <td>@AmericanAir right on cue with the delays👌</td>\n",
              "      <td>negative</td>\n",
              "      <td>0.6684</td>\n",
              "    </tr>\n",
              "    <tr>\n",
              "      <th>14635</th>\n",
              "      <td>@AmericanAir thank you we got on a different flight to Chicago.</td>\n",
              "      <td>positive</td>\n",
              "      <td>0.3487</td>\n",
              "    </tr>\n",
              "    <tr>\n",
              "      <th>14639</th>\n",
              "      <td>@AmericanAir we have 8 ppl so we need 2 know how many seats are on the next flight. Plz put us on standby for 4 people on the next flight?</td>\n",
              "      <td>neutral</td>\n",
              "      <td>0.6771</td>\n",
              "    </tr>\n",
              "  </tbody>\n",
              "</table>\n",
              "<p>4195 rows × 3 columns</p>\n",
              "</div>"
            ],
            "text/plain": [
              "                                                                                                                                             text  ... airline_sentiment_confidence\n",
              "1                                                                        @VirginAmerica plus you've added commercials to the experience... tacky.  ...                       0.3486\n",
              "2                                                                         @VirginAmerica I didn't today... Must mean I need to take another trip!  ...                       0.6837\n",
              "6                                                                 @VirginAmerica yes, nearly every time I fly VX this “ear worm” won’t go away :)  ...                       0.6745\n",
              "7                                    @VirginAmerica Really missed a prime opportunity for Men Without Hats parody, there. https://t.co/mWpG7grEZP  ...                       0.6340\n",
              "8                                                                                                 @virginamerica Well, I didn't…but NOW I DO! :-D  ...                       0.6559\n",
              "...                                                                                                                                           ...  ...                          ...\n",
              "14623    @AmericanAir Love the new planes for the JFK-LAX run.  Maybe one day I will be on one where the amenities all function.  #NoCharge #Ever  ...                       0.6274\n",
              "14632  “@AmericanAir: @TilleyMonsta George, that doesn't look good. Please follow this link to start the refund process: http://t.co/4gr39s91Dl”😂  ...                       0.6760\n",
              "14634                                                                                                  @AmericanAir right on cue with the delays👌  ...                       0.6684\n",
              "14635                                                                             @AmericanAir thank you we got on a different flight to Chicago.  ...                       0.3487\n",
              "14639  @AmericanAir we have 8 ppl so we need 2 know how many seats are on the next flight. Plz put us on standby for 4 people on the next flight?  ...                       0.6771\n",
              "\n",
              "[4195 rows x 3 columns]"
            ]
          },
          "metadata": {
            "tags": []
          },
          "execution_count": 19
        }
      ]
    },
    {
      "cell_type": "markdown",
      "metadata": {
        "id": "Og0ZU4YhkvGE"
      },
      "source": [
        "> Even though the sentiment confidence levels are less than 1.0 for these tweets, they appear to add value to the model, so we keep them."
      ]
    },
    {
      "cell_type": "markdown",
      "metadata": {
        "id": "od2kU3-HZZDq"
      },
      "source": [
        "## Prepare data for sentiment analysis"
      ]
    },
    {
      "cell_type": "code",
      "metadata": {
        "colab": {
          "base_uri": "https://localhost:8080/"
        },
        "id": "zDst4h-gF-pv",
        "outputId": "aabb48a9-e10c-4308-b838-7e5fe43cc8b1"
      },
      "source": [
        "# Only keep 'text' and 'airline_sentiment' columns\n",
        "data = data[['airline_sentiment','text']]\n",
        "data.head(10) # first 10 rows"
      ],
      "execution_count": null,
      "outputs": [
        {
          "output_type": "execute_result",
          "data": {
            "text/html": [
              "<div>\n",
              "<style scoped>\n",
              "    .dataframe tbody tr th:only-of-type {\n",
              "        vertical-align: middle;\n",
              "    }\n",
              "\n",
              "    .dataframe tbody tr th {\n",
              "        vertical-align: top;\n",
              "    }\n",
              "\n",
              "    .dataframe thead th {\n",
              "        text-align: right;\n",
              "    }\n",
              "</style>\n",
              "<table border=\"1\" class=\"dataframe\">\n",
              "  <thead>\n",
              "    <tr style=\"text-align: right;\">\n",
              "      <th></th>\n",
              "      <th>airline_sentiment</th>\n",
              "      <th>text</th>\n",
              "    </tr>\n",
              "  </thead>\n",
              "  <tbody>\n",
              "    <tr>\n",
              "      <th>0</th>\n",
              "      <td>neutral</td>\n",
              "      <td>@VirginAmerica What @dhepburn said.</td>\n",
              "    </tr>\n",
              "    <tr>\n",
              "      <th>1</th>\n",
              "      <td>positive</td>\n",
              "      <td>@VirginAmerica plus you've added commercials to the experience... tacky.</td>\n",
              "    </tr>\n",
              "    <tr>\n",
              "      <th>2</th>\n",
              "      <td>neutral</td>\n",
              "      <td>@VirginAmerica I didn't today... Must mean I need to take another trip!</td>\n",
              "    </tr>\n",
              "    <tr>\n",
              "      <th>3</th>\n",
              "      <td>negative</td>\n",
              "      <td>@VirginAmerica it's really aggressive to blast obnoxious \"entertainment\" in your guests' faces &amp;amp; they have little recourse</td>\n",
              "    </tr>\n",
              "    <tr>\n",
              "      <th>4</th>\n",
              "      <td>negative</td>\n",
              "      <td>@VirginAmerica and it's a really big bad thing about it</td>\n",
              "    </tr>\n",
              "    <tr>\n",
              "      <th>5</th>\n",
              "      <td>negative</td>\n",
              "      <td>@VirginAmerica seriously would pay $30 a flight for seats that didn't have this playing.\\nit's really the only bad thing about flying VA</td>\n",
              "    </tr>\n",
              "    <tr>\n",
              "      <th>6</th>\n",
              "      <td>positive</td>\n",
              "      <td>@VirginAmerica yes, nearly every time I fly VX this “ear worm” won’t go away :)</td>\n",
              "    </tr>\n",
              "    <tr>\n",
              "      <th>7</th>\n",
              "      <td>neutral</td>\n",
              "      <td>@VirginAmerica Really missed a prime opportunity for Men Without Hats parody, there. https://t.co/mWpG7grEZP</td>\n",
              "    </tr>\n",
              "    <tr>\n",
              "      <th>8</th>\n",
              "      <td>positive</td>\n",
              "      <td>@virginamerica Well, I didn't…but NOW I DO! :-D</td>\n",
              "    </tr>\n",
              "    <tr>\n",
              "      <th>9</th>\n",
              "      <td>positive</td>\n",
              "      <td>@VirginAmerica it was amazing, and arrived an hour early. You're too good to me.</td>\n",
              "    </tr>\n",
              "  </tbody>\n",
              "</table>\n",
              "</div>"
            ],
            "text/plain": [
              "  airline_sentiment                                                                                                                                      text\n",
              "0           neutral                                                                                                       @VirginAmerica What @dhepburn said.\n",
              "1          positive                                                                  @VirginAmerica plus you've added commercials to the experience... tacky.\n",
              "2           neutral                                                                   @VirginAmerica I didn't today... Must mean I need to take another trip!\n",
              "3          negative            @VirginAmerica it's really aggressive to blast obnoxious \"entertainment\" in your guests' faces &amp; they have little recourse\n",
              "4          negative                                                                                   @VirginAmerica and it's a really big bad thing about it\n",
              "5          negative  @VirginAmerica seriously would pay $30 a flight for seats that didn't have this playing.\\nit's really the only bad thing about flying VA\n",
              "6          positive                                                           @VirginAmerica yes, nearly every time I fly VX this “ear worm” won’t go away :)\n",
              "7           neutral                              @VirginAmerica Really missed a prime opportunity for Men Without Hats parody, there. https://t.co/mWpG7grEZP\n",
              "8          positive                                                                                           @virginamerica Well, I didn't…but NOW I DO! :-D\n",
              "9          positive                                                          @VirginAmerica it was amazing, and arrived an hour early. You're too good to me."
            ]
          },
          "metadata": {
            "tags": []
          },
          "execution_count": 20
        }
      ]
    },
    {
      "cell_type": "code",
      "metadata": {
        "colab": {
          "base_uri": "https://localhost:8080/"
        },
        "id": "B-hzyqhplAcx",
        "outputId": "0c49ccb8-c8e0-4584-fa53-e9c164f50c64"
      },
      "source": [
        "data.tail(10) # last 10 rows"
      ],
      "execution_count": null,
      "outputs": [
        {
          "output_type": "execute_result",
          "data": {
            "text/html": [
              "<div>\n",
              "<style scoped>\n",
              "    .dataframe tbody tr th:only-of-type {\n",
              "        vertical-align: middle;\n",
              "    }\n",
              "\n",
              "    .dataframe tbody tr th {\n",
              "        vertical-align: top;\n",
              "    }\n",
              "\n",
              "    .dataframe thead th {\n",
              "        text-align: right;\n",
              "    }\n",
              "</style>\n",
              "<table border=\"1\" class=\"dataframe\">\n",
              "  <thead>\n",
              "    <tr style=\"text-align: right;\">\n",
              "      <th></th>\n",
              "      <th>airline_sentiment</th>\n",
              "      <th>text</th>\n",
              "    </tr>\n",
              "  </thead>\n",
              "  <tbody>\n",
              "    <tr>\n",
              "      <th>14630</th>\n",
              "      <td>positive</td>\n",
              "      <td>@AmericanAir Thanks! He is.</td>\n",
              "    </tr>\n",
              "    <tr>\n",
              "      <th>14631</th>\n",
              "      <td>negative</td>\n",
              "      <td>@AmericanAir thx for nothing on getting us out of the country and back to US. Broken plane? Come on. Get another one.</td>\n",
              "    </tr>\n",
              "    <tr>\n",
              "      <th>14632</th>\n",
              "      <td>neutral</td>\n",
              "      <td>“@AmericanAir: @TilleyMonsta George, that doesn't look good. Please follow this link to start the refund process: http://t.co/4gr39s91Dl”😂</td>\n",
              "    </tr>\n",
              "    <tr>\n",
              "      <th>14633</th>\n",
              "      <td>negative</td>\n",
              "      <td>@AmericanAir my flight was Cancelled Flightled, leaving tomorrow morning. Auto rebooked for a Tuesday night flight but need to arrive Monday.</td>\n",
              "    </tr>\n",
              "    <tr>\n",
              "      <th>14634</th>\n",
              "      <td>negative</td>\n",
              "      <td>@AmericanAir right on cue with the delays👌</td>\n",
              "    </tr>\n",
              "    <tr>\n",
              "      <th>14635</th>\n",
              "      <td>positive</td>\n",
              "      <td>@AmericanAir thank you we got on a different flight to Chicago.</td>\n",
              "    </tr>\n",
              "    <tr>\n",
              "      <th>14636</th>\n",
              "      <td>negative</td>\n",
              "      <td>@AmericanAir leaving over 20 minutes Late Flight. No warnings or communication until we were 15 minutes Late Flight. That's called shitty customer svc</td>\n",
              "    </tr>\n",
              "    <tr>\n",
              "      <th>14637</th>\n",
              "      <td>neutral</td>\n",
              "      <td>@AmericanAir Please bring American Airlines to #BlackBerry10</td>\n",
              "    </tr>\n",
              "    <tr>\n",
              "      <th>14638</th>\n",
              "      <td>negative</td>\n",
              "      <td>@AmericanAir you have my money, you change my flight, and don't answer your phones! Any other suggestions so I can make my commitment??</td>\n",
              "    </tr>\n",
              "    <tr>\n",
              "      <th>14639</th>\n",
              "      <td>neutral</td>\n",
              "      <td>@AmericanAir we have 8 ppl so we need 2 know how many seats are on the next flight. Plz put us on standby for 4 people on the next flight?</td>\n",
              "    </tr>\n",
              "  </tbody>\n",
              "</table>\n",
              "</div>"
            ],
            "text/plain": [
              "      airline_sentiment                                                                                                                                                    text\n",
              "14630          positive                                                                                                                             @AmericanAir Thanks! He is.\n",
              "14631          negative                                   @AmericanAir thx for nothing on getting us out of the country and back to US. Broken plane? Come on. Get another one.\n",
              "14632           neutral              “@AmericanAir: @TilleyMonsta George, that doesn't look good. Please follow this link to start the refund process: http://t.co/4gr39s91Dl”😂\n",
              "14633          negative           @AmericanAir my flight was Cancelled Flightled, leaving tomorrow morning. Auto rebooked for a Tuesday night flight but need to arrive Monday.\n",
              "14634          negative                                                                                                              @AmericanAir right on cue with the delays👌\n",
              "14635          positive                                                                                         @AmericanAir thank you we got on a different flight to Chicago.\n",
              "14636          negative  @AmericanAir leaving over 20 minutes Late Flight. No warnings or communication until we were 15 minutes Late Flight. That's called shitty customer svc\n",
              "14637           neutral                                                                                            @AmericanAir Please bring American Airlines to #BlackBerry10\n",
              "14638          negative                 @AmericanAir you have my money, you change my flight, and don't answer your phones! Any other suggestions so I can make my commitment??\n",
              "14639           neutral              @AmericanAir we have 8 ppl so we need 2 know how many seats are on the next flight. Plz put us on standby for 4 people on the next flight?"
            ]
          },
          "metadata": {
            "tags": []
          },
          "execution_count": 21
        }
      ]
    },
    {
      "cell_type": "markdown",
      "metadata": {
        "id": "WRuBqEC6lKdY"
      },
      "source": [
        "> The tweets text contains '@' sign, punctuations, emojis, 'ppl' for 'people', 'thx' for 'thanks', and also weblinks 'http://...' etc, so we need text preprocessing before model training."
      ]
    },
    {
      "cell_type": "code",
      "metadata": {
        "colab": {
          "base_uri": "https://localhost:8080/"
        },
        "id": "WPKf33RrGUPV",
        "outputId": "cf3fc5c2-d7b9-4236-cfcb-7ece7787efb5"
      },
      "source": [
        "# New shape of dataset\n",
        "data.shape"
      ],
      "execution_count": null,
      "outputs": [
        {
          "output_type": "execute_result",
          "data": {
            "text/plain": [
              "(14640, 2)"
            ]
          },
          "metadata": {
            "tags": []
          },
          "execution_count": 22
        }
      ]
    },
    {
      "cell_type": "code",
      "metadata": {
        "colab": {
          "base_uri": "https://localhost:8080/"
        },
        "id": "85EGyRnc0pJk",
        "outputId": "14a0a906-f4f6-4f0b-d4cd-1b7e92d2694f"
      },
      "source": [
        "# Data info\n",
        "data.info()"
      ],
      "execution_count": null,
      "outputs": [
        {
          "output_type": "stream",
          "text": [
            "<class 'pandas.core.frame.DataFrame'>\n",
            "RangeIndex: 14640 entries, 0 to 14639\n",
            "Data columns (total 2 columns):\n",
            " #   Column             Non-Null Count  Dtype \n",
            "---  ------             --------------  ----- \n",
            " 0   airline_sentiment  14640 non-null  object\n",
            " 1   text               14640 non-null  object\n",
            "dtypes: object(2)\n",
            "memory usage: 228.9+ KB\n"
          ],
          "name": "stdout"
        }
      ]
    },
    {
      "cell_type": "code",
      "metadata": {
        "colab": {
          "base_uri": "https://localhost:8080/"
        },
        "id": "ZYYDtOUk0sTi",
        "outputId": "662618b8-361b-49df-b226-04434007ea7a"
      },
      "source": [
        "# Check missing values\n",
        "data.isnull().sum()"
      ],
      "execution_count": null,
      "outputs": [
        {
          "output_type": "execute_result",
          "data": {
            "text/plain": [
              "airline_sentiment    0\n",
              "text                 0\n",
              "dtype: int64"
            ]
          },
          "metadata": {
            "tags": []
          },
          "execution_count": 24
        }
      ]
    },
    {
      "cell_type": "code",
      "metadata": {
        "colab": {
          "base_uri": "https://localhost:8080/"
        },
        "id": "rR-H6RvyGX_k",
        "outputId": "1ad674f6-6bbf-4e26-bea0-c9bc5de725ac"
      },
      "source": [
        "# Number of different types of tweets\n",
        "data['airline_sentiment'].value_counts()"
      ],
      "execution_count": null,
      "outputs": [
        {
          "output_type": "execute_result",
          "data": {
            "text/plain": [
              "negative    9178\n",
              "neutral     3099\n",
              "positive    2363\n",
              "Name: airline_sentiment, dtype: int64"
            ]
          },
          "metadata": {
            "tags": []
          },
          "execution_count": 25
        }
      ]
    },
    {
      "cell_type": "code",
      "metadata": {
        "colab": {
          "base_uri": "https://localhost:8080/"
        },
        "id": "0vYnc8WJGjjC",
        "outputId": "62160080-d709-46c5-c67a-1d6d67f410dd"
      },
      "source": [
        "# Percentage of different sentiments\n",
        "data['airline_sentiment'].value_counts(normalize = True)*100"
      ],
      "execution_count": null,
      "outputs": [
        {
          "output_type": "execute_result",
          "data": {
            "text/plain": [
              "negative    62.691257\n",
              "neutral     21.168033\n",
              "positive    16.140710\n",
              "Name: airline_sentiment, dtype: float64"
            ]
          },
          "metadata": {
            "tags": []
          },
          "execution_count": 26
        }
      ]
    },
    {
      "cell_type": "markdown",
      "metadata": {
        "id": "FB_HVKCjHKLK"
      },
      "source": [
        "> It is an imbalanced dataset"
      ]
    },
    {
      "cell_type": "code",
      "metadata": {
        "colab": {
          "base_uri": "https://localhost:8080/"
        },
        "id": "XRsJe8AyHIWk",
        "outputId": "60be440b-bede-4088-d6d9-5f4a3bfff443"
      },
      "source": [
        "# Distribution of length of tweets, in terms of number of words\n",
        "sns.distplot(data['text'].str.len(), bins = 20, kde = False);"
      ],
      "execution_count": null,
      "outputs": [
        {
          "output_type": "display_data",
          "data": {
            "image/png": "[encoded data removed]",
            "text/plain": [
              "<Figure size 432x288 with 1 Axes>"
            ]
          },
          "metadata": {
            "tags": [],
            "needs_background": "light"
          }
        }
      ]
    },
    {
      "cell_type": "markdown",
      "metadata": {
        "id": "GLH_wd-0dxum"
      },
      "source": [
        "# Step 3: Text Preprocessing:"
      ]
    },
    {
      "cell_type": "markdown",
      "metadata": {
        "id": "zNEsrpuHd5oL"
      },
      "source": [
        "Text Preprocessing involves:\n",
        "- Html tag removal.\n",
        "- Tokenization.\n",
        "- Remove the numbers.\n",
        "- Removal of Special Characters and Punctuations.\n",
        "- Conversion to lowercase.\n",
        "- Lemmatize or stemming.\n",
        "- Join the words in the list to convert back to text string in the dataframe. (So that each row\n",
        "contains the data in text format.)\n"
      ]
    },
    {
      "cell_type": "code",
      "metadata": {
        "colab": {
          "base_uri": "https://localhost:8080/"
        },
        "id": "yv8VtuGCiWN7",
        "outputId": "c13bcffd-ce56-4c04-85bb-fd2e6ba2a2c0"
      },
      "source": [
        "# Import libraries for text preprocessing\n",
        "!pip install contractions\n",
        "from bs4 import BeautifulSoup\n",
        "import contractions\n",
        "import re, string, unicodedata\n",
        "import nltk\n",
        "nltk.download('stopwords')\n",
        "nltk.download('punkt')\n",
        "nltk.download('wordnet')\n",
        "from nltk.corpus import stopwords\n",
        "from nltk.tokenize import word_tokenize, sent_tokenize\n",
        "from nltk.stem import WordNetLemmatizer, LancasterStemmer\n",
        "import spacy "
      ],
      "execution_count": null,
      "outputs": [
        {
          "output_type": "stream",
          "text": [
            "Requirement already satisfied: contractions in /usr/local/lib/python3.7/dist-packages (0.0.48)\n",
            "Requirement already satisfied: textsearch>=0.0.21 in /usr/local/lib/python3.7/dist-packages (from contractions) (0.0.21)\n",
            "Requirement already satisfied: pyahocorasick in /usr/local/lib/python3.7/dist-packages (from textsearch>=0.0.21->contractions) (1.4.1)\n",
            "Requirement already satisfied: anyascii in /usr/local/lib/python3.7/dist-packages (from textsearch>=0.0.21->contractions) (0.1.7)\n",
            "[nltk_data] Downloading package stopwords to /root/nltk_data...\n",
            "[nltk_data]   Package stopwords is already up-to-date!\n",
            "[nltk_data] Downloading package punkt to /root/nltk_data...\n",
            "[nltk_data]   Package punkt is already up-to-date!\n",
            "[nltk_data] Downloading package wordnet to /root/nltk_data...\n",
            "[nltk_data]   Package wordnet is already up-to-date!\n"
          ],
          "name": "stdout"
        }
      ]
    },
    {
      "cell_type": "code",
      "metadata": {
        "id": "JYeYWIhxHVSy"
      },
      "source": [
        "# Define functions for text preprocessing\n",
        "\n",
        "# Remove HTML Tags \n",
        "def strip_html(text):\n",
        "  soup = BeautifulSoup(text,\"html.parser\")\n",
        "  return soup.get_text()\n",
        "\n",
        "# Replace Contractions in the string\n",
        "def replace_contractions(text):\n",
        "  return contractions.fix(text)\n",
        "\n",
        "# Remove Special Characters\n",
        "def remove_special_chars(text, remove_digits = True):\n",
        "  pattern = r'[^a-zA-Z0-9\\s]' if not remove_digits else r'[^a-zA-Z\\s]' # Look for non-alphanumeric & non-spaces and remove them\n",
        "  text = re.sub(pattern,'',text)\n",
        "  return text \n",
        "\n",
        "# Removal of the http link using Regular Expression.\n",
        "def remove_weblink(text):\n",
        "  clean_text = re.sub(r\"http\\S+\", \"\", text)\n",
        "  return clean_text\n",
        " \n",
        "# Remove Non-ASCII characters/ Accented Characters\n",
        "def remove_non_ascii(words):\n",
        "  new_words = []\n",
        "  for word in words:\n",
        "    new_word = unicodedata.normalize('NFKD',word).encode('ascii','ignore').decode('utf-8','ignore')\n",
        "    new_words.append(new_word)\n",
        "  return new_words \n",
        "\n",
        "# Convert to lowercase\n",
        "def to_lowercase(words):\n",
        "  new_words = []\n",
        "  for word in words:\n",
        "    new_word = word.lower()\n",
        "    new_words.append(new_word)\n",
        "  return new_words\n",
        "\n",
        "# Remove Punctuation\n",
        "def remove_punctuation(words):\n",
        "  new_words = []\n",
        "  for word in words:\n",
        "    new_word = re.sub(r'[^\\w\\s]','',word)\n",
        "    if new_word != '':\n",
        "      new_words.append(new_word)\n",
        "  return new_words\n",
        "\n",
        "# Remove Stopwords\n",
        "stopwords_list = stopwords.words('english')\n",
        "stopwords_list.remove('no')\n",
        "stopwords_list.remove('not')\n",
        "def remove_stopwords(words):\n",
        "  new_words = []\n",
        "  for word in words:\n",
        "    if word not in stopwords_list:\n",
        "      new_words.append(word)\n",
        "  return new_words\n",
        "\n",
        "# Stemming\n",
        "def stem_words(words):\n",
        "    stemmer = LancasterStemmer()\n",
        "    stems = []                            # Create empty list to store pre-processed words.\n",
        "    for word in words:\n",
        "        stem = stemmer.stem(word)\n",
        "        stems.append(stem)                # Append processed words to new list.\n",
        "    return stems\n",
        "\n",
        "# Lemmatization\n",
        "def lemmatize_words(words):\n",
        "  lemmatizer = WordNetLemmatizer()\n",
        "  lemmas = []\n",
        "  for word in words:\n",
        "    lemma = lemmatizer.lemmatize(word, pos = 'v')\n",
        "    lemmas.append(lemma)\n",
        "  return lemmas \n",
        "\n",
        "# Tokenization\n",
        "def tokenize_text(text):\n",
        "  return nltk.word_tokenize(text)\n"
      ],
      "execution_count": null,
      "outputs": []
    },
    {
      "cell_type": "code",
      "metadata": {
        "colab": {
          "base_uri": "https://localhost:8080/"
        },
        "id": "oHHic7Qr_T-n",
        "outputId": "1cca6d48-23e8-42cd-d8be-965bda75c160"
      },
      "source": [
        "# Example of removing weblink\n",
        "print(data.at[14632,'text'])\n",
        "print(re.sub(r\"http\\S+\", \"\", data.at[14632, 'text']))   "
      ],
      "execution_count": null,
      "outputs": [
        {
          "output_type": "stream",
          "text": [
            "“@AmericanAir: @TilleyMonsta George, that doesn't look good. Please follow this link to start the refund process: http://t.co/4gr39s91Dl”😂\n",
            "“@AmericanAir: @TilleyMonsta George, that doesn't look good. Please follow this link to start the refund process: \n"
          ],
          "name": "stdout"
        }
      ]
    },
    {
      "cell_type": "code",
      "metadata": {
        "id": "ibVVqaiL2zIy"
      },
      "source": [
        "# Preprocess using stemming\n",
        "def normalize_s(words):\n",
        "  words = remove_non_ascii(words)\n",
        "  words = to_lowercase(words)\n",
        "  words = remove_punctuation(words)\n",
        "  words = remove_stopwords(words)\n",
        "  words = stem_words(words) # Stemming\n",
        "  return ' '.join(words)"
      ],
      "execution_count": null,
      "outputs": []
    },
    {
      "cell_type": "code",
      "metadata": {
        "id": "6BtZyReBkSpB"
      },
      "source": [
        "# Preprocess using lemmatization\n",
        "def normalize_l(words):\n",
        "  words = remove_non_ascii(words)\n",
        "  words = to_lowercase(words)\n",
        "  words = remove_punctuation(words)\n",
        "  words = remove_stopwords(words)\n",
        "  words = lemmatize_words(words) # Lemmatization\n",
        "  return ' '.join(words)"
      ],
      "execution_count": null,
      "outputs": []
    },
    {
      "cell_type": "code",
      "metadata": {
        "id": "a3gR9PJkkiJF"
      },
      "source": [
        "def data_preprocess(text):\n",
        "  text = strip_html(text)\n",
        "  text = replace_contractions(text)\n",
        "  text = remove_special_chars(text)\n",
        "  text = remove_weblink(text)\n",
        "  words = tokenize_text(text)\n",
        "  return words"
      ],
      "execution_count": null,
      "outputs": []
    },
    {
      "cell_type": "code",
      "metadata": {
        "colab": {
          "base_uri": "https://localhost:8080/"
        },
        "id": "CZCudvSAlRVP",
        "outputId": "038213cf-8191-4c5a-d2ec-4cc4ca0f4ff6"
      },
      "source": [
        "# Data before preprocessing\n",
        "data.head() # first 5 rows"
      ],
      "execution_count": null,
      "outputs": [
        {
          "output_type": "execute_result",
          "data": {
            "text/html": [
              "<div>\n",
              "<style scoped>\n",
              "    .dataframe tbody tr th:only-of-type {\n",
              "        vertical-align: middle;\n",
              "    }\n",
              "\n",
              "    .dataframe tbody tr th {\n",
              "        vertical-align: top;\n",
              "    }\n",
              "\n",
              "    .dataframe thead th {\n",
              "        text-align: right;\n",
              "    }\n",
              "</style>\n",
              "<table border=\"1\" class=\"dataframe\">\n",
              "  <thead>\n",
              "    <tr style=\"text-align: right;\">\n",
              "      <th></th>\n",
              "      <th>airline_sentiment</th>\n",
              "      <th>text</th>\n",
              "    </tr>\n",
              "  </thead>\n",
              "  <tbody>\n",
              "    <tr>\n",
              "      <th>0</th>\n",
              "      <td>neutral</td>\n",
              "      <td>@VirginAmerica What @dhepburn said.</td>\n",
              "    </tr>\n",
              "    <tr>\n",
              "      <th>1</th>\n",
              "      <td>positive</td>\n",
              "      <td>@VirginAmerica plus you've added commercials to the experience... tacky.</td>\n",
              "    </tr>\n",
              "    <tr>\n",
              "      <th>2</th>\n",
              "      <td>neutral</td>\n",
              "      <td>@VirginAmerica I didn't today... Must mean I need to take another trip!</td>\n",
              "    </tr>\n",
              "    <tr>\n",
              "      <th>3</th>\n",
              "      <td>negative</td>\n",
              "      <td>@VirginAmerica it's really aggressive to blast obnoxious \"entertainment\" in your guests' faces &amp;amp; they have little recourse</td>\n",
              "    </tr>\n",
              "    <tr>\n",
              "      <th>4</th>\n",
              "      <td>negative</td>\n",
              "      <td>@VirginAmerica and it's a really big bad thing about it</td>\n",
              "    </tr>\n",
              "  </tbody>\n",
              "</table>\n",
              "</div>"
            ],
            "text/plain": [
              "  airline_sentiment                                                                                                                            text\n",
              "0           neutral                                                                                             @VirginAmerica What @dhepburn said.\n",
              "1          positive                                                        @VirginAmerica plus you've added commercials to the experience... tacky.\n",
              "2           neutral                                                         @VirginAmerica I didn't today... Must mean I need to take another trip!\n",
              "3          negative  @VirginAmerica it's really aggressive to blast obnoxious \"entertainment\" in your guests' faces &amp; they have little recourse\n",
              "4          negative                                                                         @VirginAmerica and it's a really big bad thing about it"
            ]
          },
          "metadata": {
            "tags": []
          },
          "execution_count": 34
        }
      ]
    },
    {
      "cell_type": "code",
      "metadata": {
        "colab": {
          "base_uri": "https://localhost:8080/"
        },
        "id": "VNUyk_h0pMkh",
        "outputId": "90f54f1f-e151-4d11-86e5-f9cff72bdaf3"
      },
      "source": [
        "data.tail(10) # last 5 rows"
      ],
      "execution_count": null,
      "outputs": [
        {
          "output_type": "execute_result",
          "data": {
            "text/html": [
              "<div>\n",
              "<style scoped>\n",
              "    .dataframe tbody tr th:only-of-type {\n",
              "        vertical-align: middle;\n",
              "    }\n",
              "\n",
              "    .dataframe tbody tr th {\n",
              "        vertical-align: top;\n",
              "    }\n",
              "\n",
              "    .dataframe thead th {\n",
              "        text-align: right;\n",
              "    }\n",
              "</style>\n",
              "<table border=\"1\" class=\"dataframe\">\n",
              "  <thead>\n",
              "    <tr style=\"text-align: right;\">\n",
              "      <th></th>\n",
              "      <th>airline_sentiment</th>\n",
              "      <th>text</th>\n",
              "    </tr>\n",
              "  </thead>\n",
              "  <tbody>\n",
              "    <tr>\n",
              "      <th>14630</th>\n",
              "      <td>positive</td>\n",
              "      <td>@AmericanAir Thanks! He is.</td>\n",
              "    </tr>\n",
              "    <tr>\n",
              "      <th>14631</th>\n",
              "      <td>negative</td>\n",
              "      <td>@AmericanAir thx for nothing on getting us out of the country and back to US. Broken plane? Come on. Get another one.</td>\n",
              "    </tr>\n",
              "    <tr>\n",
              "      <th>14632</th>\n",
              "      <td>neutral</td>\n",
              "      <td>“@AmericanAir: @TilleyMonsta George, that doesn't look good. Please follow this link to start the refund process: http://t.co/4gr39s91Dl”😂</td>\n",
              "    </tr>\n",
              "    <tr>\n",
              "      <th>14633</th>\n",
              "      <td>negative</td>\n",
              "      <td>@AmericanAir my flight was Cancelled Flightled, leaving tomorrow morning. Auto rebooked for a Tuesday night flight but need to arrive Monday.</td>\n",
              "    </tr>\n",
              "    <tr>\n",
              "      <th>14634</th>\n",
              "      <td>negative</td>\n",
              "      <td>@AmericanAir right on cue with the delays👌</td>\n",
              "    </tr>\n",
              "    <tr>\n",
              "      <th>14635</th>\n",
              "      <td>positive</td>\n",
              "      <td>@AmericanAir thank you we got on a different flight to Chicago.</td>\n",
              "    </tr>\n",
              "    <tr>\n",
              "      <th>14636</th>\n",
              "      <td>negative</td>\n",
              "      <td>@AmericanAir leaving over 20 minutes Late Flight. No warnings or communication until we were 15 minutes Late Flight. That's called shitty customer svc</td>\n",
              "    </tr>\n",
              "    <tr>\n",
              "      <th>14637</th>\n",
              "      <td>neutral</td>\n",
              "      <td>@AmericanAir Please bring American Airlines to #BlackBerry10</td>\n",
              "    </tr>\n",
              "    <tr>\n",
              "      <th>14638</th>\n",
              "      <td>negative</td>\n",
              "      <td>@AmericanAir you have my money, you change my flight, and don't answer your phones! Any other suggestions so I can make my commitment??</td>\n",
              "    </tr>\n",
              "    <tr>\n",
              "      <th>14639</th>\n",
              "      <td>neutral</td>\n",
              "      <td>@AmericanAir we have 8 ppl so we need 2 know how many seats are on the next flight. Plz put us on standby for 4 people on the next flight?</td>\n",
              "    </tr>\n",
              "  </tbody>\n",
              "</table>\n",
              "</div>"
            ],
            "text/plain": [
              "      airline_sentiment                                                                                                                                                    text\n",
              "14630          positive                                                                                                                             @AmericanAir Thanks! He is.\n",
              "14631          negative                                   @AmericanAir thx for nothing on getting us out of the country and back to US. Broken plane? Come on. Get another one.\n",
              "14632           neutral              “@AmericanAir: @TilleyMonsta George, that doesn't look good. Please follow this link to start the refund process: http://t.co/4gr39s91Dl”😂\n",
              "14633          negative           @AmericanAir my flight was Cancelled Flightled, leaving tomorrow morning. Auto rebooked for a Tuesday night flight but need to arrive Monday.\n",
              "14634          negative                                                                                                              @AmericanAir right on cue with the delays👌\n",
              "14635          positive                                                                                         @AmericanAir thank you we got on a different flight to Chicago.\n",
              "14636          negative  @AmericanAir leaving over 20 minutes Late Flight. No warnings or communication until we were 15 minutes Late Flight. That's called shitty customer svc\n",
              "14637           neutral                                                                                            @AmericanAir Please bring American Airlines to #BlackBerry10\n",
              "14638          negative                 @AmericanAir you have my money, you change my flight, and don't answer your phones! Any other suggestions so I can make my commitment??\n",
              "14639           neutral              @AmericanAir we have 8 ppl so we need 2 know how many seats are on the next flight. Plz put us on standby for 4 people on the next flight?"
            ]
          },
          "metadata": {
            "tags": []
          },
          "execution_count": 35
        }
      ]
    },
    {
      "cell_type": "code",
      "metadata": {
        "id": "coNOOGxUlUBv"
      },
      "source": [
        "# preprocess data and convert into tokens\n",
        "data['text'] = data['text'].apply(lambda row: data_preprocess(row))"
      ],
      "execution_count": null,
      "outputs": []
    },
    {
      "cell_type": "code",
      "metadata": {
        "colab": {
          "base_uri": "https://localhost:8080/"
        },
        "id": "hNYgVIc40DQ0",
        "outputId": "013062f4-5fdf-465f-c51f-6bdc7c3e4158"
      },
      "source": [
        "# Data after tokenization\n",
        "data.head()"
      ],
      "execution_count": null,
      "outputs": [
        {
          "output_type": "execute_result",
          "data": {
            "text/html": [
              "<div>\n",
              "<style scoped>\n",
              "    .dataframe tbody tr th:only-of-type {\n",
              "        vertical-align: middle;\n",
              "    }\n",
              "\n",
              "    .dataframe tbody tr th {\n",
              "        vertical-align: top;\n",
              "    }\n",
              "\n",
              "    .dataframe thead th {\n",
              "        text-align: right;\n",
              "    }\n",
              "</style>\n",
              "<table border=\"1\" class=\"dataframe\">\n",
              "  <thead>\n",
              "    <tr style=\"text-align: right;\">\n",
              "      <th></th>\n",
              "      <th>airline_sentiment</th>\n",
              "      <th>text</th>\n",
              "    </tr>\n",
              "  </thead>\n",
              "  <tbody>\n",
              "    <tr>\n",
              "      <th>0</th>\n",
              "      <td>neutral</td>\n",
              "      <td>[VirginAmerica, What, dhepburn, said]</td>\n",
              "    </tr>\n",
              "    <tr>\n",
              "      <th>1</th>\n",
              "      <td>positive</td>\n",
              "      <td>[VirginAmerica, plus, you, have, added, commercials, to, the, experience, tacky]</td>\n",
              "    </tr>\n",
              "    <tr>\n",
              "      <th>2</th>\n",
              "      <td>neutral</td>\n",
              "      <td>[VirginAmerica, I, did, not, today, Must, mean, I, need, to, take, another, trip]</td>\n",
              "    </tr>\n",
              "    <tr>\n",
              "      <th>3</th>\n",
              "      <td>negative</td>\n",
              "      <td>[VirginAmerica, it, is, really, aggressive, to, blast, obnoxious, entertainment, in, your, guests, faces, they, have, little, recourse]</td>\n",
              "    </tr>\n",
              "    <tr>\n",
              "      <th>4</th>\n",
              "      <td>negative</td>\n",
              "      <td>[VirginAmerica, and, it, is, a, really, big, bad, thing, about, it]</td>\n",
              "    </tr>\n",
              "  </tbody>\n",
              "</table>\n",
              "</div>"
            ],
            "text/plain": [
              "  airline_sentiment                                                                                                                                     text\n",
              "0           neutral                                                                                                    [VirginAmerica, What, dhepburn, said]\n",
              "1          positive                                                         [VirginAmerica, plus, you, have, added, commercials, to, the, experience, tacky]\n",
              "2           neutral                                                        [VirginAmerica, I, did, not, today, Must, mean, I, need, to, take, another, trip]\n",
              "3          negative  [VirginAmerica, it, is, really, aggressive, to, blast, obnoxious, entertainment, in, your, guests, faces, they, have, little, recourse]\n",
              "4          negative                                                                      [VirginAmerica, and, it, is, a, really, big, bad, thing, about, it]"
            ]
          },
          "metadata": {
            "tags": []
          },
          "execution_count": 37
        }
      ]
    },
    {
      "cell_type": "code",
      "metadata": {
        "colab": {
          "base_uri": "https://localhost:8080/"
        },
        "id": "g2PwQJn4pgxn",
        "outputId": "3643a6c7-29b5-43b6-c2d2-90327b043406"
      },
      "source": [
        "data.tail(10)"
      ],
      "execution_count": null,
      "outputs": [
        {
          "output_type": "execute_result",
          "data": {
            "text/html": [
              "<div>\n",
              "<style scoped>\n",
              "    .dataframe tbody tr th:only-of-type {\n",
              "        vertical-align: middle;\n",
              "    }\n",
              "\n",
              "    .dataframe tbody tr th {\n",
              "        vertical-align: top;\n",
              "    }\n",
              "\n",
              "    .dataframe thead th {\n",
              "        text-align: right;\n",
              "    }\n",
              "</style>\n",
              "<table border=\"1\" class=\"dataframe\">\n",
              "  <thead>\n",
              "    <tr style=\"text-align: right;\">\n",
              "      <th></th>\n",
              "      <th>airline_sentiment</th>\n",
              "      <th>text</th>\n",
              "    </tr>\n",
              "  </thead>\n",
              "  <tbody>\n",
              "    <tr>\n",
              "      <th>14630</th>\n",
              "      <td>positive</td>\n",
              "      <td>[AmericanAir, Thanks, He, is]</td>\n",
              "    </tr>\n",
              "    <tr>\n",
              "      <th>14631</th>\n",
              "      <td>negative</td>\n",
              "      <td>[AmericanAir, thx, for, nothing, on, getting, us, out, of, the, country, and, back, to, US, Broken, plane, Come, on, Get, another, one]</td>\n",
              "    </tr>\n",
              "    <tr>\n",
              "      <th>14632</th>\n",
              "      <td>neutral</td>\n",
              "      <td>[AmericanAir, TilleyMonsta, George, that, does, not, look, good, Please, follow, this, link, to, start, the, refund, process]</td>\n",
              "    </tr>\n",
              "    <tr>\n",
              "      <th>14633</th>\n",
              "      <td>negative</td>\n",
              "      <td>[AmericanAir, my, flight, was, Cancelled, Flightled, leaving, tomorrow, morning, Auto, rebooked, for, a, Tuesday, night, flight, but, need, to, arrive, Monday]</td>\n",
              "    </tr>\n",
              "    <tr>\n",
              "      <th>14634</th>\n",
              "      <td>negative</td>\n",
              "      <td>[AmericanAir, right, on, cue, with, the, delays]</td>\n",
              "    </tr>\n",
              "    <tr>\n",
              "      <th>14635</th>\n",
              "      <td>positive</td>\n",
              "      <td>[AmericanAir, thank, you, we, got, on, a, different, flight, to, Chicago]</td>\n",
              "    </tr>\n",
              "    <tr>\n",
              "      <th>14636</th>\n",
              "      <td>negative</td>\n",
              "      <td>[AmericanAir, leaving, over, minutes, Late, Flight, No, warnings, or, communication, until, we, were, minutes, Late, Flight, that, is, called, shitty, customer, svc]</td>\n",
              "    </tr>\n",
              "    <tr>\n",
              "      <th>14637</th>\n",
              "      <td>neutral</td>\n",
              "      <td>[AmericanAir, Please, bring, American, Airlines, to, BlackBerry]</td>\n",
              "    </tr>\n",
              "    <tr>\n",
              "      <th>14638</th>\n",
              "      <td>negative</td>\n",
              "      <td>[AmericanAir, you, have, my, money, you, change, my, flight, and, do, not, answer, your, phones, Any, other, suggestions, so, I, can, make, my, commitment]</td>\n",
              "    </tr>\n",
              "    <tr>\n",
              "      <th>14639</th>\n",
              "      <td>neutral</td>\n",
              "      <td>[AmericanAir, we, have, ppl, so, we, need, know, how, many, seats, are, on, the, next, flight, Plz, put, us, on, standby, for, people, on, the, next, flight]</td>\n",
              "    </tr>\n",
              "  </tbody>\n",
              "</table>\n",
              "</div>"
            ],
            "text/plain": [
              "      airline_sentiment                                                                                                                                                                   text\n",
              "14630          positive                                                                                                                                          [AmericanAir, Thanks, He, is]\n",
              "14631          negative                                [AmericanAir, thx, for, nothing, on, getting, us, out, of, the, country, and, back, to, US, Broken, plane, Come, on, Get, another, one]\n",
              "14632           neutral                                          [AmericanAir, TilleyMonsta, George, that, does, not, look, good, Please, follow, this, link, to, start, the, refund, process]\n",
              "14633          negative        [AmericanAir, my, flight, was, Cancelled, Flightled, leaving, tomorrow, morning, Auto, rebooked, for, a, Tuesday, night, flight, but, need, to, arrive, Monday]\n",
              "14634          negative                                                                                                                       [AmericanAir, right, on, cue, with, the, delays]\n",
              "14635          positive                                                                                              [AmericanAir, thank, you, we, got, on, a, different, flight, to, Chicago]\n",
              "14636          negative  [AmericanAir, leaving, over, minutes, Late, Flight, No, warnings, or, communication, until, we, were, minutes, Late, Flight, that, is, called, shitty, customer, svc]\n",
              "14637           neutral                                                                                                       [AmericanAir, Please, bring, American, Airlines, to, BlackBerry]\n",
              "14638          negative            [AmericanAir, you, have, my, money, you, change, my, flight, and, do, not, answer, your, phones, Any, other, suggestions, so, I, can, make, my, commitment]\n",
              "14639           neutral          [AmericanAir, we, have, ppl, so, we, need, know, how, many, seats, are, on, the, next, flight, Plz, put, us, on, standby, for, people, on, the, next, flight]"
            ]
          },
          "metadata": {
            "tags": []
          },
          "execution_count": 38
        }
      ]
    },
    {
      "cell_type": "code",
      "metadata": {
        "id": "_HMKo1be3e7z"
      },
      "source": [
        "# Preprocess the tokens (Stemming)\n",
        "data['text_stem'] = data['text'].apply(lambda row: normalize_s(row))"
      ],
      "execution_count": null,
      "outputs": []
    },
    {
      "cell_type": "code",
      "metadata": {
        "id": "Q9gkVG--0Ejq"
      },
      "source": [
        "# Preprocess the tokens (Lemmatization)\n",
        "data['text_lemma'] = data['text'].apply(lambda row: normalize_l(row))"
      ],
      "execution_count": null,
      "outputs": []
    },
    {
      "cell_type": "code",
      "metadata": {
        "colab": {
          "base_uri": "https://localhost:8080/"
        },
        "id": "tBFnHo2Fdhwz",
        "outputId": "c6b84120-8755-4856-8811-26ff9db892de"
      },
      "source": [
        "# Data after stemming/lemmatization\n",
        "data.head()"
      ],
      "execution_count": null,
      "outputs": [
        {
          "output_type": "execute_result",
          "data": {
            "text/html": [
              "<div>\n",
              "<style scoped>\n",
              "    .dataframe tbody tr th:only-of-type {\n",
              "        vertical-align: middle;\n",
              "    }\n",
              "\n",
              "    .dataframe tbody tr th {\n",
              "        vertical-align: top;\n",
              "    }\n",
              "\n",
              "    .dataframe thead th {\n",
              "        text-align: right;\n",
              "    }\n",
              "</style>\n",
              "<table border=\"1\" class=\"dataframe\">\n",
              "  <thead>\n",
              "    <tr style=\"text-align: right;\">\n",
              "      <th></th>\n",
              "      <th>airline_sentiment</th>\n",
              "      <th>text</th>\n",
              "      <th>text_stem</th>\n",
              "      <th>text_lemma</th>\n",
              "    </tr>\n",
              "  </thead>\n",
              "  <tbody>\n",
              "    <tr>\n",
              "      <th>0</th>\n",
              "      <td>neutral</td>\n",
              "      <td>[VirginAmerica, What, dhepburn, said]</td>\n",
              "      <td>virginameric dhepburn said</td>\n",
              "      <td>virginamerica dhepburn say</td>\n",
              "    </tr>\n",
              "    <tr>\n",
              "      <th>1</th>\n",
              "      <td>positive</td>\n",
              "      <td>[VirginAmerica, plus, you, have, added, commercials, to, the, experience, tacky]</td>\n",
              "      <td>virginameric plu ad commerc expery tacky</td>\n",
              "      <td>virginamerica plus add commercials experience tacky</td>\n",
              "    </tr>\n",
              "    <tr>\n",
              "      <th>2</th>\n",
              "      <td>neutral</td>\n",
              "      <td>[VirginAmerica, I, did, not, today, Must, mean, I, need, to, take, another, trip]</td>\n",
              "      <td>virginameric not today must mean nee tak anoth trip</td>\n",
              "      <td>virginamerica not today must mean need take another trip</td>\n",
              "    </tr>\n",
              "    <tr>\n",
              "      <th>3</th>\n",
              "      <td>negative</td>\n",
              "      <td>[VirginAmerica, it, is, really, aggressive, to, blast, obnoxious, entertainment, in, your, guests, faces, they, have, little, recourse]</td>\n",
              "      <td>virginameric real aggress blast obnoxy entertain guest fac littl recours</td>\n",
              "      <td>virginamerica really aggressive blast obnoxious entertainment guests face little recourse</td>\n",
              "    </tr>\n",
              "    <tr>\n",
              "      <th>4</th>\n",
              "      <td>negative</td>\n",
              "      <td>[VirginAmerica, and, it, is, a, really, big, bad, thing, about, it]</td>\n",
              "      <td>virginameric real big bad thing</td>\n",
              "      <td>virginamerica really big bad thing</td>\n",
              "    </tr>\n",
              "  </tbody>\n",
              "</table>\n",
              "</div>"
            ],
            "text/plain": [
              "  airline_sentiment  ...                                                                                 text_lemma\n",
              "0           neutral  ...                                                                 virginamerica dhepburn say\n",
              "1          positive  ...                                        virginamerica plus add commercials experience tacky\n",
              "2           neutral  ...                                   virginamerica not today must mean need take another trip\n",
              "3          negative  ...  virginamerica really aggressive blast obnoxious entertainment guests face little recourse\n",
              "4          negative  ...                                                         virginamerica really big bad thing\n",
              "\n",
              "[5 rows x 4 columns]"
            ]
          },
          "metadata": {
            "tags": []
          },
          "execution_count": 41
        }
      ]
    },
    {
      "cell_type": "code",
      "metadata": {
        "colab": {
          "base_uri": "https://localhost:8080/"
        },
        "id": "-1UtWB7Ep8kL",
        "outputId": "040a5941-975c-4b71-bcef-a3c6aaa54dd4"
      },
      "source": [
        "data.tail()"
      ],
      "execution_count": null,
      "outputs": [
        {
          "output_type": "execute_result",
          "data": {
            "text/html": [
              "<div>\n",
              "<style scoped>\n",
              "    .dataframe tbody tr th:only-of-type {\n",
              "        vertical-align: middle;\n",
              "    }\n",
              "\n",
              "    .dataframe tbody tr th {\n",
              "        vertical-align: top;\n",
              "    }\n",
              "\n",
              "    .dataframe thead th {\n",
              "        text-align: right;\n",
              "    }\n",
              "</style>\n",
              "<table border=\"1\" class=\"dataframe\">\n",
              "  <thead>\n",
              "    <tr style=\"text-align: right;\">\n",
              "      <th></th>\n",
              "      <th>airline_sentiment</th>\n",
              "      <th>text</th>\n",
              "      <th>text_stem</th>\n",
              "      <th>text_lemma</th>\n",
              "    </tr>\n",
              "  </thead>\n",
              "  <tbody>\n",
              "    <tr>\n",
              "      <th>14635</th>\n",
              "      <td>positive</td>\n",
              "      <td>[AmericanAir, thank, you, we, got, on, a, different, flight, to, Chicago]</td>\n",
              "      <td>americanair thank got diff flight chicago</td>\n",
              "      <td>americanair thank get different flight chicago</td>\n",
              "    </tr>\n",
              "    <tr>\n",
              "      <th>14636</th>\n",
              "      <td>negative</td>\n",
              "      <td>[AmericanAir, leaving, over, minutes, Late, Flight, No, warnings, or, communication, until, we, were, minutes, Late, Flight, that, is, called, shitty, customer, svc]</td>\n",
              "      <td>americanair leav minut lat flight no warn commun minut lat flight cal shitty custom svc</td>\n",
              "      <td>americanair leave minutes late flight no warn communication minutes late flight call shitty customer svc</td>\n",
              "    </tr>\n",
              "    <tr>\n",
              "      <th>14637</th>\n",
              "      <td>neutral</td>\n",
              "      <td>[AmericanAir, Please, bring, American, Airlines, to, BlackBerry]</td>\n",
              "      <td>americanair pleas bring am airlin blackberry</td>\n",
              "      <td>americanair please bring american airlines blackberry</td>\n",
              "    </tr>\n",
              "    <tr>\n",
              "      <th>14638</th>\n",
              "      <td>negative</td>\n",
              "      <td>[AmericanAir, you, have, my, money, you, change, my, flight, and, do, not, answer, your, phones, Any, other, suggestions, so, I, can, make, my, commitment]</td>\n",
              "      <td>americanair money chang flight not answ phon suggest mak commit</td>\n",
              "      <td>americanair money change flight not answer phone suggestions make commitment</td>\n",
              "    </tr>\n",
              "    <tr>\n",
              "      <th>14639</th>\n",
              "      <td>neutral</td>\n",
              "      <td>[AmericanAir, we, have, ppl, so, we, need, know, how, many, seats, are, on, the, next, flight, Plz, put, us, on, standby, for, people, on, the, next, flight]</td>\n",
              "      <td>americanair ppl nee know many seat next flight plz put us standby peopl next flight</td>\n",
              "      <td>americanair ppl need know many seat next flight plz put us standby people next flight</td>\n",
              "    </tr>\n",
              "  </tbody>\n",
              "</table>\n",
              "</div>"
            ],
            "text/plain": [
              "      airline_sentiment  ...                                                                                                text_lemma\n",
              "14635          positive  ...                                                            americanair thank get different flight chicago\n",
              "14636          negative  ...  americanair leave minutes late flight no warn communication minutes late flight call shitty customer svc\n",
              "14637           neutral  ...                                                     americanair please bring american airlines blackberry\n",
              "14638          negative  ...                              americanair money change flight not answer phone suggestions make commitment\n",
              "14639           neutral  ...                     americanair ppl need know many seat next flight plz put us standby people next flight\n",
              "\n",
              "[5 rows x 4 columns]"
            ]
          },
          "metadata": {
            "tags": []
          },
          "execution_count": 42
        }
      ]
    },
    {
      "cell_type": "markdown",
      "metadata": {
        "id": "0dqRIkzKng4K"
      },
      "source": [
        "> **Stemming** just removes or stems the last few characters of a word, often leading to incorrect meanings and spelling. **Lemmatization** considers the context and converts the word to its meaningful base form, which is called Lemma. \n",
        "\n",
        "Examples\n",
        "- Index 1: 'commercials' -> 'commerc' (stem) & 'commercials' (lemma) \n",
        "- Index 3: 'faces' -> 'fac' (stem) & 'face' (lemma)\n",
        "- Index 14635: 'got' -> 'got' (stem) & 'get' (lemma)\n",
        "- Index 14638: 'phones' -> 'phon' (stem) & 'phone' (lemma)\n",
        "\n",
        "> Hence, by Stemming we are loosing context because some of the important words become meaningless stems. It makes more sense to use Lemmatization which adds value to the context. eg. word 'phone' is useful when deciding whether customer service on call is being talked about in a positive/negative way. Although, we still continue to build models using both stemming/lemmatization and make our choice later on."
      ]
    },
    {
      "cell_type": "code",
      "metadata": {
        "id": "13u-PLvqeP7d"
      },
      "source": [
        "# Label encoding of target variable\n",
        "from sklearn.preprocessing import LabelEncoder\n",
        "le = LabelEncoder()\n",
        "labels = le.fit_transform(data['airline_sentiment'])"
      ],
      "execution_count": null,
      "outputs": []
    },
    {
      "cell_type": "code",
      "metadata": {
        "colab": {
          "base_uri": "https://localhost:8080/"
        },
        "id": "PXaNDv_6fjYE",
        "outputId": "847f064e-01dd-4db4-9adb-b17579f8b790"
      },
      "source": [
        "labels"
      ],
      "execution_count": null,
      "outputs": [
        {
          "output_type": "execute_result",
          "data": {
            "text/plain": [
              "array([1, 2, 1, ..., 1, 0, 1])"
            ]
          },
          "metadata": {
            "tags": []
          },
          "execution_count": 44
        }
      ]
    },
    {
      "cell_type": "code",
      "metadata": {
        "colab": {
          "base_uri": "https://localhost:8080/"
        },
        "id": "N9nm5tA6nOCi",
        "outputId": "b5c546aa-3b85-4d94-c5a1-eb85de5099ab"
      },
      "source": [
        "le.classes_"
      ],
      "execution_count": null,
      "outputs": [
        {
          "output_type": "execute_result",
          "data": {
            "text/plain": [
              "array(['negative', 'neutral', 'positive'], dtype=object)"
            ]
          },
          "metadata": {
            "tags": []
          },
          "execution_count": 45
        }
      ]
    },
    {
      "cell_type": "code",
      "metadata": {
        "id": "bAVKIbT6ngbn"
      },
      "source": [
        "labels_dict = {0: 'negative',\n",
        "               1: 'neutral',\n",
        "               2: 'positive'}"
      ],
      "execution_count": null,
      "outputs": []
    },
    {
      "cell_type": "code",
      "metadata": {
        "colab": {
          "base_uri": "https://localhost:8080/"
        },
        "id": "dDUmMASONwB0",
        "outputId": "ff1ec169-dea2-47ab-ae04-eaf793ddb902"
      },
      "source": [
        "# One hot encoding of target variable (for neural network)\n",
        "from tensorflow.keras.utils import to_categorical\n",
        "y = to_categorical(labels, num_classes = 3)\n",
        "print(y)"
      ],
      "execution_count": null,
      "outputs": [
        {
          "output_type": "stream",
          "text": [
            "[[0. 1. 0.]\n",
            " [0. 0. 1.]\n",
            " [0. 1. 0.]\n",
            " ...\n",
            " [0. 1. 0.]\n",
            " [1. 0. 0.]\n",
            " [0. 1. 0.]]\n"
          ],
          "name": "stdout"
        }
      ]
    },
    {
      "cell_type": "code",
      "metadata": {
        "colab": {
          "base_uri": "https://localhost:8080/"
        },
        "id": "1MIltn9VN7Na",
        "outputId": "6aa93317-dc6e-41b1-a0d3-8f98118431df"
      },
      "source": [
        "# Shape of categorical target variable (for neural network)\n",
        "y.shape"
      ],
      "execution_count": null,
      "outputs": [
        {
          "output_type": "execute_result",
          "data": {
            "text/plain": [
              "(14640, 3)"
            ]
          },
          "metadata": {
            "tags": []
          },
          "execution_count": 48
        }
      ]
    },
    {
      "cell_type": "markdown",
      "metadata": {
        "id": "VFXrYfHD1YFl"
      },
      "source": [
        "# Step 4: Split Dataset:"
      ]
    },
    {
      "cell_type": "code",
      "metadata": {
        "colab": {
          "base_uri": "https://localhost:8080/"
        },
        "id": "HLuyGbN01bq1",
        "outputId": "02e64128-e500-461f-a9ea-02b07b05df67"
      },
      "source": [
        "# Split dataset into training & testing set (Stemming)\n",
        "from sklearn.model_selection import train_test_split\n",
        "stem_x_train, stem_x_test, stem_y_train, stem_y_test = train_test_split(data['text_stem'], labels, \n",
        "                                                    test_size = 0.3, random_state = 0)\n",
        "print(\"Training Set:\")\n",
        "print(stem_x_train.shape)\n",
        "print(stem_y_train.shape)\n",
        "print(' ')\n",
        "print(\"Testing Set:\")\n",
        "print(stem_x_test.shape)\n",
        "print(stem_y_test.shape)"
      ],
      "execution_count": null,
      "outputs": [
        {
          "output_type": "stream",
          "text": [
            "Training Set:\n",
            "(10248,)\n",
            "(10248,)\n",
            " \n",
            "Testing Set:\n",
            "(4392,)\n",
            "(4392,)\n"
          ],
          "name": "stdout"
        }
      ]
    },
    {
      "cell_type": "code",
      "metadata": {
        "colab": {
          "base_uri": "https://localhost:8080/"
        },
        "id": "lnM6ghIX1qpN",
        "outputId": "f5a98fc9-3361-4fa5-f31a-f11e8cdea989"
      },
      "source": [
        "# Split dataset into training, validation & testing set (Lemmatization)\n",
        "lemma_x_train, lemma_x_test, lemma_y_train, lemma_y_test = train_test_split(data['text_lemma'], labels, \n",
        "                                                    test_size = 0.3, random_state = 0)\n",
        "print(\"Training Set:\")\n",
        "print(lemma_x_train.shape)\n",
        "print(lemma_y_train.shape)\n",
        "print(' ')\n",
        "print(\"Testing Set:\")\n",
        "print(lemma_x_test.shape)\n",
        "print(lemma_y_test.shape)"
      ],
      "execution_count": null,
      "outputs": [
        {
          "output_type": "stream",
          "text": [
            "Training Set:\n",
            "(10248,)\n",
            "(10248,)\n",
            " \n",
            "Testing Set:\n",
            "(4392,)\n",
            "(4392,)\n"
          ],
          "name": "stdout"
        }
      ]
    },
    {
      "cell_type": "markdown",
      "metadata": {
        "id": "9Qh-AjVLeKZ-"
      },
      "source": [
        "# Step 5: Vectorization:"
      ]
    },
    {
      "cell_type": "markdown",
      "metadata": {
        "id": "cCtxBGI0Ay8M"
      },
      "source": [
        "## 5a. CountVectorizer (Bag of Words)"
      ]
    },
    {
      "cell_type": "code",
      "metadata": {
        "id": "V9E57AAqdkIX"
      },
      "source": [
        "from sklearn.feature_extraction.text import CountVectorizer\n",
        "vectorizer_c = CountVectorizer(max_features= 1000)"
      ],
      "execution_count": null,
      "outputs": []
    },
    {
      "cell_type": "code",
      "metadata": {
        "colab": {
          "base_uri": "https://localhost:8080/"
        },
        "id": "ihbRRHBm4Uoy",
        "outputId": "1a8eec3b-f71a-4497-e993-3ced5d8f836a"
      },
      "source": [
        "# Convert text to numbers (Stemming)\n",
        "stem_x_train_c = vectorizer_c.fit_transform(stem_x_train)\n",
        "stem_x_train_c = stem_x_train_c.toarray()\n",
        "print(stem_x_train_c.shape)\n",
        "\n",
        "stem_x_test_c = vectorizer_c.transform(stem_x_test)\n",
        "stem_x_test_c = stem_x_test_c.toarray()"
      ],
      "execution_count": null,
      "outputs": [
        {
          "output_type": "stream",
          "text": [
            "(10248, 1000)\n"
          ],
          "name": "stdout"
        }
      ]
    },
    {
      "cell_type": "code",
      "metadata": {
        "colab": {
          "base_uri": "https://localhost:8080/"
        },
        "id": "5udczCvYprC5",
        "outputId": "5ad71018-9956-4dfc-f759-135b32acf92d"
      },
      "source": [
        "# Convert text to numbers (Lemmatization)\n",
        "lemma_x_train_c = vectorizer_c.fit_transform(lemma_x_train)\n",
        "lemma_x_train_c = lemma_x_train_c.toarray()\n",
        "print(lemma_x_train_c.shape)\n",
        "\n",
        "lemma_x_test_c = vectorizer_c.transform(lemma_x_test)\n",
        "lemma_x_test_c = lemma_x_test_c.toarray()"
      ],
      "execution_count": null,
      "outputs": [
        {
          "output_type": "stream",
          "text": [
            "(10248, 1000)\n"
          ],
          "name": "stdout"
        }
      ]
    },
    {
      "cell_type": "markdown",
      "metadata": {
        "id": "DO1sphtHA4zN"
      },
      "source": [
        "## 5b. Tf-idf Vectorizer"
      ]
    },
    {
      "cell_type": "code",
      "metadata": {
        "id": "rwHarD7QA-Bz"
      },
      "source": [
        "from sklearn.feature_extraction.text import TfidfVectorizer\n",
        "vectorizer_t = TfidfVectorizer(max_features=1000)"
      ],
      "execution_count": null,
      "outputs": []
    },
    {
      "cell_type": "code",
      "metadata": {
        "colab": {
          "base_uri": "https://localhost:8080/"
        },
        "id": "6r7Da-eO420b",
        "outputId": "2c259779-2719-4668-b836-4395f6f2d52a"
      },
      "source": [
        "# Convert text to numbers (Stemming)\n",
        "stem_x_train_t = vectorizer_t.fit_transform(stem_x_train)\n",
        "stem_x_train_t = stem_x_train_t.toarray()\n",
        "print(stem_x_train_t.shape)\n",
        "\n",
        "stem_x_test_t = vectorizer_t.transform(stem_x_test)\n",
        "stem_x_test_t = stem_x_test_t.toarray()"
      ],
      "execution_count": null,
      "outputs": [
        {
          "output_type": "stream",
          "text": [
            "(10248, 1000)\n"
          ],
          "name": "stdout"
        }
      ]
    },
    {
      "cell_type": "code",
      "metadata": {
        "colab": {
          "base_uri": "https://localhost:8080/"
        },
        "id": "wSPujdSxqGqp",
        "outputId": "ba2483bc-da54-4f55-84e6-60dc7a94c8e2"
      },
      "source": [
        "# Convert text to numbers (Lemmatization)\n",
        "lemma_x_train_t = vectorizer_t.fit_transform(lemma_x_train)\n",
        "lemma_x_train_t = lemma_x_train_t.toarray()\n",
        "print(lemma_x_train_t.shape)\n",
        "\n",
        "lemma_x_test_t = vectorizer_t.transform(lemma_x_test)\n",
        "lemma_x_test_t = lemma_x_test_t.toarray()"
      ],
      "execution_count": null,
      "outputs": [
        {
          "output_type": "stream",
          "text": [
            "(10248, 1000)\n"
          ],
          "name": "stdout"
        }
      ]
    },
    {
      "cell_type": "markdown",
      "metadata": {
        "id": "sI5bVMvFIgi5"
      },
      "source": [
        "# Step 6: Model Training:"
      ]
    },
    {
      "cell_type": "code",
      "metadata": {
        "id": "Gz3R92-Sk12u"
      },
      "source": [
        "# Import libraries for model training\n",
        "from sklearn.ensemble import RandomForestClassifier\n",
        "from sklearn.model_selection import cross_val_score\n",
        "from sklearn.metrics import confusion_matrix, classification_report, f1_score, accuracy_score, recall_score, precision_score\n",
        "from sklearn.linear_model import LogisticRegression\n"
      ],
      "execution_count": null,
      "outputs": []
    },
    {
      "cell_type": "markdown",
      "metadata": {
        "id": "dzgKC0sNfsW_"
      },
      "source": [
        "## 6a. Random Forest Classifier:"
      ]
    },
    {
      "cell_type": "markdown",
      "metadata": {
        "id": "HY-FNUY6qjIJ"
      },
      "source": [
        "### Bag of Words"
      ]
    },
    {
      "cell_type": "code",
      "metadata": {
        "colab": {
          "base_uri": "https://localhost:8080/"
        },
        "id": "_glTyglKe_9q",
        "outputId": "0e950b79-1985-42cf-b230-82b1c283966c"
      },
      "source": [
        "# Build classifier using text after Stemming \n",
        "stem_forest_c = RandomForestClassifier(n_estimators = 100, n_jobs = 4)\n",
        "stem_forest_c = stem_forest_c.fit(stem_x_train_c, stem_y_train)\n",
        "\n",
        "# Cross-Validation\n",
        "print(np.mean(cross_val_score(stem_forest_c, stem_x_train_c, stem_y_train, cv = 5)))\n",
        "\n",
        "# Predict the result for test set\n",
        "stem_result_c = stem_forest_c.predict(stem_x_test_c)\n",
        "print('Predictions ',stem_result_c)\n",
        "\n",
        "# Confusion Matrix\n",
        "\n",
        "stem_cf_c = confusion_matrix(stem_y_test, stem_result_c)\n",
        "print('\\nConfusion Matrix:')\n",
        "print(stem_cf_c)\n",
        "sns.heatmap(stem_cf_c, annot = True, robust = True, cmap = 'Blues');\n",
        "\n",
        "# Classification Report\n",
        "print('\\nClassification Report:')\n",
        "print(classification_report(stem_y_test, stem_result_c))\n",
        "\n",
        "# F1 Score\n",
        "stem_bow1 = f1_score(stem_y_test, stem_result_c, average= 'weighted')\n",
        "print('F1 score: ',stem_bow1)"
      ],
      "execution_count": null,
      "outputs": [
        {
          "output_type": "stream",
          "text": [
            "0.7639548619790737\n",
            "Predictions  [0 0 0 ... 0 0 1]\n",
            "\n",
            "Confusion Matrix:\n",
            "[[2495  230   63]\n",
            " [ 371  446  102]\n",
            " [ 164  113  408]]\n",
            "\n",
            "Classification Report:\n",
            "              precision    recall  f1-score   support\n",
            "\n",
            "           0       0.82      0.89      0.86      2788\n",
            "           1       0.57      0.49      0.52       919\n",
            "           2       0.71      0.60      0.65       685\n",
            "\n",
            "    accuracy                           0.76      4392\n",
            "   macro avg       0.70      0.66      0.68      4392\n",
            "weighted avg       0.75      0.76      0.75      4392\n",
            "\n",
            "F1 score:  0.7548931718560254\n"
          ],
          "name": "stdout"
        },
        {
          "output_type": "display_data",
          "data": {
            "image/png": "[encoded data removed]",
            "text/plain": [
              "<Figure size 432x288 with 2 Axes>"
            ]
          },
          "metadata": {
            "tags": [],
            "needs_background": "light"
          }
        }
      ]
    },
    {
      "cell_type": "code",
      "metadata": {
        "colab": {
          "base_uri": "https://localhost:8080/"
        },
        "id": "utZkOTBShEcO",
        "outputId": "454d4997-70b0-4895-c052-b8ff16a8f22d"
      },
      "source": [
        "# Build classifier using text after Stemming & use balanced class weight\n",
        "stem_forest_c_bal = RandomForestClassifier(n_estimators = 100, n_jobs = 4, class_weight= 'balanced') \n",
        "stem_forest_c_bal = stem_forest_c_bal.fit(stem_x_train_c, stem_y_train)\n",
        "\n",
        "# Cross- Validation \n",
        "print(np.mean(cross_val_score(stem_forest_c_bal, stem_x_train_c, stem_y_train, cv = 5)))\n",
        "\n",
        "# Predict the result for test set\n",
        "stem_result_c_bal = stem_forest_c_bal.predict(stem_x_test_c)\n",
        "print('Predictions ',stem_result_c_bal)\n",
        "\n",
        "# Confusion Matrix\n",
        "stem_cf_c_bal = confusion_matrix(stem_y_test, stem_result_c_bal)\n",
        "print('\\nConfusion Matrix:')\n",
        "print(stem_cf_c_bal)\n",
        "sns.heatmap(stem_cf_c_bal, annot = True, robust = True, cmap = 'Blues');\n",
        "\n",
        "# Classification Report\n",
        "print('\\nClassification Report:')\n",
        "print(classification_report(stem_y_test, stem_result_c_bal))\n",
        "\n",
        "# F1 Score\n",
        "stem_bow2 = f1_score(stem_y_test, stem_result_c_bal, average= 'weighted')\n",
        "print('F1 Score: ', stem_bow2)"
      ],
      "execution_count": null,
      "outputs": [
        {
          "output_type": "stream",
          "text": [
            "0.7650277946410503\n",
            "Predictions  [0 0 0 ... 0 0 1]\n",
            "\n",
            "Confusion Matrix:\n",
            "[[2476  222   90]\n",
            " [ 349  458  112]\n",
            " [ 142  111  432]]\n",
            "\n",
            "Classification Report:\n",
            "              precision    recall  f1-score   support\n",
            "\n",
            "           0       0.83      0.89      0.86      2788\n",
            "           1       0.58      0.50      0.54       919\n",
            "           2       0.68      0.63      0.66       685\n",
            "\n",
            "    accuracy                           0.77      4392\n",
            "   macro avg       0.70      0.67      0.68      4392\n",
            "weighted avg       0.76      0.77      0.76      4392\n",
            "\n",
            "F1 Score:  0.7604678084396457\n"
          ],
          "name": "stdout"
        },
        {
          "output_type": "display_data",
          "data": {
            "image/png": "[encoded data removed]",
            "text/plain": [
              "<Figure size 432x288 with 2 Axes>"
            ]
          },
          "metadata": {
            "tags": [],
            "needs_background": "light"
          }
        }
      ]
    },
    {
      "cell_type": "code",
      "metadata": {
        "colab": {
          "base_uri": "https://localhost:8080/"
        },
        "id": "hoREDeBmiFu_",
        "outputId": "65d3b1fe-0c27-4853-eed7-74150c8b492a"
      },
      "source": [
        "# Build classifier using text after Lemmatization\n",
        "lemma_forest_c = RandomForestClassifier(n_estimators = 100, n_jobs = 4)\n",
        "lemma_forest_c = lemma_forest_c.fit(lemma_x_train_c, lemma_y_train)\n",
        "\n",
        "# Cross- Validation \n",
        "print(np.mean(cross_val_score(lemma_forest_c, lemma_x_train_c, lemma_y_train, cv = 5)))\n",
        "\n",
        "# Predict the result for test set\n",
        "lemma_result_c = lemma_forest_c.predict(lemma_x_test_c)\n",
        "print('Predictions: ',lemma_result_c)\n",
        "\n",
        "# Confusion Matrix\n",
        "lemma_cf_c = confusion_matrix(lemma_y_test, lemma_result_c)\n",
        "print('\\nConfusion Matrix:')\n",
        "print(lemma_cf_c)\n",
        "sns.heatmap(lemma_cf_c, annot = True, robust = True, cmap = 'Blues');\n",
        "\n",
        "# Classification Report\n",
        "print('\\nClassification Report:')\n",
        "print(classification_report(lemma_y_test, lemma_result_c))\n",
        "\n",
        "# F1 Score\n",
        "lemma_bow1 = f1_score(lemma_y_test, lemma_result_c, average= 'weighted')\n",
        "print('F1 Score: ',lemma_bow1)"
      ],
      "execution_count": null,
      "outputs": [
        {
          "output_type": "stream",
          "text": [
            "0.7650285564641883\n",
            "Predictions:  [0 0 0 ... 0 0 2]\n",
            "\n",
            "Confusion Matrix:\n",
            "[[2493  219   76]\n",
            " [ 379  440  100]\n",
            " [ 165  122  398]]\n",
            "\n",
            "Classification Report:\n",
            "              precision    recall  f1-score   support\n",
            "\n",
            "           0       0.82      0.89      0.86      2788\n",
            "           1       0.56      0.48      0.52       919\n",
            "           2       0.69      0.58      0.63       685\n",
            "\n",
            "    accuracy                           0.76      4392\n",
            "   macro avg       0.69      0.65      0.67      4392\n",
            "weighted avg       0.75      0.76      0.75      4392\n",
            "\n",
            "F1 Score:  0.7502822576297291\n"
          ],
          "name": "stdout"
        },
        {
          "output_type": "display_data",
          "data": {
            "image/png": "[encoded data removed]",
            "text/plain": [
              "<Figure size 432x288 with 2 Axes>"
            ]
          },
          "metadata": {
            "tags": [],
            "needs_background": "light"
          }
        }
      ]
    },
    {
      "cell_type": "code",
      "metadata": {
        "colab": {
          "base_uri": "https://localhost:8080/"
        },
        "id": "V9TANhx6i1Qw",
        "outputId": "2b3515d5-4fa6-4f6c-e78f-909f0b0c64bc"
      },
      "source": [
        "# Build classifier using text after Lemmatization & use balanced class weight\n",
        "lemma_forest_c_bal = RandomForestClassifier(n_estimators = 100, n_jobs = 4, class_weight= 'balanced') # for balanced classes\n",
        "lemma_forest_c_bal = lemma_forest_c_bal.fit(lemma_x_train_c, lemma_y_train)\n",
        "\n",
        "# Cross- Validation \n",
        "print(np.mean(cross_val_score(lemma_forest_c_bal, lemma_x_train_c, lemma_y_train, cv = 5)))\n",
        "\n",
        "# Predict the result for test set\n",
        "lemma_result_c_bal = lemma_forest_c_bal.predict(lemma_x_test_c)\n",
        "print('Predictions: ',lemma_result_c_bal)\n",
        "\n",
        "# Confusion Matrix\n",
        "lemma_cf_c_bal = confusion_matrix(lemma_y_test, lemma_result_c_bal)\n",
        "print('\\nConfusion Matrix:')\n",
        "print(lemma_cf_c_bal)\n",
        "sns.heatmap(lemma_cf_c_bal, annot = True, robust = True, cmap = 'Blues');\n",
        "\n",
        "# Classification Report\n",
        "print('\\nClassification Report:')\n",
        "print(classification_report(lemma_y_test, lemma_result_c_bal))\n",
        "\n",
        "# F1 Score\n",
        "lemma_bow2 = f1_score(lemma_y_test, lemma_result_c_bal, average= 'weighted')\n",
        "print('F1 Score: ',lemma_bow2)"
      ],
      "execution_count": null,
      "outputs": [
        {
          "output_type": "stream",
          "text": [
            "Predictions:  [0 0 0 ... 0 0 2]\n",
            "\n",
            "Confusion Matrix:\n",
            "[[2487  216   85]\n",
            " [ 357  457  105]\n",
            " [ 147  117  421]]\n",
            "\n",
            "Classification Report:\n",
            "              precision    recall  f1-score   support\n",
            "\n",
            "           0       0.83      0.89      0.86      2788\n",
            "           1       0.58      0.50      0.53       919\n",
            "           2       0.69      0.61      0.65       685\n",
            "\n",
            "    accuracy                           0.77      4392\n",
            "   macro avg       0.70      0.67      0.68      4392\n",
            "weighted avg       0.76      0.77      0.76      4392\n",
            "\n",
            "F1 Score:  0.7596022048112026\n"
          ],
          "name": "stdout"
        },
        {
          "output_type": "display_data",
          "data": {
            "image/png": "[encoded data removed]",
            "text/plain": [
              "<Figure size 432x288 with 2 Axes>"
            ]
          },
          "metadata": {
            "tags": [],
            "needs_background": "light"
          }
        }
      ]
    },
    {
      "cell_type": "markdown",
      "metadata": {
        "id": "Ec_rDwz6BzXs"
      },
      "source": [
        "### TF-IDF:"
      ]
    },
    {
      "cell_type": "code",
      "metadata": {
        "colab": {
          "base_uri": "https://localhost:8080/",
          "height": 588
        },
        "id": "0MyCamnnjqxr",
        "outputId": "7239219e-3798-45e1-9280-9a323bf01499"
      },
      "source": [
        "# Build classifier using text after Stemming \n",
        "stem_forest_t = RandomForestClassifier(n_estimators = 100, n_jobs = 4)\n",
        "stem_forest_t = stem_forest_t.fit(stem_x_train_t, stem_y_train)\n",
        "\n",
        "# Cross- Validation \n",
        "print(np.mean(cross_val_score(stem_forest_t, stem_x_train_t, stem_y_train, cv = 5)))\n",
        "\n",
        "# Predict the result for test set\n",
        "stem_result_t = stem_forest_t.predict(stem_x_test_t)\n",
        "\n",
        "# Confusion Matrix\n",
        "stem_cf_t = confusion_matrix(stem_y_test, stem_result_t)\n",
        "print('\\nConfusion Matrix:')\n",
        "print(stem_cf_t)\n",
        "sns.heatmap(stem_cf_t, annot = True, robust = True, cmap = 'Blues');\n",
        "\n",
        "# Classification Report\n",
        "print('\\nClassification Report:')\n",
        "print(classification_report(stem_y_test, stem_result_t))\n",
        "\n",
        "# F1 Score\n",
        "stem_tf1 = f1_score(stem_y_test, stem_result_t, average= 'weighted')\n",
        "print('F1 Score: ',stem_tf1)"
      ],
      "execution_count": null,
      "outputs": [
        {
          "output_type": "stream",
          "text": [
            "0.7671751836112797\n",
            "\n",
            "Confusion Matrix:\n",
            "[[2588  160   40]\n",
            " [ 444  402   73]\n",
            " [ 212  112  361]]\n",
            "\n",
            "Classification Report:\n",
            "              precision    recall  f1-score   support\n",
            "\n",
            "           0       0.80      0.93      0.86      2788\n",
            "           1       0.60      0.44      0.50       919\n",
            "           2       0.76      0.53      0.62       685\n",
            "\n",
            "    accuracy                           0.76      4392\n",
            "   macro avg       0.72      0.63      0.66      4392\n",
            "weighted avg       0.75      0.76      0.75      4392\n",
            "\n",
            "F1 Score:  0.747473472481199\n"
          ],
          "name": "stdout"
        },
        {
          "output_type": "display_data",
          "data": {
            "image/png": "[encoded data removed]",
            "text/plain": [
              "<Figure size 432x288 with 2 Axes>"
            ]
          },
          "metadata": {
            "tags": [],
            "needs_background": "light"
          }
        }
      ]
    },
    {
      "cell_type": "code",
      "metadata": {
        "colab": {
          "base_uri": "https://localhost:8080/",
          "height": 588
        },
        "id": "blA_24kFkT6P",
        "outputId": "935f4efc-d5c1-4eb3-fbaa-467f78acf428"
      },
      "source": [
        "# Build classifier using text after Stemming & use balanced class weight\n",
        "stem_forest_t_bal = RandomForestClassifier(n_estimators = 100, n_jobs = 4, class_weight= 'balanced')\n",
        "stem_forest_t_bal = stem_forest_t_bal.fit(stem_x_train_t, stem_y_train)\n",
        "\n",
        "# Cross- Validation \n",
        "print(np.mean(cross_val_score(stem_forest_t_bal, stem_x_train_t, stem_y_train, cv = 5)))\n",
        "\n",
        "# Predict the result for test set\n",
        "stem_result_t_bal = stem_forest_t_bal.predict(stem_x_test_t)\n",
        "\n",
        "# Confusion Matrix\n",
        "stem_cf_t_bal = confusion_matrix(stem_y_test, stem_result_t_bal)\n",
        "print('\\nConfusion Matrix:')\n",
        "print(stem_cf_t_bal)\n",
        "sns.heatmap(stem_cf_t_bal, annot = True, robust = True, cmap = 'Blues');\n",
        "\n",
        "# Classification Report\n",
        "print('\\nClassification Report:')\n",
        "print(classification_report(stem_y_test, stem_result_t_bal))\n",
        "\n",
        "# F1 Score\n",
        "stem_tf2 = f1_score(stem_y_test, stem_result_t_bal, average= 'weighted')\n",
        "print('F1 Score: ',stem_tf2)"
      ],
      "execution_count": null,
      "outputs": [
        {
          "output_type": "stream",
          "text": [
            "0.7697130545536789\n",
            "\n",
            "Confusion Matrix:\n",
            "[[2536  205   47]\n",
            " [ 393  443   83]\n",
            " [ 183  119  383]]\n",
            "\n",
            "Classification Report:\n",
            "              precision    recall  f1-score   support\n",
            "\n",
            "           0       0.81      0.91      0.86      2788\n",
            "           1       0.58      0.48      0.53       919\n",
            "           2       0.75      0.56      0.64       685\n",
            "\n",
            "    accuracy                           0.77      4392\n",
            "   macro avg       0.71      0.65      0.67      4392\n",
            "weighted avg       0.75      0.77      0.76      4392\n",
            "\n",
            "F1 Score:  0.755387419091622\n"
          ],
          "name": "stdout"
        },
        {
          "output_type": "display_data",
          "data": {
            "image/png": "[encoded data removed]",
            "text/plain": [
              "<Figure size 432x288 with 2 Axes>"
            ]
          },
          "metadata": {
            "tags": [],
            "needs_background": "light"
          }
        }
      ]
    },
    {
      "cell_type": "code",
      "metadata": {
        "colab": {
          "base_uri": "https://localhost:8080/"
        },
        "id": "DETuciLJls4C",
        "outputId": "0ca8f7b7-fa26-47b0-ddc0-bd65d3489ae7"
      },
      "source": [
        "# Build classifier using text after Lemmatization\n",
        "lemma_forest_t = RandomForestClassifier(n_estimators = 100, n_jobs = 4)\n",
        "lemma_forest_t = lemma_forest_t.fit(lemma_x_train_t, lemma_y_train)\n",
        "\n",
        "# Cross- Validation \n",
        "print(np.mean(cross_val_score(lemma_forest_t, lemma_x_train_t, lemma_y_train, cv = 5)))\n",
        "\n",
        "# Predict the result for test set\n",
        "lemma_result_t = lemma_forest_t.predict(lemma_x_test_t)\n",
        "\n",
        "# Confusion Matrix\n",
        "lemma_cf_t = confusion_matrix(lemma_y_test, lemma_result_t)\n",
        "print('\\nConfusion Matrix:')\n",
        "print(lemma_cf_t)\n",
        "sns.heatmap(lemma_cf_t, annot = True, robust = True, cmap = 'Blues');\n",
        "\n",
        "# Classification Report\n",
        "print('\\nClassification Report:')\n",
        "print(classification_report(lemma_y_test, lemma_result_t))\n",
        "\n",
        "# F1 Score\n",
        "lemma_tf1 = f1_score(lemma_y_test, lemma_result_t, average= 'weighted')\n",
        "print(lemma_tf1)"
      ],
      "execution_count": null,
      "outputs": [
        {
          "output_type": "stream",
          "text": [
            "0.7686394076825102\n",
            "\n",
            "Confusion Matrix:\n",
            "[[2582  166   40]\n",
            " [ 447  402   70]\n",
            " [ 211  110  364]]\n",
            "\n",
            "Classification Report:\n",
            "              precision    recall  f1-score   support\n",
            "\n",
            "           0       0.80      0.93      0.86      2788\n",
            "           1       0.59      0.44      0.50       919\n",
            "           2       0.77      0.53      0.63       685\n",
            "\n",
            "    accuracy                           0.76      4392\n",
            "   macro avg       0.72      0.63      0.66      4392\n",
            "weighted avg       0.75      0.76      0.75      4392\n",
            "\n",
            "0.7471141398614851\n"
          ],
          "name": "stdout"
        },
        {
          "output_type": "display_data",
          "data": {
            "image/png": "[encoded data removed]",
            "text/plain": [
              "<Figure size 432x288 with 2 Axes>"
            ]
          },
          "metadata": {
            "tags": [],
            "needs_background": "light"
          }
        }
      ]
    },
    {
      "cell_type": "code",
      "metadata": {
        "colab": {
          "base_uri": "https://localhost:8080/"
        },
        "id": "ByXy8gbumOI7",
        "outputId": "755c2b6d-8575-4515-8857-790d3dac01bb"
      },
      "source": [
        "# Build classifier using text after Lemmatization & use balanced class weight\n",
        "lemma_forest_t_bal = RandomForestClassifier(n_estimators = 100, n_jobs = 4, class_weight= 'balanced')\n",
        "lemma_forest_t_bal = lemma_forest_t_bal.fit(lemma_x_train_t, lemma_y_train)\n",
        "\n",
        "# Cross- Validation \n",
        "print(np.mean(cross_val_score(lemma_forest_t_bal, lemma_x_train_t, lemma_y_train , cv = 5)))\n",
        "\n",
        "# Predict the result for test set\n",
        "lemma_result_t_bal = lemma_forest_t_bal.predict(lemma_x_test_t)\n",
        "\n",
        "# Confusion Matrix\n",
        "lemma_cf_t_bal = confusion_matrix(lemma_y_test, lemma_result_t_bal)\n",
        "print('\\nConfusion Matrix:')\n",
        "print(lemma_cf_t_bal)\n",
        "sns.heatmap(lemma_cf_t_bal, annot = True, robust = True, cmap = 'Blues');\n",
        "\n",
        "# Classification Report\n",
        "print('\\nClassification Report:')\n",
        "print(classification_report(lemma_y_test, lemma_result_t_bal))\n",
        "\n",
        "# F1 Score\n",
        "lemma_tf2 = f1_score(lemma_y_test, lemma_result_t_bal, average= 'weighted')\n",
        "print(lemma_tf2)"
      ],
      "execution_count": null,
      "outputs": [
        {
          "output_type": "stream",
          "text": [
            "0.7711758025925792\n",
            "\n",
            "Confusion Matrix:\n",
            "[[2526  210   52]\n",
            " [ 397  450   72]\n",
            " [ 180  126  379]]\n",
            "\n",
            "Classification Report:\n",
            "              precision    recall  f1-score   support\n",
            "\n",
            "           0       0.81      0.91      0.86      2788\n",
            "           1       0.57      0.49      0.53       919\n",
            "           2       0.75      0.55      0.64       685\n",
            "\n",
            "    accuracy                           0.76      4392\n",
            "   macro avg       0.71      0.65      0.67      4392\n",
            "weighted avg       0.75      0.76      0.75      4392\n",
            "\n",
            "0.7543479462475905\n"
          ],
          "name": "stdout"
        },
        {
          "output_type": "display_data",
          "data": {
            "image/png": "[encoded data removed]",
            "text/plain": [
              "<Figure size 432x288 with 2 Axes>"
            ]
          },
          "metadata": {
            "tags": [],
            "needs_background": "light"
          }
        }
      ]
    },
    {
      "cell_type": "markdown",
      "metadata": {
        "id": "d3LsWsOHx9n3"
      },
      "source": [
        "## 6b. Logistic Regression:"
      ]
    },
    {
      "cell_type": "markdown",
      "metadata": {
        "id": "ynHD3AG-r_z-"
      },
      "source": [
        "### Bag of Words:"
      ]
    },
    {
      "cell_type": "code",
      "metadata": {
        "colab": {
          "base_uri": "https://localhost:8080/",
          "height": 588
        },
        "id": "JpHv4B1cpbnw",
        "outputId": "abb8f05a-73aa-4562-9c4c-21ac14afdf8a"
      },
      "source": [
        "# Build classifier using text after Stemming & use balanced class weight\n",
        "stem_logistic_c = LogisticRegression(class_weight= 'balanced')\n",
        "stem_logistic_c = stem_logistic_c.fit(stem_x_train_c, stem_y_train)\n",
        "\n",
        "# Cross- Validation \n",
        "print(np.mean(cross_val_score(stem_logistic_c, stem_x_train_c, stem_y_train, cv = 5)))\n",
        "\n",
        "# Predict the result for test set\n",
        "stem_result_logistic_c = stem_logistic_c.predict(stem_x_test_c)\n",
        "\n",
        "# Confusion Matrix\n",
        "stem_cf_logistic_c = confusion_matrix(stem_y_test, stem_result_logistic_c)\n",
        "print('\\nConfusion Matrix:')\n",
        "print(stem_cf_logistic_c)\n",
        "sns.heatmap(stem_cf_logistic_c, annot = True, robust = True, cmap = 'Blues');\n",
        "\n",
        "# Classification Report\n",
        "print('\\nClassification Report:')\n",
        "print(classification_report(stem_y_test, stem_result_logistic_c))\n",
        "\n",
        "# F1 Score\n",
        "stem_logistic_bow1 = f1_score(stem_y_test, stem_result_logistic_c, average= 'weighted')\n",
        "print('F1 Score: ', stem_logistic_bow1)"
      ],
      "execution_count": null,
      "outputs": [
        {
          "output_type": "stream",
          "text": [
            "0.7448290540299254\n",
            "\n",
            "Confusion Matrix:\n",
            "[[2136  485  167]\n",
            " [ 161  638  120]\n",
            " [  65  123  497]]\n",
            "\n",
            "Classification Report:\n",
            "              precision    recall  f1-score   support\n",
            "\n",
            "           0       0.90      0.77      0.83      2788\n",
            "           1       0.51      0.69      0.59       919\n",
            "           2       0.63      0.73      0.68       685\n",
            "\n",
            "    accuracy                           0.74      4392\n",
            "   macro avg       0.68      0.73      0.70      4392\n",
            "weighted avg       0.78      0.74      0.76      4392\n",
            "\n",
            "F1 Score:  0.7554256237914506\n"
          ],
          "name": "stdout"
        },
        {
          "output_type": "display_data",
          "data": {
            "image/png": "[encoded data removed]",
            "text/plain": [
              "<Figure size 432x288 with 2 Axes>"
            ]
          },
          "metadata": {
            "tags": [],
            "needs_background": "light"
          }
        }
      ]
    },
    {
      "cell_type": "code",
      "metadata": {
        "colab": {
          "base_uri": "https://localhost:8080/",
          "height": 588
        },
        "id": "9U39mnYaq5Gf",
        "outputId": "1e76f730-30a9-47fb-9c13-d790edef67cd"
      },
      "source": [
        "# Build classifier using text after Lemmatization & use balanced class weight\n",
        "lemma_logistic_c = LogisticRegression(class_weight= 'balanced')\n",
        "lemma_logistic_c = lemma_logistic_c.fit(lemma_x_train_c, lemma_y_train)\n",
        "\n",
        "# Cross- Validation \n",
        "print(np.mean(cross_val_score(lemma_logistic_c, lemma_x_train_c, lemma_y_train, cv = 5)))\n",
        "\n",
        "# Predict the result for test set\n",
        "lemma_result_logistic_c = lemma_logistic_c.predict(lemma_x_test_c)\n",
        "\n",
        "# Confusion Matrix\n",
        "lemma_cf_logistic_c = confusion_matrix(lemma_y_test, lemma_result_logistic_c)\n",
        "print('\\nConfusion Matrix:')\n",
        "print(lemma_cf_logistic_c)\n",
        "sns.heatmap(lemma_cf_logistic_c, annot = True, robust = True, cmap = 'Blues');\n",
        "\n",
        "# Classification Report\n",
        "print('\\nClassification Report:')\n",
        "print(classification_report(lemma_y_test, lemma_result_logistic_c))\n",
        "\n",
        "# F1-Score\n",
        "lemma_logistic_bow1 = f1_score(lemma_y_test, lemma_result_logistic_c, average= 'weighted')\n",
        "print('F1 Score: ',lemma_logistic_bow1)"
      ],
      "execution_count": null,
      "outputs": [
        {
          "output_type": "stream",
          "text": [
            "0.746098060922044\n",
            "\n",
            "Confusion Matrix:\n",
            "[[2134  484  170]\n",
            " [ 166  633  120]\n",
            " [  66  120  499]]\n",
            "\n",
            "Classification Report:\n",
            "              precision    recall  f1-score   support\n",
            "\n",
            "           0       0.90      0.77      0.83      2788\n",
            "           1       0.51      0.69      0.59       919\n",
            "           2       0.63      0.73      0.68       685\n",
            "\n",
            "    accuracy                           0.74      4392\n",
            "   macro avg       0.68      0.73      0.70      4392\n",
            "weighted avg       0.78      0.74      0.75      4392\n",
            "\n",
            "F1 Score:  0.7541338378620461\n"
          ],
          "name": "stdout"
        },
        {
          "output_type": "display_data",
          "data": {
            "image/png": "[encoded data removed]",
            "text/plain": [
              "<Figure size 432x288 with 2 Axes>"
            ]
          },
          "metadata": {
            "tags": [],
            "needs_background": "light"
          }
        }
      ]
    },
    {
      "cell_type": "markdown",
      "metadata": {
        "id": "cXKc3SgQwyks"
      },
      "source": [
        "### TF-IDF:"
      ]
    },
    {
      "cell_type": "code",
      "metadata": {
        "colab": {
          "base_uri": "https://localhost:8080/",
          "height": 588
        },
        "id": "a48pqWVmspXk",
        "outputId": "941c900a-c8b7-46d3-9198-2b4411a463a6"
      },
      "source": [
        "# Build classifier using text after Stemming & use balanced class weight\n",
        "stem_logistic_t = LogisticRegression(class_weight= 'balanced')\n",
        "stem_logistic_t = stem_logistic_t.fit(stem_x_train_t, stem_y_train)\n",
        "\n",
        "# Cross- Validation \n",
        "print(np.mean(cross_val_score(stem_logistic_t, stem_x_train_t, stem_y_train, cv = 5)))\n",
        "\n",
        "# Predict the result for test set\n",
        "stem_result_logistic_t = stem_logistic_t.predict(stem_x_test_t)\n",
        "\n",
        "# Confusion Matrix\n",
        "stem_cf_logistic_t = confusion_matrix(stem_y_test, stem_result_logistic_t)\n",
        "print('\\nConfusion Matrix:')\n",
        "print(stem_cf_logistic_t)\n",
        "sns.heatmap(stem_cf_logistic_t, annot = True, robust = True, cmap = 'Blues');\n",
        "\n",
        "# Classification Report\n",
        "print('\\nClassification Report:')\n",
        "print(classification_report(stem_y_test, stem_result_logistic_t))\n",
        "\n",
        "# F1 Score\n",
        "stem_logistic_tf1 = f1_score(stem_y_test, stem_result_logistic_t, average= 'weighted')\n",
        "print(stem_logistic_tf1)"
      ],
      "execution_count": null,
      "outputs": [
        {
          "output_type": "stream",
          "text": [
            "0.7581002987775121\n",
            "\n",
            "Confusion Matrix:\n",
            "[[2171  470  147]\n",
            " [ 172  633  114]\n",
            " [  61  125  499]]\n",
            "\n",
            "Classification Report:\n",
            "              precision    recall  f1-score   support\n",
            "\n",
            "           0       0.90      0.78      0.84      2788\n",
            "           1       0.52      0.69      0.59       919\n",
            "           2       0.66      0.73      0.69       685\n",
            "\n",
            "    accuracy                           0.75      4392\n",
            "   macro avg       0.69      0.73      0.71      4392\n",
            "weighted avg       0.78      0.75      0.76      4392\n",
            "\n",
            "0.7619683296115947\n"
          ],
          "name": "stdout"
        },
        {
          "output_type": "display_data",
          "data": {
            "image/png": "[encoded data removed]",
            "text/plain": [
              "<Figure size 432x288 with 2 Axes>"
            ]
          },
          "metadata": {
            "tags": [],
            "needs_background": "light"
          }
        }
      ]
    },
    {
      "cell_type": "code",
      "metadata": {
        "colab": {
          "base_uri": "https://localhost:8080/",
          "height": 588
        },
        "id": "fo6VmWOgtSDD",
        "outputId": "f21bc675-d341-4861-d2d9-2dbc50d0dfd6"
      },
      "source": [
        "# Build classifier using text after Lemmatization & use balanced class weight\n",
        "lemma_logistic_t = LogisticRegression(class_weight= 'balanced')\n",
        "lemma_logistic_t = lemma_logistic_t.fit(lemma_x_train_t, lemma_y_train)\n",
        "\n",
        "# Cross- Validation \n",
        "print(np.mean(cross_val_score(lemma_logistic_t, lemma_x_train_t, lemma_y_train, cv = 5)))\n",
        "\n",
        "# Predict the result for test set\n",
        "lemma_result_logistic_t = lemma_logistic_t.predict(lemma_x_test_t)\n",
        "\n",
        "# Confusion Matrix\n",
        "lemma_cf_logistic_t = confusion_matrix(lemma_y_test, lemma_result_logistic_t)\n",
        "print('\\nConfusion Matrix:')\n",
        "print(lemma_cf_logistic_t)\n",
        "sns.heatmap(lemma_cf_logistic_t, annot = True, robust = True, cmap = 'Blues');\n",
        "\n",
        "# Classification Report\n",
        "print('\\nClassification Report:')\n",
        "print(classification_report(lemma_y_test, lemma_result_logistic_t))\n",
        "\n",
        "# F1 Score\n",
        "lemma_logistic_tf1 = f1_score(lemma_y_test, lemma_result_logistic_t, average= 'weighted')\n",
        "print('F1 Score: ',lemma_logistic_tf1)"
      ],
      "execution_count": null,
      "outputs": [
        {
          "output_type": "stream",
          "text": [
            "0.7588807865823901\n",
            "\n",
            "Confusion Matrix:\n",
            "[[2208  436  144]\n",
            " [ 178  624  117]\n",
            " [  64  119  502]]\n",
            "\n",
            "Classification Report:\n",
            "              precision    recall  f1-score   support\n",
            "\n",
            "           0       0.90      0.79      0.84      2788\n",
            "           1       0.53      0.68      0.59       919\n",
            "           2       0.66      0.73      0.69       685\n",
            "\n",
            "    accuracy                           0.76      4392\n",
            "   macro avg       0.70      0.73      0.71      4392\n",
            "weighted avg       0.79      0.76      0.77      4392\n",
            "\n",
            "F1 Score:  0.7677838299207153\n"
          ],
          "name": "stdout"
        },
        {
          "output_type": "display_data",
          "data": {
            "image/png": "[encoded data removed]",
            "text/plain": [
              "<Figure size 432x288 with 2 Axes>"
            ]
          },
          "metadata": {
            "tags": [],
            "needs_background": "light"
          }
        }
      ]
    },
    {
      "cell_type": "markdown",
      "metadata": {
        "id": "OtLb6XNyydSs"
      },
      "source": [
        "## 6c. Artificial Neural Network:"
      ]
    },
    {
      "cell_type": "code",
      "metadata": {
        "id": "4U4ocEFLudwU"
      },
      "source": [
        "# Import libraries\n",
        "from tensorflow.keras import Sequential\n",
        "from tensorflow.keras.layers import Dense "
      ],
      "execution_count": null,
      "outputs": []
    },
    {
      "cell_type": "code",
      "metadata": {
        "id": "3BoKf_M-umqF"
      },
      "source": [
        "# Set the batch size, number of epochs, classes to classify\n",
        "batch_size = 32\n",
        "epochs = 40\n",
        "num_classes = 3"
      ],
      "execution_count": null,
      "outputs": []
    },
    {
      "cell_type": "code",
      "metadata": {
        "id": "9Kzub3eKu1Hf"
      },
      "source": [
        "# Split Dataset into Training & Testing set (Only Lemmatization)\n",
        "X_train, X_test, Y_train, Y_test = train_test_split(data['text_lemma'], y, stratify = y, test_size = 0.3, random_state = 0)"
      ],
      "execution_count": null,
      "outputs": []
    },
    {
      "cell_type": "code",
      "metadata": {
        "colab": {
          "base_uri": "https://localhost:8080/"
        },
        "id": "1VWWi_WEwDWJ",
        "outputId": "813b7793-c58b-415b-bd28-a3a3f878b1d5"
      },
      "source": [
        "# TF-IDF Vectorization\n",
        "vectorizer_ann = TfidfVectorizer(max_features=1000)\n",
        "X_train = vectorizer_ann.fit_transform(X_train)\n",
        "X_train = X_train.toarray()\n",
        "print(X_train.shape)\n",
        "\n",
        "X_test = vectorizer_ann.transform(X_test)\n",
        "X_test = X_test.toarray()"
      ],
      "execution_count": null,
      "outputs": [
        {
          "output_type": "stream",
          "text": [
            "(10248, 1000)\n"
          ],
          "name": "stdout"
        }
      ]
    },
    {
      "cell_type": "code",
      "metadata": {
        "colab": {
          "base_uri": "https://localhost:8080/"
        },
        "id": "cWxYmMORuwlz",
        "outputId": "909febed-bf8e-40bf-e9f2-ac8fd5de7a7f"
      },
      "source": [
        "# Shape of X and Y\n",
        "print(\"X train: {}\".format(X_train.shape))\n",
        "print(\"Y train: {}\".format(Y_train.shape))\n",
        "print(\"X test: {}\".format(X_test.shape))\n",
        "print(\"Y test: {}\".format(Y_test.shape))"
      ],
      "execution_count": null,
      "outputs": [
        {
          "output_type": "stream",
          "text": [
            "X train: (10248, 1000)\n",
            "Y train: (10248, 3)\n",
            "X test: (4392, 1000)\n",
            "Y test: (4392, 3)\n"
          ],
          "name": "stdout"
        }
      ]
    },
    {
      "cell_type": "code",
      "metadata": {
        "colab": {
          "base_uri": "https://localhost:8080/"
        },
        "id": "ftGHnxwTv_IZ",
        "outputId": "4c80d816-4666-4231-da33-b04bfca0b6e1"
      },
      "source": [
        "# Build ANN Model \n",
        "\n",
        "## Use 'adam' optimizer and 'categorical_crossentropy' as loss function \n",
        "## Use 2 hidden layers with neurons 6, 20 resp. and 'relu' activation layer\n",
        "## Use input_shape = 11 since we have 11 features. \n",
        "## Use 1 neuron in output layer with 'sigmoid' activation function\n",
        "\n",
        "Model1 = Sequential()\n",
        "Model1.add(Dense(units = 6, activation = 'relu', input_shape = (1000,)))\n",
        "Model1.add(Dense(units = 20, activation = 'relu'))\n",
        "Model1.add(Dense(units = 3, activation = 'softmax'))\n",
        "Model1.compile(optimizer='adam', loss='categorical_crossentropy', metrics=['accuracy'])\n",
        "Model1.summary()"
      ],
      "execution_count": null,
      "outputs": [
        {
          "output_type": "stream",
          "text": [
            "Model: \"sequential\"\n",
            "_________________________________________________________________\n",
            "Layer (type)                 Output Shape              Param #   \n",
            "=================================================================\n",
            "dense (Dense)                (None, 6)                 6006      \n",
            "_________________________________________________________________\n",
            "dense_1 (Dense)              (None, 20)                140       \n",
            "_________________________________________________________________\n",
            "dense_2 (Dense)              (None, 3)                 63        \n",
            "=================================================================\n",
            "Total params: 6,209\n",
            "Trainable params: 6,209\n",
            "Non-trainable params: 0\n",
            "_________________________________________________________________\n"
          ],
          "name": "stdout"
        }
      ]
    },
    {
      "cell_type": "code",
      "metadata": {
        "colab": {
          "base_uri": "https://localhost:8080/"
        },
        "id": "RHfNDwYpxMJL",
        "outputId": "9d12e25e-57ab-4740-de1b-4ca897e2402e"
      },
      "source": [
        "# Fit Model \n",
        "\n",
        "## Use 40 epochs and 32 batch size\n",
        "## Use 10% of the training data as validation data\n",
        "\n",
        "Ann1 = Model1.fit(X_train, Y_train,\n",
        "                batch_size = 32,\n",
        "                epochs = 40,\n",
        "                validation_split = 0.10,\n",
        "                verbose =1)"
      ],
      "execution_count": null,
      "outputs": [
        {
          "output_type": "stream",
          "text": [
            "Epoch 1/40\n",
            "289/289 [==============================] - 2s 4ms/step - loss: 0.9657 - accuracy: 0.5989 - val_loss: 0.6917 - val_accuracy: 0.6829\n",
            "Epoch 2/40\n",
            "289/289 [==============================] - 0s 2ms/step - loss: 0.5942 - accuracy: 0.7505 - val_loss: 0.5530 - val_accuracy: 0.7737\n",
            "Epoch 3/40\n",
            "289/289 [==============================] - 1s 2ms/step - loss: 0.4576 - accuracy: 0.8260 - val_loss: 0.5325 - val_accuracy: 0.7912\n",
            "Epoch 4/40\n",
            "289/289 [==============================] - 0s 2ms/step - loss: 0.4249 - accuracy: 0.8443 - val_loss: 0.5445 - val_accuracy: 0.7893\n",
            "Epoch 5/40\n",
            "289/289 [==============================] - 0s 2ms/step - loss: 0.3929 - accuracy: 0.8522 - val_loss: 0.5409 - val_accuracy: 0.7893\n",
            "Epoch 6/40\n",
            "289/289 [==============================] - 1s 2ms/step - loss: 0.4009 - accuracy: 0.8470 - val_loss: 0.5544 - val_accuracy: 0.7844\n",
            "Epoch 7/40\n",
            "289/289 [==============================] - 1s 2ms/step - loss: 0.3771 - accuracy: 0.8524 - val_loss: 0.5591 - val_accuracy: 0.7785\n",
            "Epoch 8/40\n",
            "289/289 [==============================] - 0s 2ms/step - loss: 0.3879 - accuracy: 0.8529 - val_loss: 0.5717 - val_accuracy: 0.7776\n",
            "Epoch 9/40\n",
            "289/289 [==============================] - 0s 2ms/step - loss: 0.3675 - accuracy: 0.8578 - val_loss: 0.5749 - val_accuracy: 0.7815\n",
            "Epoch 10/40\n",
            "289/289 [==============================] - 1s 2ms/step - loss: 0.3699 - accuracy: 0.8581 - val_loss: 0.5871 - val_accuracy: 0.7815\n",
            "Epoch 11/40\n",
            "289/289 [==============================] - 1s 2ms/step - loss: 0.3610 - accuracy: 0.8607 - val_loss: 0.5929 - val_accuracy: 0.7795\n",
            "Epoch 12/40\n",
            "289/289 [==============================] - 1s 2ms/step - loss: 0.3516 - accuracy: 0.8638 - val_loss: 0.6108 - val_accuracy: 0.7737\n",
            "Epoch 13/40\n",
            "289/289 [==============================] - 1s 2ms/step - loss: 0.3642 - accuracy: 0.8585 - val_loss: 0.6107 - val_accuracy: 0.7707\n",
            "Epoch 14/40\n",
            "289/289 [==============================] - 1s 2ms/step - loss: 0.3447 - accuracy: 0.8670 - val_loss: 0.6216 - val_accuracy: 0.7678\n",
            "Epoch 15/40\n",
            "289/289 [==============================] - 1s 2ms/step - loss: 0.3440 - accuracy: 0.8681 - val_loss: 0.6139 - val_accuracy: 0.7727\n",
            "Epoch 16/40\n",
            "289/289 [==============================] - 1s 2ms/step - loss: 0.3458 - accuracy: 0.8682 - val_loss: 0.6249 - val_accuracy: 0.7678\n",
            "Epoch 17/40\n",
            "289/289 [==============================] - 1s 2ms/step - loss: 0.3356 - accuracy: 0.8673 - val_loss: 0.6296 - val_accuracy: 0.7717\n",
            "Epoch 18/40\n",
            "289/289 [==============================] - 1s 2ms/step - loss: 0.3428 - accuracy: 0.8679 - val_loss: 0.6365 - val_accuracy: 0.7707\n",
            "Epoch 19/40\n",
            "289/289 [==============================] - 1s 2ms/step - loss: 0.3278 - accuracy: 0.8673 - val_loss: 0.6422 - val_accuracy: 0.7737\n",
            "Epoch 20/40\n",
            "289/289 [==============================] - 1s 2ms/step - loss: 0.3223 - accuracy: 0.8780 - val_loss: 0.6504 - val_accuracy: 0.7688\n",
            "Epoch 21/40\n",
            "289/289 [==============================] - 1s 2ms/step - loss: 0.3299 - accuracy: 0.8692 - val_loss: 0.6596 - val_accuracy: 0.7620\n",
            "Epoch 22/40\n",
            "289/289 [==============================] - 1s 2ms/step - loss: 0.3203 - accuracy: 0.8765 - val_loss: 0.6661 - val_accuracy: 0.7639\n",
            "Epoch 23/40\n",
            "289/289 [==============================] - 1s 2ms/step - loss: 0.3244 - accuracy: 0.8728 - val_loss: 0.6797 - val_accuracy: 0.7639\n",
            "Epoch 24/40\n",
            "289/289 [==============================] - 1s 2ms/step - loss: 0.3167 - accuracy: 0.8774 - val_loss: 0.6777 - val_accuracy: 0.7659\n",
            "Epoch 25/40\n",
            "289/289 [==============================] - 1s 2ms/step - loss: 0.3225 - accuracy: 0.8774 - val_loss: 0.6851 - val_accuracy: 0.7688\n",
            "Epoch 26/40\n",
            "289/289 [==============================] - 1s 2ms/step - loss: 0.2946 - accuracy: 0.8868 - val_loss: 0.6914 - val_accuracy: 0.7639\n",
            "Epoch 27/40\n",
            "289/289 [==============================] - 1s 2ms/step - loss: 0.3082 - accuracy: 0.8803 - val_loss: 0.6987 - val_accuracy: 0.7707\n",
            "Epoch 28/40\n",
            "289/289 [==============================] - 1s 2ms/step - loss: 0.2979 - accuracy: 0.8876 - val_loss: 0.7100 - val_accuracy: 0.7668\n",
            "Epoch 29/40\n",
            "289/289 [==============================] - 1s 2ms/step - loss: 0.3080 - accuracy: 0.8833 - val_loss: 0.7074 - val_accuracy: 0.7688\n",
            "Epoch 30/40\n",
            "289/289 [==============================] - 1s 2ms/step - loss: 0.2950 - accuracy: 0.8919 - val_loss: 0.7223 - val_accuracy: 0.7688\n",
            "Epoch 31/40\n",
            "289/289 [==============================] - 1s 2ms/step - loss: 0.2845 - accuracy: 0.8902 - val_loss: 0.7323 - val_accuracy: 0.7668\n",
            "Epoch 32/40\n",
            "289/289 [==============================] - 1s 2ms/step - loss: 0.2968 - accuracy: 0.8857 - val_loss: 0.7449 - val_accuracy: 0.7659\n",
            "Epoch 33/40\n",
            "289/289 [==============================] - 1s 2ms/step - loss: 0.2983 - accuracy: 0.8856 - val_loss: 0.7427 - val_accuracy: 0.7737\n",
            "Epoch 34/40\n",
            "289/289 [==============================] - 1s 2ms/step - loss: 0.2974 - accuracy: 0.8856 - val_loss: 0.7507 - val_accuracy: 0.7717\n",
            "Epoch 35/40\n",
            "289/289 [==============================] - 1s 2ms/step - loss: 0.2876 - accuracy: 0.8887 - val_loss: 0.7534 - val_accuracy: 0.7727\n",
            "Epoch 36/40\n",
            "289/289 [==============================] - 1s 2ms/step - loss: 0.2958 - accuracy: 0.8913 - val_loss: 0.7651 - val_accuracy: 0.7698\n",
            "Epoch 37/40\n",
            "289/289 [==============================] - 1s 2ms/step - loss: 0.2843 - accuracy: 0.8935 - val_loss: 0.7767 - val_accuracy: 0.7639\n",
            "Epoch 38/40\n",
            "289/289 [==============================] - 1s 2ms/step - loss: 0.2737 - accuracy: 0.8983 - val_loss: 0.7854 - val_accuracy: 0.7649\n",
            "Epoch 39/40\n",
            "289/289 [==============================] - 1s 2ms/step - loss: 0.2682 - accuracy: 0.9007 - val_loss: 0.7956 - val_accuracy: 0.7620\n",
            "Epoch 40/40\n",
            "289/289 [==============================] - 1s 2ms/step - loss: 0.2685 - accuracy: 0.8993 - val_loss: 0.8024 - val_accuracy: 0.7600\n"
          ],
          "name": "stdout"
        }
      ]
    },
    {
      "cell_type": "code",
      "metadata": {
        "colab": {
          "base_uri": "https://localhost:8080/"
        },
        "id": "53M8lkR-x1bf",
        "outputId": "4d96dd2f-ce65-48fe-a711-2983ac7f01be"
      },
      "source": [
        "# Training vs Testing score to check overfitting\n",
        "\n",
        "score1_train = Model1.evaluate(X_train, Y_train, verbose = 1)\n",
        "print(score1_train)\n",
        "score1_test = Model1.evaluate(X_test, Y_test, verbose = 1)\n",
        "print(score1_test)\n",
        "\n",
        "print(\"\\nTraining Score: {}%\".format(round(score1_train[1]*100,3)))\n",
        "print(\"Testing Score: {}%\".format(round(score1_test[1]*100,3)))"
      ],
      "execution_count": null,
      "outputs": [
        {
          "output_type": "stream",
          "text": [
            "321/321 [==============================] - 0s 1ms/step - loss: 0.3118 - accuracy: 0.8938\n",
            "[0.31182509660720825, 0.8938329219818115]\n",
            "138/138 [==============================] - 0s 1ms/step - loss: 0.8447 - accuracy: 0.7491\n",
            "[0.8446932435035706, 0.749089241027832]\n",
            "\n",
            "Training Score: 89.383%\n",
            "Testing Score: 74.909%\n"
          ],
          "name": "stdout"
        }
      ]
    },
    {
      "cell_type": "code",
      "metadata": {
        "colab": {
          "base_uri": "https://localhost:8080/",
          "height": 295
        },
        "id": "91eph4ylHEc1",
        "outputId": "b4239775-8820-4309-b34c-c3b83abf51c4"
      },
      "source": [
        "# Plot accuracy over epochs\n",
        "\n",
        "plt.plot(np.array(Ann1.history['accuracy'])*100)\n",
        "plt.plot(np.array(Ann1.history['val_accuracy']) *100)\n",
        "plt.ylabel('accuracy')\n",
        "plt.xlabel('epochs')\n",
        "plt.title('Accuracy over Epochs')\n",
        "plt.legend(['train','validation'])\n",
        "plt.show()"
      ],
      "execution_count": null,
      "outputs": [
        {
          "output_type": "display_data",
          "data": {
            "image/png": "[encoded data removed]",
            "text/plain": [
              "<Figure size 432x288 with 1 Axes>"
            ]
          },
          "metadata": {
            "tags": [],
            "needs_background": "light"
          }
        }
      ]
    },
    {
      "cell_type": "code",
      "metadata": {
        "colab": {
          "base_uri": "https://localhost:8080/"
        },
        "id": "DnjH4fHY0t97",
        "outputId": "3c2fc4bc-1a17-4292-cce4-4442e38f0742"
      },
      "source": [
        "# Make Predictions on Test set\n",
        "Y_pred = Model1.predict(X_test)\n",
        "print(Y_pred)"
      ],
      "execution_count": null,
      "outputs": [
        {
          "output_type": "stream",
          "text": [
            "[[9.4472200e-01 3.8595755e-02 1.6682213e-02]\n",
            " [9.9520361e-01 4.7919136e-03 4.5193788e-06]\n",
            " [9.9987197e-01 1.1378955e-04 1.4185379e-05]\n",
            " ...\n",
            " [9.9999940e-01 5.4865035e-07 1.0501231e-08]\n",
            " [9.5341659e-01 4.1885827e-02 4.6976828e-03]\n",
            " [2.4547637e-01 7.3828596e-01 1.6237702e-02]]\n"
          ],
          "name": "stdout"
        }
      ]
    },
    {
      "cell_type": "code",
      "metadata": {
        "colab": {
          "base_uri": "https://localhost:8080/"
        },
        "id": "DA5_FDIxIYgj",
        "outputId": "d48df468-c98b-4155-8eab-28a24beb4ced"
      },
      "source": [
        "Y_pred_label = np.zeros(Y_pred.shape[0])\n",
        "for i in range(0,len(Y_pred)):\n",
        "  Y_pred_label[i] = np.argmax(Y_pred[i])\n",
        "\n",
        "Y_pred_label"
      ],
      "execution_count": null,
      "outputs": [
        {
          "output_type": "execute_result",
          "data": {
            "text/plain": [
              "array([0., 0., 0., ..., 0., 0., 1.])"
            ]
          },
          "metadata": {
            "tags": []
          },
          "execution_count": 80
        }
      ]
    },
    {
      "cell_type": "code",
      "metadata": {
        "colab": {
          "base_uri": "https://localhost:8080/"
        },
        "id": "0X7vzaiTHPvT",
        "outputId": "35f51d43-888b-4ec8-fd6e-3ee7ec4cdd3f"
      },
      "source": [
        "Y_test_label = np.zeros(Y_test.shape[0])\n",
        "for i in range(0,len(Y_test)):\n",
        "  Y_test_label[i] = np.argmax(Y_test[i])\n",
        "\n",
        "Y_test_label"
      ],
      "execution_count": null,
      "outputs": [
        {
          "output_type": "execute_result",
          "data": {
            "text/plain": [
              "array([0., 0., 0., ..., 0., 2., 0.])"
            ]
          },
          "metadata": {
            "tags": []
          },
          "execution_count": 81
        }
      ]
    },
    {
      "cell_type": "code",
      "metadata": {
        "colab": {
          "base_uri": "https://localhost:8080/"
        },
        "id": "G976PxgxIGbs",
        "outputId": "707243eb-b353-4ec2-a8f5-863c7f69bab7"
      },
      "source": [
        "cm = confusion_matrix(Y_test_label, Y_pred_label)\n",
        "print(cm)"
      ],
      "execution_count": null,
      "outputs": [
        {
          "output_type": "stream",
          "text": [
            "[[2353  264  136]\n",
            " [ 311  467  152]\n",
            " [ 119  120  470]]\n"
          ],
          "name": "stdout"
        }
      ]
    },
    {
      "cell_type": "code",
      "metadata": {
        "colab": {
          "base_uri": "https://localhost:8080/"
        },
        "id": "Nrp9bcozJuG9",
        "outputId": "d6094a5a-87ff-4b8f-a885-acb980e56143"
      },
      "source": [
        "print(classification_report(Y_test_label, Y_pred_label))"
      ],
      "execution_count": null,
      "outputs": [
        {
          "output_type": "stream",
          "text": [
            "              precision    recall  f1-score   support\n",
            "\n",
            "         0.0       0.85      0.85      0.85      2753\n",
            "         1.0       0.55      0.50      0.52       930\n",
            "         2.0       0.62      0.66      0.64       709\n",
            "\n",
            "    accuracy                           0.75      4392\n",
            "   macro avg       0.67      0.67      0.67      4392\n",
            "weighted avg       0.75      0.75      0.75      4392\n",
            "\n"
          ],
          "name": "stdout"
        }
      ]
    },
    {
      "cell_type": "code",
      "metadata": {
        "colab": {
          "base_uri": "https://localhost:8080/"
        },
        "id": "v1zlj4kCJ1Bb",
        "outputId": "b1d31fc3-75cf-4fba-b316-e7c531777428"
      },
      "source": [
        "f1 = f1_score(Y_test_label, Y_pred_label, average= 'weighted')\n",
        "print(f1)"
      ],
      "execution_count": null,
      "outputs": [
        {
          "output_type": "stream",
          "text": [
            "0.7473280916051918\n"
          ],
          "name": "stdout"
        }
      ]
    },
    {
      "cell_type": "code",
      "metadata": {
        "id": "ScsI9uhZO6oN"
      },
      "source": [
        ""
      ],
      "execution_count": null,
      "outputs": []
    },
    {
      "cell_type": "markdown",
      "metadata": {
        "id": "IlztQCq0DqAz"
      },
      "source": [
        "# Step 7: Model Evaluation:"
      ]
    },
    {
      "cell_type": "code",
      "metadata": {
        "id": "7ac1FqFiRy98"
      },
      "source": [
        "# Create multi-index\n",
        "array = [['Bag of Words','Bag of Words','Bag of Words',\n",
        "          'TF-IDF', 'TF-IDF', 'TF-IDF'],\n",
        "         ['Random Forest Classifier (RFC)','RFC (with balanced data)', 'Logistic Regression',\n",
        "          'Random Forest Classifier (RFC)','RFC (with balanced data)', 'Logistic Regression']]\n",
        "index = pd.MultiIndex.from_arrays(array, names=('Vectorization', 'Models'))"
      ],
      "execution_count": null,
      "outputs": []
    },
    {
      "cell_type": "code",
      "metadata": {
        "colab": {
          "base_uri": "https://localhost:8080/",
          "height": 266
        },
        "id": "986kUS0kQmE2",
        "outputId": "36beb6a2-3232-418b-9a7a-5dd982c815e8"
      },
      "source": [
        "# Summary (Stemming)\n",
        "stem_df = pd.DataFrame({ 'Training Accuracy' : [accuracy_score(stem_y_train, stem_forest_c.predict(stem_x_train_c)), \n",
        "                                                accuracy_score(stem_y_train, stem_forest_c_bal.predict(stem_x_train_c)), \n",
        "                                                accuracy_score(stem_y_train, stem_logistic_c.predict(stem_x_train_c)),\n",
        "                                                accuracy_score(stem_y_train, stem_forest_t.predict(stem_x_train_t)), \n",
        "                                                accuracy_score(stem_y_train, stem_forest_t_bal.predict(stem_x_train_t)), \n",
        "                                                accuracy_score(stem_y_train, stem_logistic_t.predict(stem_x_train_t))],\n",
        "                         'Testing Accuracy' : [accuracy_score(stem_y_test, stem_result_c),\n",
        "                                               accuracy_score(stem_y_test, stem_result_c_bal),\n",
        "                                               accuracy_score(stem_y_test, stem_result_logistic_c),\n",
        "                                               accuracy_score(stem_y_test, stem_result_t),\n",
        "                                               accuracy_score(stem_y_test, stem_result_t_bal),\n",
        "                                               accuracy_score(stem_y_test, stem_result_logistic_t)],\n",
        "                         'Recall' : [recall_score(stem_y_test, stem_result_c, average= 'weighted'),\n",
        "                                     recall_score(stem_y_test, stem_result_c_bal, average= 'weighted'),\n",
        "                                     recall_score(stem_y_test, stem_result_logistic_c, average= 'weighted'),\n",
        "                                     recall_score(stem_y_test, stem_result_t, average= 'weighted'),\n",
        "                                     recall_score(stem_y_test, stem_result_t_bal, average= 'weighted'),\n",
        "                                     recall_score(stem_y_test, stem_result_logistic_t, average= 'weighted')],\n",
        "                         'Precision' : [precision_score(stem_y_test, stem_result_c, average= 'weighted'),\n",
        "                                        precision_score(stem_y_test, stem_result_c_bal, average= 'weighted'),\n",
        "                                        precision_score(stem_y_test, stem_result_logistic_c, average= 'weighted'),\n",
        "                                        precision_score(stem_y_test, stem_result_t, average= 'weighted'),\n",
        "                                        precision_score(stem_y_test, stem_result_t_bal, average= 'weighted'),\n",
        "                                        precision_score(stem_y_test, stem_result_logistic_t, average= 'weighted')],\n",
        "                         'F1 Score' : [stem_bow1,stem_bow2, stem_logistic_bow1,\n",
        "                                       stem_tf1, stem_tf2, stem_logistic_tf1]},\n",
        "                       index = index )\n",
        "stem_df"
      ],
      "execution_count": null,
      "outputs": [
        {
          "output_type": "execute_result",
          "data": {
            "text/html": [
              "<div>\n",
              "<style scoped>\n",
              "    .dataframe tbody tr th:only-of-type {\n",
              "        vertical-align: middle;\n",
              "    }\n",
              "\n",
              "    .dataframe tbody tr th {\n",
              "        vertical-align: top;\n",
              "    }\n",
              "\n",
              "    .dataframe thead th {\n",
              "        text-align: right;\n",
              "    }\n",
              "</style>\n",
              "<table border=\"1\" class=\"dataframe\">\n",
              "  <thead>\n",
              "    <tr style=\"text-align: right;\">\n",
              "      <th></th>\n",
              "      <th></th>\n",
              "      <th>Training Accuracy</th>\n",
              "      <th>Testing Accuracy</th>\n",
              "      <th>Recall</th>\n",
              "      <th>Precision</th>\n",
              "      <th>F1 Score</th>\n",
              "    </tr>\n",
              "    <tr>\n",
              "      <th>Vectorization</th>\n",
              "      <th>Models</th>\n",
              "      <th></th>\n",
              "      <th></th>\n",
              "      <th></th>\n",
              "      <th></th>\n",
              "      <th></th>\n",
              "    </tr>\n",
              "  </thead>\n",
              "  <tbody>\n",
              "    <tr>\n",
              "      <th rowspan=\"3\" valign=\"top\">Bag of Words</th>\n",
              "      <th>Random Forest Classifier (RFC)</th>\n",
              "      <td>0.992779</td>\n",
              "      <td>0.762523</td>\n",
              "      <td>0.762523</td>\n",
              "      <td>0.752041</td>\n",
              "      <td>0.754893</td>\n",
              "    </tr>\n",
              "    <tr>\n",
              "      <th>RFC (with balanced data)</th>\n",
              "      <td>0.992779</td>\n",
              "      <td>0.766393</td>\n",
              "      <td>0.766393</td>\n",
              "      <td>0.757169</td>\n",
              "      <td>0.760468</td>\n",
              "    </tr>\n",
              "    <tr>\n",
              "      <th>Logistic Regression</th>\n",
              "      <td>0.822112</td>\n",
              "      <td>0.744763</td>\n",
              "      <td>0.744763</td>\n",
              "      <td>0.780065</td>\n",
              "      <td>0.755426</td>\n",
              "    </tr>\n",
              "    <tr>\n",
              "      <th rowspan=\"3\" valign=\"top\">TF-IDF</th>\n",
              "      <th>Random Forest Classifier (RFC)</th>\n",
              "      <td>0.992779</td>\n",
              "      <td>0.762978</td>\n",
              "      <td>0.762978</td>\n",
              "      <td>0.750009</td>\n",
              "      <td>0.747473</td>\n",
              "    </tr>\n",
              "    <tr>\n",
              "      <th>RFC (with balanced data)</th>\n",
              "      <td>0.992779</td>\n",
              "      <td>0.765483</td>\n",
              "      <td>0.765483</td>\n",
              "      <td>0.754593</td>\n",
              "      <td>0.755387</td>\n",
              "    </tr>\n",
              "    <tr>\n",
              "      <th>Logistic Regression</th>\n",
              "      <td>0.813525</td>\n",
              "      <td>0.752049</td>\n",
              "      <td>0.752049</td>\n",
              "      <td>0.783529</td>\n",
              "      <td>0.761968</td>\n",
              "    </tr>\n",
              "  </tbody>\n",
              "</table>\n",
              "</div>"
            ],
            "text/plain": [
              "                                              Training Accuracy  ...  F1 Score\n",
              "Vectorization Models                                             ...          \n",
              "Bag of Words  Random Forest Classifier (RFC)           0.992779  ...  0.754893\n",
              "              RFC (with balanced data)                 0.992779  ...  0.760468\n",
              "              Logistic Regression                      0.822112  ...  0.755426\n",
              "TF-IDF        Random Forest Classifier (RFC)           0.992779  ...  0.747473\n",
              "              RFC (with balanced data)                 0.992779  ...  0.755387\n",
              "              Logistic Regression                      0.813525  ...  0.761968\n",
              "\n",
              "[6 rows x 5 columns]"
            ]
          },
          "metadata": {
            "tags": []
          },
          "execution_count": 86
        }
      ]
    },
    {
      "cell_type": "code",
      "metadata": {
        "colab": {
          "base_uri": "https://localhost:8080/",
          "height": 266
        },
        "id": "691GZ1SMR-wX",
        "outputId": "5547df02-83ec-47a1-b24a-c3267a307552"
      },
      "source": [
        "# Summary (Lemmatization)\n",
        "lemma_df = pd.DataFrame({ 'Training Accuracy' : [accuracy_score(lemma_y_train, lemma_forest_c.predict(lemma_x_train_c)), \n",
        "                                                accuracy_score(lemma_y_train, lemma_forest_c_bal.predict(lemma_x_train_c)), \n",
        "                                                accuracy_score(lemma_y_train, lemma_logistic_c.predict(lemma_x_train_c)),\n",
        "                                                accuracy_score(lemma_y_train, lemma_forest_t.predict(lemma_x_train_t)), \n",
        "                                                accuracy_score(lemma_y_train, lemma_forest_t_bal.predict(lemma_x_train_t)), \n",
        "                                                accuracy_score(lemma_y_train, lemma_logistic_t.predict(lemma_x_train_t))],\n",
        "                         'Testing Accuracy' : [accuracy_score(lemma_y_test, lemma_result_c),\n",
        "                                               accuracy_score(lemma_y_test, lemma_result_c_bal),\n",
        "                                               accuracy_score(lemma_y_test, lemma_result_logistic_c),\n",
        "                                               accuracy_score(lemma_y_test, lemma_result_t),\n",
        "                                               accuracy_score(lemma_y_test, lemma_result_t_bal),\n",
        "                                               accuracy_score(lemma_y_test, lemma_result_logistic_t)],\n",
        "                         'Recall' : [recall_score(lemma_y_test, lemma_result_c, average= 'weighted'),\n",
        "                                     recall_score(lemma_y_test, lemma_result_c_bal, average= 'weighted'),\n",
        "                                     recall_score(lemma_y_test, lemma_result_logistic_c, average= 'weighted'),\n",
        "                                     recall_score(lemma_y_test, lemma_result_t, average= 'weighted'),\n",
        "                                     recall_score(lemma_y_test, lemma_result_t_bal, average= 'weighted'),\n",
        "                                     recall_score(lemma_y_test, lemma_result_logistic_t, average= 'weighted')],\n",
        "                         'Precision' : [precision_score(lemma_y_test, lemma_result_c, average= 'weighted'),\n",
        "                                        precision_score(lemma_y_test, lemma_result_c_bal, average= 'weighted'),\n",
        "                                        precision_score(lemma_y_test, lemma_result_logistic_c, average= 'weighted'),\n",
        "                                        precision_score(lemma_y_test, lemma_result_t, average= 'weighted'),\n",
        "                                        precision_score(lemma_y_test, lemma_result_t_bal, average= 'weighted'),\n",
        "                                        precision_score(lemma_y_test, lemma_result_logistic_t, average= 'weighted')],\n",
        "                         'F1 Score' : [lemma_bow1,lemma_bow2, lemma_logistic_bow1,\n",
        "                                       lemma_tf1, lemma_tf2, lemma_logistic_tf1]},\n",
        "                       index = index )\n",
        "lemma_df"
      ],
      "execution_count": null,
      "outputs": [
        {
          "output_type": "execute_result",
          "data": {
            "text/html": [
              "<div>\n",
              "<style scoped>\n",
              "    .dataframe tbody tr th:only-of-type {\n",
              "        vertical-align: middle;\n",
              "    }\n",
              "\n",
              "    .dataframe tbody tr th {\n",
              "        vertical-align: top;\n",
              "    }\n",
              "\n",
              "    .dataframe thead th {\n",
              "        text-align: right;\n",
              "    }\n",
              "</style>\n",
              "<table border=\"1\" class=\"dataframe\">\n",
              "  <thead>\n",
              "    <tr style=\"text-align: right;\">\n",
              "      <th></th>\n",
              "      <th></th>\n",
              "      <th>Training Accuracy</th>\n",
              "      <th>Testing Accuracy</th>\n",
              "      <th>Recall</th>\n",
              "      <th>Precision</th>\n",
              "      <th>F1 Score</th>\n",
              "    </tr>\n",
              "    <tr>\n",
              "      <th>Vectorization</th>\n",
              "      <th>Models</th>\n",
              "      <th></th>\n",
              "      <th></th>\n",
              "      <th></th>\n",
              "      <th></th>\n",
              "      <th></th>\n",
              "    </tr>\n",
              "  </thead>\n",
              "  <tbody>\n",
              "    <tr>\n",
              "      <th rowspan=\"3\" valign=\"top\">Bag of Words</th>\n",
              "      <th>Random Forest Classifier (RFC)</th>\n",
              "      <td>0.991413</td>\n",
              "      <td>0.758424</td>\n",
              "      <td>0.758424</td>\n",
              "      <td>0.747111</td>\n",
              "      <td>0.750282</td>\n",
              "    </tr>\n",
              "    <tr>\n",
              "      <th>RFC (with balanced data)</th>\n",
              "      <td>0.991413</td>\n",
              "      <td>0.766166</td>\n",
              "      <td>0.766166</td>\n",
              "      <td>0.756334</td>\n",
              "      <td>0.759602</td>\n",
              "    </tr>\n",
              "    <tr>\n",
              "      <th>Logistic Regression</th>\n",
              "      <td>0.821331</td>\n",
              "      <td>0.743625</td>\n",
              "      <td>0.743625</td>\n",
              "      <td>0.778260</td>\n",
              "      <td>0.754134</td>\n",
              "    </tr>\n",
              "    <tr>\n",
              "      <th rowspan=\"3\" valign=\"top\">TF-IDF</th>\n",
              "      <th>Random Forest Classifier (RFC)</th>\n",
              "      <td>0.991315</td>\n",
              "      <td>0.762295</td>\n",
              "      <td>0.762295</td>\n",
              "      <td>0.749709</td>\n",
              "      <td>0.747114</td>\n",
              "    </tr>\n",
              "    <tr>\n",
              "      <th>RFC (with balanced data)</th>\n",
              "      <td>0.991218</td>\n",
              "      <td>0.763889</td>\n",
              "      <td>0.763889</td>\n",
              "      <td>0.754065</td>\n",
              "      <td>0.754348</td>\n",
              "    </tr>\n",
              "    <tr>\n",
              "      <th>Logistic Regression</th>\n",
              "      <td>0.814403</td>\n",
              "      <td>0.759107</td>\n",
              "      <td>0.759107</td>\n",
              "      <td>0.785448</td>\n",
              "      <td>0.767784</td>\n",
              "    </tr>\n",
              "  </tbody>\n",
              "</table>\n",
              "</div>"
            ],
            "text/plain": [
              "                                              Training Accuracy  ...  F1 Score\n",
              "Vectorization Models                                             ...          \n",
              "Bag of Words  Random Forest Classifier (RFC)           0.991413  ...  0.750282\n",
              "              RFC (with balanced data)                 0.991413  ...  0.759602\n",
              "              Logistic Regression                      0.821331  ...  0.754134\n",
              "TF-IDF        Random Forest Classifier (RFC)           0.991315  ...  0.747114\n",
              "              RFC (with balanced data)                 0.991218  ...  0.754348\n",
              "              Logistic Regression                      0.814403  ...  0.767784\n",
              "\n",
              "[6 rows x 5 columns]"
            ]
          },
          "metadata": {
            "tags": []
          },
          "execution_count": 87
        }
      ]
    },
    {
      "cell_type": "code",
      "metadata": {
        "colab": {
          "base_uri": "https://localhost:8080/",
          "height": 142
        },
        "id": "WY8E1mKQGzM9",
        "outputId": "ec38d265-bc16-45fc-d568-d101cfcb8a70"
      },
      "source": [
        "# Compare Accuracy, Recall, Precision & F1 Score for 2 best models\n",
        "from sklearn.metrics import recall_score, precision_score, accuracy_score\n",
        "df2 = pd.DataFrame(data = { 'Training Accuracy' : [accuracy_score(stem_y_train,stem_logistic_t.predict(stem_x_train_t)), \n",
        "                                                   accuracy_score(lemma_y_train,lemma_logistic_t.predict(lemma_x_train_t))],\n",
        "                           'Testing Accuracy' : [accuracy_score(stem_y_test, stem_result_logistic_t), \n",
        "                                                 accuracy_score(lemma_y_test, lemma_result_logistic_t)],\n",
        "                            'Recall' : [recall_score(stem_y_test, stem_result_logistic_t, average= 'weighted'),\n",
        "                                        recall_score(lemma_y_test, lemma_result_logistic_t , average= 'weighted')],\n",
        "                            'Precision' : [precision_score(stem_y_test, stem_result_logistic_t, average= 'weighted'), \n",
        "                                          precision_score(lemma_y_test, lemma_result_logistic_t, average= 'weighted')],\n",
        "                            'F1 Score' : [stem_logistic_tf1, lemma_logistic_tf1],\n",
        "                            'TF-IDF (Logistic Regression)': ['Stemming', 'Lemmatization']})\n",
        "df2.set_index('TF-IDF (Logistic Regression)', inplace = True)\n",
        "df2"
      ],
      "execution_count": null,
      "outputs": [
        {
          "output_type": "execute_result",
          "data": {
            "text/html": [
              "<div>\n",
              "<style scoped>\n",
              "    .dataframe tbody tr th:only-of-type {\n",
              "        vertical-align: middle;\n",
              "    }\n",
              "\n",
              "    .dataframe tbody tr th {\n",
              "        vertical-align: top;\n",
              "    }\n",
              "\n",
              "    .dataframe thead th {\n",
              "        text-align: right;\n",
              "    }\n",
              "</style>\n",
              "<table border=\"1\" class=\"dataframe\">\n",
              "  <thead>\n",
              "    <tr style=\"text-align: right;\">\n",
              "      <th></th>\n",
              "      <th>Training Accuracy</th>\n",
              "      <th>Testing Accuracy</th>\n",
              "      <th>Recall</th>\n",
              "      <th>Precision</th>\n",
              "      <th>F1 Score</th>\n",
              "    </tr>\n",
              "    <tr>\n",
              "      <th>TF-IDF (Logistic Regression)</th>\n",
              "      <th></th>\n",
              "      <th></th>\n",
              "      <th></th>\n",
              "      <th></th>\n",
              "      <th></th>\n",
              "    </tr>\n",
              "  </thead>\n",
              "  <tbody>\n",
              "    <tr>\n",
              "      <th>Stemming</th>\n",
              "      <td>0.813525</td>\n",
              "      <td>0.752049</td>\n",
              "      <td>0.752049</td>\n",
              "      <td>0.783529</td>\n",
              "      <td>0.761968</td>\n",
              "    </tr>\n",
              "    <tr>\n",
              "      <th>Lemmatization</th>\n",
              "      <td>0.814403</td>\n",
              "      <td>0.759107</td>\n",
              "      <td>0.759107</td>\n",
              "      <td>0.785448</td>\n",
              "      <td>0.767784</td>\n",
              "    </tr>\n",
              "  </tbody>\n",
              "</table>\n",
              "</div>"
            ],
            "text/plain": [
              "                              Training Accuracy  ...  F1 Score\n",
              "TF-IDF (Logistic Regression)                     ...          \n",
              "Stemming                               0.813525  ...  0.761968\n",
              "Lemmatization                          0.814403  ...  0.767784\n",
              "\n",
              "[2 rows x 5 columns]"
            ]
          },
          "metadata": {
            "tags": []
          },
          "execution_count": 88
        }
      ]
    },
    {
      "cell_type": "markdown",
      "metadata": {
        "id": "LYkTkpfBz2rv"
      },
      "source": [
        "> Highest F1 score is for TF-IDF vectorization with Logistic Regression Classifier (using balanced dataset) and using Lemmatization, which is about 0.7677"
      ]
    },
    {
      "cell_type": "code",
      "metadata": {
        "colab": {
          "base_uri": "https://localhost:8080/",
          "height": 142
        },
        "id": "ac41bsMqLegx",
        "outputId": "196b95a5-7cd6-4879-cfa7-a32193188116"
      },
      "source": [
        "# Summary of ANN built using TF-IDF & Lemmatization\n",
        "\n",
        "df3 = pd.DataFrame(data = { 'Training Accuracy' : [score1_train[1], \n",
        "                                                   accuracy_score(lemma_y_train,lemma_logistic_t.predict(lemma_x_train_t))],\n",
        "                           'Testing Accuracy' : [score1_test[1],\n",
        "                                                 accuracy_score(lemma_y_test, lemma_result_logistic_t)],\n",
        "                            'Recall' : [recall_score(Y_test_label, Y_pred_label, average= 'weighted'),\n",
        "                                        recall_score(lemma_y_test, lemma_result_logistic_t , average= 'weighted')],\n",
        "                            'Precision' : [precision_score(Y_test_label, Y_pred_label, average= 'weighted'), \n",
        "                                          precision_score(lemma_y_test, lemma_result_logistic_t, average= 'weighted')],\n",
        "                            'F1 Score' : [f1, lemma_logistic_tf1],\n",
        "                            'TF-IDF (Lemmatization)': [ 'Artificial Neural Network', 'Logistic Regression']})\n",
        "df3.set_index('TF-IDF (Lemmatization)', inplace = True)\n",
        "df3\n"
      ],
      "execution_count": null,
      "outputs": [
        {
          "output_type": "execute_result",
          "data": {
            "text/html": [
              "<div>\n",
              "<style scoped>\n",
              "    .dataframe tbody tr th:only-of-type {\n",
              "        vertical-align: middle;\n",
              "    }\n",
              "\n",
              "    .dataframe tbody tr th {\n",
              "        vertical-align: top;\n",
              "    }\n",
              "\n",
              "    .dataframe thead th {\n",
              "        text-align: right;\n",
              "    }\n",
              "</style>\n",
              "<table border=\"1\" class=\"dataframe\">\n",
              "  <thead>\n",
              "    <tr style=\"text-align: right;\">\n",
              "      <th></th>\n",
              "      <th>Training Accuracy</th>\n",
              "      <th>Testing Accuracy</th>\n",
              "      <th>Recall</th>\n",
              "      <th>Precision</th>\n",
              "      <th>F1 Score</th>\n",
              "    </tr>\n",
              "    <tr>\n",
              "      <th>TF-IDF (Lemmatization)</th>\n",
              "      <th></th>\n",
              "      <th></th>\n",
              "      <th></th>\n",
              "      <th></th>\n",
              "      <th></th>\n",
              "    </tr>\n",
              "  </thead>\n",
              "  <tbody>\n",
              "    <tr>\n",
              "      <th>Artificial Neural Network</th>\n",
              "      <td>0.893833</td>\n",
              "      <td>0.749089</td>\n",
              "      <td>0.749089</td>\n",
              "      <td>0.746267</td>\n",
              "      <td>0.747328</td>\n",
              "    </tr>\n",
              "    <tr>\n",
              "      <th>Logistic Regression</th>\n",
              "      <td>0.814403</td>\n",
              "      <td>0.759107</td>\n",
              "      <td>0.759107</td>\n",
              "      <td>0.785448</td>\n",
              "      <td>0.767784</td>\n",
              "    </tr>\n",
              "  </tbody>\n",
              "</table>\n",
              "</div>"
            ],
            "text/plain": [
              "                           Training Accuracy  ...  F1 Score\n",
              "TF-IDF (Lemmatization)                        ...          \n",
              "Artificial Neural Network           0.893833  ...  0.747328\n",
              "Logistic Regression                 0.814403  ...  0.767784\n",
              "\n",
              "[2 rows x 5 columns]"
            ]
          },
          "metadata": {
            "tags": []
          },
          "execution_count": 89
        }
      ]
    },
    {
      "cell_type": "markdown",
      "metadata": {
        "id": "7w8iR9JEQIeO"
      },
      "source": [
        "> Logistic Regression has 81.4% training accuracy and 75.9% testing accuracy, which improves the overfitting problem as compared to Artificial Neural Network. The 'weighted' recall and 'weighted' precision is higher for Logistic Regression. Also, the 'weighted' F1 is higher for Logistic Regression i.e. 0.7677. This is the best model. "
      ]
    },
    {
      "cell_type": "markdown",
      "metadata": {
        "id": "I_PHf24KCAOX"
      },
      "source": [
        "# Conclusion:\n",
        "\n",
        "- ***Text preprocessing*** steps include removing html tags (if any), getting rid of numbers/accented characters/non-ascii/weblinks/punctuations, removing stopwords that dont add much meaning to the text, convert the text to lowercase so words with different cases are not treated differently, and also convert the text into words or tokens to be treated separately (and create vocabulary list for model).\n",
        "- Further we use ***lemmatization*** to get useful lemmas from clean text instead of stemming that probably is loosing context because it creates stems that may or may not have dictionary meaning. The evaluation metrics for lemmatization is also better than stemming. \n",
        "- We convert the text into numbers by using two approaches 'Bag of Words' and 'TF-IDF'\n",
        "  - ***Bag of words*** counts the frequency of words in the vocabulary and creates a document-term matrix that can be used as input features to build the model later. Each word gets equal weightage in this case. \n",
        "  - ***TF-IDF***, on the contrary tells how important a word is to the document by comparing it to other documents as well. Frequently occuring words are given less weightage as compared to less frequent words, that helps in differentiating the documents. Here TF is the term frequency (tells how important a word is to a document) and IDF is Inverse document frequency (tells if a word can be used to distinguish documents).\n",
        "- One way to improve bag of words model is to use N-grams to keep the order and retain context, however, we chose TF-IDF vectorization.\n",
        "\n",
        ">**Therefore, considering the overfitting problem, we select the Logistic Regression classification model that uses lemmatization & TF-IDF vectorization to get an training accuracy of 81.4%, testing accuracy of 75.9%, weighter recall of 75.9%, weighted precision of 78.5%, and weighted F1 score of 76.7%.** \n"
      ]
    }
  ]
}