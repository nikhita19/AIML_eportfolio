{
 "cells": [
  {
   "cell_type": "markdown",
   "metadata": {},
   "source": [
    "# AllLife Credit Card Customer Segmentation"
   ]
  },
  {
   "cell_type": "markdown",
   "metadata": {},
   "source": [
    "## Background: \n",
    "AllLife Bank wants to focus on its credit card customer base in the next financial year. They have been advised by their marketing research team, that the penetration in the market can be improved. Based on this input, the Marketing team proposes to run personalised campaigns to target new customers as well as upsell to existing customers. Another insight from the market research was that the customers perceive the support services of the bank poorly. Based on this, the Operations team wants to upgrade the service delivery model, to ensure that customers queries are resolved faster. Head of Marketing and Head of Delivery both decide to reach out to the Data Science team for help.\n",
    "\n",
    "## Objective:\n",
    "To identify different segments in the existing customer based on their spending patterns as well as past interaction with the bank.\n",
    "\n",
    "## Key Questions:\n",
    "1. How many different segments of customers are there?\n",
    "2. How are these segments different from each other?\n",
    "3. What are your recommendations to the bank on how to better market to and service these customers?\n",
    "\n",
    "## Data Description:\n",
    "Data is of various customers of a bank with their credit limit, the total number of credit cards the customer has, and different channels through which customer has contacted the bank for any queries, different channels include visiting the bank, online and through a call centre.\n",
    "\n",
    "- Customer key - Identifier for the customer\n",
    "- Average Credit Limit - Average credit limit across all the credit cards\n",
    "- Total credit cards - Total number of credit cards\n",
    "- Total visits bank - Total number of bank visits\n",
    "- Total visits online - total number of online visits\n",
    "- Total calls made - Total number of calls made by the customer"
   ]
  },
  {
   "cell_type": "markdown",
   "metadata": {},
   "source": [
    "### Steps to follow:\n",
    "\n",
    "1. Perform univariate analysis on the data to better understand the variables at your disposal and to get an idea about the no of clusters. Perform EDA, create visualizations to explore data. (10 marks)\n",
    "2. Properly comment on the codes, provide explanations of the steps taken in the notebook and conclude your insights from the graphs. (5 marks)\n",
    "3. Execute K-means clustering use elbow plot and analyse clusters using boxplot (10 marks)\n",
    "4. Execute hierarchical clustering (with different linkages) with the help of dendrogram and cophenetic coeff. Analyse clusters formed using boxplot (15 marks)\n",
    "5. Calculate average silhouette score for both methods.(5marks)\n",
    "6. Compare K-means clusters with Hierarchical clusters. (5 marks)\n",
    "7. Analysis the clusters formed, tell us how is one cluster different from another and answer all the key questions. (10 marks)"
   ]
  },
  {
   "cell_type": "markdown",
   "metadata": {},
   "source": [
    "# 1. Import Libraries & Load Dataset"
   ]
  },
  {
   "cell_type": "code",
   "execution_count": 1,
   "metadata": {},
   "outputs": [],
   "source": [
    "import warnings\n",
    "warnings.filterwarnings('ignore')\n",
    "%matplotlib inline\n",
    "import numpy as np\n",
    "import pandas as pd\n",
    "import matplotlib.pyplot as plt\n",
    "import seaborn as sns"
   ]
  },
  {
   "cell_type": "code",
   "execution_count": 2,
   "metadata": {},
   "outputs": [],
   "source": [
    "# load dataset\n",
    "data_original = pd.read_excel('Credit Card Customer Data.xlsx')"
   ]
  },
  {
   "cell_type": "code",
   "execution_count": 3,
   "metadata": {},
   "outputs": [
    {
     "data": {
      "text/html": [
       "<div>\n",
       "<style scoped>\n",
       "    .dataframe tbody tr th:only-of-type {\n",
       "        vertical-align: middle;\n",
       "    }\n",
       "\n",
       "    .dataframe tbody tr th {\n",
       "        vertical-align: top;\n",
       "    }\n",
       "\n",
       "    .dataframe thead th {\n",
       "        text-align: right;\n",
       "    }\n",
       "</style>\n",
       "<table border=\"1\" class=\"dataframe\">\n",
       "  <thead>\n",
       "    <tr style=\"text-align: right;\">\n",
       "      <th></th>\n",
       "      <th>Sl_No</th>\n",
       "      <th>Customer Key</th>\n",
       "      <th>Avg_Credit_Limit</th>\n",
       "      <th>Total_Credit_Cards</th>\n",
       "      <th>Total_visits_bank</th>\n",
       "      <th>Total_visits_online</th>\n",
       "      <th>Total_calls_made</th>\n",
       "    </tr>\n",
       "  </thead>\n",
       "  <tbody>\n",
       "    <tr>\n",
       "      <th>0</th>\n",
       "      <td>1</td>\n",
       "      <td>87073</td>\n",
       "      <td>100000</td>\n",
       "      <td>2</td>\n",
       "      <td>1</td>\n",
       "      <td>1</td>\n",
       "      <td>0</td>\n",
       "    </tr>\n",
       "    <tr>\n",
       "      <th>1</th>\n",
       "      <td>2</td>\n",
       "      <td>38414</td>\n",
       "      <td>50000</td>\n",
       "      <td>3</td>\n",
       "      <td>0</td>\n",
       "      <td>10</td>\n",
       "      <td>9</td>\n",
       "    </tr>\n",
       "    <tr>\n",
       "      <th>2</th>\n",
       "      <td>3</td>\n",
       "      <td>17341</td>\n",
       "      <td>50000</td>\n",
       "      <td>7</td>\n",
       "      <td>1</td>\n",
       "      <td>3</td>\n",
       "      <td>4</td>\n",
       "    </tr>\n",
       "    <tr>\n",
       "      <th>3</th>\n",
       "      <td>4</td>\n",
       "      <td>40496</td>\n",
       "      <td>30000</td>\n",
       "      <td>5</td>\n",
       "      <td>1</td>\n",
       "      <td>1</td>\n",
       "      <td>4</td>\n",
       "    </tr>\n",
       "    <tr>\n",
       "      <th>4</th>\n",
       "      <td>5</td>\n",
       "      <td>47437</td>\n",
       "      <td>100000</td>\n",
       "      <td>6</td>\n",
       "      <td>0</td>\n",
       "      <td>12</td>\n",
       "      <td>3</td>\n",
       "    </tr>\n",
       "  </tbody>\n",
       "</table>\n",
       "</div>"
      ],
      "text/plain": [
       "   Sl_No  Customer Key  Avg_Credit_Limit  Total_Credit_Cards  \\\n",
       "0      1         87073            100000                   2   \n",
       "1      2         38414             50000                   3   \n",
       "2      3         17341             50000                   7   \n",
       "3      4         40496             30000                   5   \n",
       "4      5         47437            100000                   6   \n",
       "\n",
       "   Total_visits_bank  Total_visits_online  Total_calls_made  \n",
       "0                  1                    1                 0  \n",
       "1                  0                   10                 9  \n",
       "2                  1                    3                 4  \n",
       "3                  1                    1                 4  \n",
       "4                  0                   12                 3  "
      ]
     },
     "execution_count": 3,
     "metadata": {},
     "output_type": "execute_result"
    }
   ],
   "source": [
    "# view dataset\n",
    "data_original.head()"
   ]
  },
  {
   "cell_type": "code",
   "execution_count": 4,
   "metadata": {},
   "outputs": [],
   "source": [
    "# Drop first column: 'Sl_No'\n",
    "data_original.drop('Sl_No', axis = 1, inplace = True)"
   ]
  },
  {
   "cell_type": "code",
   "execution_count": 5,
   "metadata": {},
   "outputs": [],
   "source": [
    "# Create a copy of original dataset\n",
    "data = data_original.copy()"
   ]
  },
  {
   "cell_type": "code",
   "execution_count": 6,
   "metadata": {},
   "outputs": [
    {
     "data": {
      "text/html": [
       "<div>\n",
       "<style scoped>\n",
       "    .dataframe tbody tr th:only-of-type {\n",
       "        vertical-align: middle;\n",
       "    }\n",
       "\n",
       "    .dataframe tbody tr th {\n",
       "        vertical-align: top;\n",
       "    }\n",
       "\n",
       "    .dataframe thead th {\n",
       "        text-align: right;\n",
       "    }\n",
       "</style>\n",
       "<table border=\"1\" class=\"dataframe\">\n",
       "  <thead>\n",
       "    <tr style=\"text-align: right;\">\n",
       "      <th></th>\n",
       "      <th>Customer Key</th>\n",
       "      <th>Avg_Credit_Limit</th>\n",
       "      <th>Total_Credit_Cards</th>\n",
       "      <th>Total_visits_bank</th>\n",
       "      <th>Total_visits_online</th>\n",
       "      <th>Total_calls_made</th>\n",
       "    </tr>\n",
       "  </thead>\n",
       "  <tbody>\n",
       "    <tr>\n",
       "      <th>0</th>\n",
       "      <td>87073</td>\n",
       "      <td>100000</td>\n",
       "      <td>2</td>\n",
       "      <td>1</td>\n",
       "      <td>1</td>\n",
       "      <td>0</td>\n",
       "    </tr>\n",
       "    <tr>\n",
       "      <th>1</th>\n",
       "      <td>38414</td>\n",
       "      <td>50000</td>\n",
       "      <td>3</td>\n",
       "      <td>0</td>\n",
       "      <td>10</td>\n",
       "      <td>9</td>\n",
       "    </tr>\n",
       "    <tr>\n",
       "      <th>2</th>\n",
       "      <td>17341</td>\n",
       "      <td>50000</td>\n",
       "      <td>7</td>\n",
       "      <td>1</td>\n",
       "      <td>3</td>\n",
       "      <td>4</td>\n",
       "    </tr>\n",
       "    <tr>\n",
       "      <th>3</th>\n",
       "      <td>40496</td>\n",
       "      <td>30000</td>\n",
       "      <td>5</td>\n",
       "      <td>1</td>\n",
       "      <td>1</td>\n",
       "      <td>4</td>\n",
       "    </tr>\n",
       "    <tr>\n",
       "      <th>4</th>\n",
       "      <td>47437</td>\n",
       "      <td>100000</td>\n",
       "      <td>6</td>\n",
       "      <td>0</td>\n",
       "      <td>12</td>\n",
       "      <td>3</td>\n",
       "    </tr>\n",
       "  </tbody>\n",
       "</table>\n",
       "</div>"
      ],
      "text/plain": [
       "   Customer Key  Avg_Credit_Limit  Total_Credit_Cards  Total_visits_bank  \\\n",
       "0         87073            100000                   2                  1   \n",
       "1         38414             50000                   3                  0   \n",
       "2         17341             50000                   7                  1   \n",
       "3         40496             30000                   5                  1   \n",
       "4         47437            100000                   6                  0   \n",
       "\n",
       "   Total_visits_online  Total_calls_made  \n",
       "0                    1                 0  \n",
       "1                   10                 9  \n",
       "2                    3                 4  \n",
       "3                    1                 4  \n",
       "4                   12                 3  "
      ]
     },
     "execution_count": 6,
     "metadata": {},
     "output_type": "execute_result"
    }
   ],
   "source": [
    "# view dataset again\n",
    "data.head()"
   ]
  },
  {
   "cell_type": "code",
   "execution_count": 7,
   "metadata": {},
   "outputs": [
    {
     "data": {
      "text/plain": [
       "(660, 6)"
      ]
     },
     "execution_count": 7,
     "metadata": {},
     "output_type": "execute_result"
    }
   ],
   "source": [
    "# shape of dataset\n",
    "data.shape"
   ]
  },
  {
   "cell_type": "markdown",
   "metadata": {},
   "source": [
    "> The dataset has 660 rows and 6 columns/attributes."
   ]
  },
  {
   "cell_type": "markdown",
   "metadata": {},
   "source": [
    "# 2. Data Analysis & Preprocessing"
   ]
  },
  {
   "cell_type": "code",
   "execution_count": 8,
   "metadata": {},
   "outputs": [
    {
     "name": "stdout",
     "output_type": "stream",
     "text": [
      "<class 'pandas.core.frame.DataFrame'>\n",
      "RangeIndex: 660 entries, 0 to 659\n",
      "Data columns (total 6 columns):\n",
      " #   Column               Non-Null Count  Dtype\n",
      "---  ------               --------------  -----\n",
      " 0   Customer Key         660 non-null    int64\n",
      " 1   Avg_Credit_Limit     660 non-null    int64\n",
      " 2   Total_Credit_Cards   660 non-null    int64\n",
      " 3   Total_visits_bank    660 non-null    int64\n",
      " 4   Total_visits_online  660 non-null    int64\n",
      " 5   Total_calls_made     660 non-null    int64\n",
      "dtypes: int64(6)\n",
      "memory usage: 31.1 KB\n"
     ]
    }
   ],
   "source": [
    "# dataset info\n",
    "data.info()"
   ]
  },
  {
   "cell_type": "markdown",
   "metadata": {},
   "source": [
    "> The dataset has no null values and all the datatypes are int64. (Also means that there are all numeric values and no wrong string imputations in the dataset)"
   ]
  },
  {
   "cell_type": "code",
   "execution_count": 9,
   "metadata": {},
   "outputs": [
    {
     "data": {
      "text/plain": [
       "Customer Key           0\n",
       "Avg_Credit_Limit       0\n",
       "Total_Credit_Cards     0\n",
       "Total_visits_bank      0\n",
       "Total_visits_online    0\n",
       "Total_calls_made       0\n",
       "dtype: int64"
      ]
     },
     "execution_count": 9,
     "metadata": {},
     "output_type": "execute_result"
    }
   ],
   "source": [
    "# Check missing values\n",
    "data.isnull().sum()"
   ]
  },
  {
   "cell_type": "markdown",
   "metadata": {},
   "source": [
    "> There are no missing values in the dataset"
   ]
  },
  {
   "cell_type": "code",
   "execution_count": 10,
   "metadata": {},
   "outputs": [
    {
     "data": {
      "text/html": [
       "<div>\n",
       "<style scoped>\n",
       "    .dataframe tbody tr th:only-of-type {\n",
       "        vertical-align: middle;\n",
       "    }\n",
       "\n",
       "    .dataframe tbody tr th {\n",
       "        vertical-align: top;\n",
       "    }\n",
       "\n",
       "    .dataframe thead th {\n",
       "        text-align: right;\n",
       "    }\n",
       "</style>\n",
       "<table border=\"1\" class=\"dataframe\">\n",
       "  <thead>\n",
       "    <tr style=\"text-align: right;\">\n",
       "      <th></th>\n",
       "      <th>count</th>\n",
       "      <th>mean</th>\n",
       "      <th>std</th>\n",
       "      <th>min</th>\n",
       "      <th>25%</th>\n",
       "      <th>50%</th>\n",
       "      <th>75%</th>\n",
       "      <th>max</th>\n",
       "    </tr>\n",
       "  </thead>\n",
       "  <tbody>\n",
       "    <tr>\n",
       "      <th>Customer Key</th>\n",
       "      <td>660.0</td>\n",
       "      <td>55141.443939</td>\n",
       "      <td>25627.772200</td>\n",
       "      <td>11265.0</td>\n",
       "      <td>33825.25</td>\n",
       "      <td>53874.5</td>\n",
       "      <td>77202.5</td>\n",
       "      <td>99843.0</td>\n",
       "    </tr>\n",
       "    <tr>\n",
       "      <th>Avg_Credit_Limit</th>\n",
       "      <td>660.0</td>\n",
       "      <td>34574.242424</td>\n",
       "      <td>37625.487804</td>\n",
       "      <td>3000.0</td>\n",
       "      <td>10000.00</td>\n",
       "      <td>18000.0</td>\n",
       "      <td>48000.0</td>\n",
       "      <td>200000.0</td>\n",
       "    </tr>\n",
       "    <tr>\n",
       "      <th>Total_Credit_Cards</th>\n",
       "      <td>660.0</td>\n",
       "      <td>4.706061</td>\n",
       "      <td>2.167835</td>\n",
       "      <td>1.0</td>\n",
       "      <td>3.00</td>\n",
       "      <td>5.0</td>\n",
       "      <td>6.0</td>\n",
       "      <td>10.0</td>\n",
       "    </tr>\n",
       "    <tr>\n",
       "      <th>Total_visits_bank</th>\n",
       "      <td>660.0</td>\n",
       "      <td>2.403030</td>\n",
       "      <td>1.631813</td>\n",
       "      <td>0.0</td>\n",
       "      <td>1.00</td>\n",
       "      <td>2.0</td>\n",
       "      <td>4.0</td>\n",
       "      <td>5.0</td>\n",
       "    </tr>\n",
       "    <tr>\n",
       "      <th>Total_visits_online</th>\n",
       "      <td>660.0</td>\n",
       "      <td>2.606061</td>\n",
       "      <td>2.935724</td>\n",
       "      <td>0.0</td>\n",
       "      <td>1.00</td>\n",
       "      <td>2.0</td>\n",
       "      <td>4.0</td>\n",
       "      <td>15.0</td>\n",
       "    </tr>\n",
       "    <tr>\n",
       "      <th>Total_calls_made</th>\n",
       "      <td>660.0</td>\n",
       "      <td>3.583333</td>\n",
       "      <td>2.865317</td>\n",
       "      <td>0.0</td>\n",
       "      <td>1.00</td>\n",
       "      <td>3.0</td>\n",
       "      <td>5.0</td>\n",
       "      <td>10.0</td>\n",
       "    </tr>\n",
       "  </tbody>\n",
       "</table>\n",
       "</div>"
      ],
      "text/plain": [
       "                     count          mean           std      min       25%  \\\n",
       "Customer Key         660.0  55141.443939  25627.772200  11265.0  33825.25   \n",
       "Avg_Credit_Limit     660.0  34574.242424  37625.487804   3000.0  10000.00   \n",
       "Total_Credit_Cards   660.0      4.706061      2.167835      1.0      3.00   \n",
       "Total_visits_bank    660.0      2.403030      1.631813      0.0      1.00   \n",
       "Total_visits_online  660.0      2.606061      2.935724      0.0      1.00   \n",
       "Total_calls_made     660.0      3.583333      2.865317      0.0      1.00   \n",
       "\n",
       "                         50%      75%       max  \n",
       "Customer Key         53874.5  77202.5   99843.0  \n",
       "Avg_Credit_Limit     18000.0  48000.0  200000.0  \n",
       "Total_Credit_Cards       5.0      6.0      10.0  \n",
       "Total_visits_bank        2.0      4.0       5.0  \n",
       "Total_visits_online      2.0      4.0      15.0  \n",
       "Total_calls_made         3.0      5.0      10.0  "
      ]
     },
     "execution_count": 10,
     "metadata": {},
     "output_type": "execute_result"
    }
   ],
   "source": [
    "# Statistical Summary of the dataset\n",
    "data.describe().T"
   ]
  },
  {
   "cell_type": "markdown",
   "metadata": {},
   "source": [
    "> Observations:\n",
    "- Average Credit Card limit ranges from \\\\$3000 -\\\\$200,000 with 50% of the customers having limit about \\\\$18,000. (This seems to be left-skewed distribution)\n",
    "- Total number of Credit Cards lie between 1-10 i.e. customers who atleast 1 credit card are included in the dataset, therefore no new customers. Also 50% of the customers have atleast 5 credit cards.\n",
    "- There are customers who never visit the bank whereas some of them who go to bank about 5 times. About 50% of people visit bank about 2 times for their queries. \n",
    "- There are customers who never visit online whereas some of them who go online about 15 times. About 50% of people visit online about 2 times for their queries.\n",
    "- There are customers who never call the bank whereas some of them who call the bank about 10 times. About 50% of people call bank about 3 times for their queries."
   ]
  },
  {
   "cell_type": "code",
   "execution_count": 11,
   "metadata": {},
   "outputs": [
    {
     "data": {
      "text/plain": [
       "Customer Key           655\n",
       "Avg_Credit_Limit       110\n",
       "Total_Credit_Cards      10\n",
       "Total_visits_bank        6\n",
       "Total_visits_online     16\n",
       "Total_calls_made        11\n",
       "dtype: int64"
      ]
     },
     "execution_count": 11,
     "metadata": {},
     "output_type": "execute_result"
    }
   ],
   "source": [
    "# check unique values\n",
    "data.nunique()"
   ]
  },
  {
   "cell_type": "markdown",
   "metadata": {},
   "source": [
    "> Since the unique values for 'Customer Key' is 655 means there are 655 customers. However, the shape of dataset shows 660 rows, hence there are duplicate values for 'Customer Key' which should be taken care of."
   ]
  },
  {
   "cell_type": "code",
   "execution_count": 12,
   "metadata": {},
   "outputs": [],
   "source": [
    "# Pandas Profiling\n",
    "#import pandas_profiling\n",
    "#pandas_profiling.ProfileReport(data).to_file('output.html')"
   ]
  },
  {
   "cell_type": "code",
   "execution_count": 13,
   "metadata": {},
   "outputs": [
    {
     "data": {
      "text/html": [
       "<div>\n",
       "<style scoped>\n",
       "    .dataframe tbody tr th:only-of-type {\n",
       "        vertical-align: middle;\n",
       "    }\n",
       "\n",
       "    .dataframe tbody tr th {\n",
       "        vertical-align: top;\n",
       "    }\n",
       "\n",
       "    .dataframe thead th {\n",
       "        text-align: right;\n",
       "    }\n",
       "</style>\n",
       "<table border=\"1\" class=\"dataframe\">\n",
       "  <thead>\n",
       "    <tr style=\"text-align: right;\">\n",
       "      <th></th>\n",
       "      <th>Customer Key</th>\n",
       "      <th>Avg_Credit_Limit</th>\n",
       "      <th>Total_Credit_Cards</th>\n",
       "      <th>Total_visits_bank</th>\n",
       "      <th>Total_visits_online</th>\n",
       "      <th>Total_calls_made</th>\n",
       "    </tr>\n",
       "  </thead>\n",
       "  <tbody>\n",
       "  </tbody>\n",
       "</table>\n",
       "</div>"
      ],
      "text/plain": [
       "Empty DataFrame\n",
       "Columns: [Customer Key, Avg_Credit_Limit, Total_Credit_Cards, Total_visits_bank, Total_visits_online, Total_calls_made]\n",
       "Index: []"
      ]
     },
     "execution_count": 13,
     "metadata": {},
     "output_type": "execute_result"
    }
   ],
   "source": [
    "# check duplicate values\n",
    "data[data.duplicated()==True]"
   ]
  },
  {
   "cell_type": "markdown",
   "metadata": {},
   "source": [
    "> There are no similar/duplicate rows in the dataset. However, we need to check if there are duplicate Customer Keys representing the same customers."
   ]
  },
  {
   "cell_type": "code",
   "execution_count": 14,
   "metadata": {},
   "outputs": [
    {
     "data": {
      "text/html": [
       "<div>\n",
       "<style scoped>\n",
       "    .dataframe tbody tr th:only-of-type {\n",
       "        vertical-align: middle;\n",
       "    }\n",
       "\n",
       "    .dataframe tbody tr th {\n",
       "        vertical-align: top;\n",
       "    }\n",
       "\n",
       "    .dataframe thead th {\n",
       "        text-align: right;\n",
       "    }\n",
       "</style>\n",
       "<table border=\"1\" class=\"dataframe\">\n",
       "  <thead>\n",
       "    <tr style=\"text-align: right;\">\n",
       "      <th></th>\n",
       "      <th>Customer Key</th>\n",
       "      <th>Avg_Credit_Limit</th>\n",
       "      <th>Total_Credit_Cards</th>\n",
       "      <th>Total_visits_bank</th>\n",
       "      <th>Total_visits_online</th>\n",
       "      <th>Total_calls_made</th>\n",
       "    </tr>\n",
       "  </thead>\n",
       "  <tbody>\n",
       "    <tr>\n",
       "      <th>332</th>\n",
       "      <td>47437</td>\n",
       "      <td>17000</td>\n",
       "      <td>7</td>\n",
       "      <td>3</td>\n",
       "      <td>1</td>\n",
       "      <td>0</td>\n",
       "    </tr>\n",
       "    <tr>\n",
       "      <th>398</th>\n",
       "      <td>96929</td>\n",
       "      <td>67000</td>\n",
       "      <td>6</td>\n",
       "      <td>2</td>\n",
       "      <td>2</td>\n",
       "      <td>2</td>\n",
       "    </tr>\n",
       "    <tr>\n",
       "      <th>432</th>\n",
       "      <td>37252</td>\n",
       "      <td>59000</td>\n",
       "      <td>6</td>\n",
       "      <td>2</td>\n",
       "      <td>1</td>\n",
       "      <td>2</td>\n",
       "    </tr>\n",
       "    <tr>\n",
       "      <th>541</th>\n",
       "      <td>50706</td>\n",
       "      <td>60000</td>\n",
       "      <td>7</td>\n",
       "      <td>5</td>\n",
       "      <td>2</td>\n",
       "      <td>2</td>\n",
       "    </tr>\n",
       "    <tr>\n",
       "      <th>632</th>\n",
       "      <td>97935</td>\n",
       "      <td>187000</td>\n",
       "      <td>7</td>\n",
       "      <td>1</td>\n",
       "      <td>7</td>\n",
       "      <td>0</td>\n",
       "    </tr>\n",
       "  </tbody>\n",
       "</table>\n",
       "</div>"
      ],
      "text/plain": [
       "     Customer Key  Avg_Credit_Limit  Total_Credit_Cards  Total_visits_bank  \\\n",
       "332         47437             17000                   7                  3   \n",
       "398         96929             67000                   6                  2   \n",
       "432         37252             59000                   6                  2   \n",
       "541         50706             60000                   7                  5   \n",
       "632         97935            187000                   7                  1   \n",
       "\n",
       "     Total_visits_online  Total_calls_made  \n",
       "332                    1                 0  \n",
       "398                    2                 2  \n",
       "432                    1                 2  \n",
       "541                    2                 2  \n",
       "632                    7                 0  "
      ]
     },
     "execution_count": 14,
     "metadata": {},
     "output_type": "execute_result"
    }
   ],
   "source": [
    "# Check duplicate 'Customer Key' values\n",
    "data[data['Customer Key'].duplicated() == True]"
   ]
  },
  {
   "cell_type": "markdown",
   "metadata": {},
   "source": [
    "> There are 5 duplicate values for 'Customer Key'. Lets check the 'Avg_Credit_Limit' for duplicate values and drop one of the duplicates accordingly."
   ]
  },
  {
   "cell_type": "code",
   "execution_count": 15,
   "metadata": {},
   "outputs": [
    {
     "data": {
      "text/html": [
       "<div>\n",
       "<style scoped>\n",
       "    .dataframe tbody tr th:only-of-type {\n",
       "        vertical-align: middle;\n",
       "    }\n",
       "\n",
       "    .dataframe tbody tr th {\n",
       "        vertical-align: top;\n",
       "    }\n",
       "\n",
       "    .dataframe thead th {\n",
       "        text-align: right;\n",
       "    }\n",
       "</style>\n",
       "<table border=\"1\" class=\"dataframe\">\n",
       "  <thead>\n",
       "    <tr style=\"text-align: right;\">\n",
       "      <th></th>\n",
       "      <th>Customer Key</th>\n",
       "      <th>Avg_Credit_Limit</th>\n",
       "      <th>Total_Credit_Cards</th>\n",
       "      <th>Total_visits_bank</th>\n",
       "      <th>Total_visits_online</th>\n",
       "      <th>Total_calls_made</th>\n",
       "    </tr>\n",
       "  </thead>\n",
       "  <tbody>\n",
       "    <tr>\n",
       "      <th>48</th>\n",
       "      <td>37252</td>\n",
       "      <td>6000</td>\n",
       "      <td>4</td>\n",
       "      <td>0</td>\n",
       "      <td>2</td>\n",
       "      <td>8</td>\n",
       "    </tr>\n",
       "    <tr>\n",
       "      <th>432</th>\n",
       "      <td>37252</td>\n",
       "      <td>59000</td>\n",
       "      <td>6</td>\n",
       "      <td>2</td>\n",
       "      <td>1</td>\n",
       "      <td>2</td>\n",
       "    </tr>\n",
       "    <tr>\n",
       "      <th>4</th>\n",
       "      <td>47437</td>\n",
       "      <td>100000</td>\n",
       "      <td>6</td>\n",
       "      <td>0</td>\n",
       "      <td>12</td>\n",
       "      <td>3</td>\n",
       "    </tr>\n",
       "    <tr>\n",
       "      <th>332</th>\n",
       "      <td>47437</td>\n",
       "      <td>17000</td>\n",
       "      <td>7</td>\n",
       "      <td>3</td>\n",
       "      <td>1</td>\n",
       "      <td>0</td>\n",
       "    </tr>\n",
       "    <tr>\n",
       "      <th>411</th>\n",
       "      <td>50706</td>\n",
       "      <td>44000</td>\n",
       "      <td>4</td>\n",
       "      <td>5</td>\n",
       "      <td>0</td>\n",
       "      <td>2</td>\n",
       "    </tr>\n",
       "    <tr>\n",
       "      <th>541</th>\n",
       "      <td>50706</td>\n",
       "      <td>60000</td>\n",
       "      <td>7</td>\n",
       "      <td>5</td>\n",
       "      <td>2</td>\n",
       "      <td>2</td>\n",
       "    </tr>\n",
       "    <tr>\n",
       "      <th>391</th>\n",
       "      <td>96929</td>\n",
       "      <td>13000</td>\n",
       "      <td>4</td>\n",
       "      <td>5</td>\n",
       "      <td>0</td>\n",
       "      <td>0</td>\n",
       "    </tr>\n",
       "    <tr>\n",
       "      <th>398</th>\n",
       "      <td>96929</td>\n",
       "      <td>67000</td>\n",
       "      <td>6</td>\n",
       "      <td>2</td>\n",
       "      <td>2</td>\n",
       "      <td>2</td>\n",
       "    </tr>\n",
       "    <tr>\n",
       "      <th>104</th>\n",
       "      <td>97935</td>\n",
       "      <td>17000</td>\n",
       "      <td>2</td>\n",
       "      <td>1</td>\n",
       "      <td>2</td>\n",
       "      <td>10</td>\n",
       "    </tr>\n",
       "    <tr>\n",
       "      <th>632</th>\n",
       "      <td>97935</td>\n",
       "      <td>187000</td>\n",
       "      <td>7</td>\n",
       "      <td>1</td>\n",
       "      <td>7</td>\n",
       "      <td>0</td>\n",
       "    </tr>\n",
       "  </tbody>\n",
       "</table>\n",
       "</div>"
      ],
      "text/plain": [
       "     Customer Key  Avg_Credit_Limit  Total_Credit_Cards  Total_visits_bank  \\\n",
       "48          37252              6000                   4                  0   \n",
       "432         37252             59000                   6                  2   \n",
       "4           47437            100000                   6                  0   \n",
       "332         47437             17000                   7                  3   \n",
       "411         50706             44000                   4                  5   \n",
       "541         50706             60000                   7                  5   \n",
       "391         96929             13000                   4                  5   \n",
       "398         96929             67000                   6                  2   \n",
       "104         97935             17000                   2                  1   \n",
       "632         97935            187000                   7                  1   \n",
       "\n",
       "     Total_visits_online  Total_calls_made  \n",
       "48                     2                 8  \n",
       "432                    1                 2  \n",
       "4                     12                 3  \n",
       "332                    1                 0  \n",
       "411                    0                 2  \n",
       "541                    2                 2  \n",
       "391                    0                 0  \n",
       "398                    2                 2  \n",
       "104                    2                10  \n",
       "632                    7                 0  "
      ]
     },
     "execution_count": 15,
     "metadata": {},
     "output_type": "execute_result"
    }
   ],
   "source": [
    "# Check 'Avg_Credit_Limit' for duplicate 'Customer Key'\n",
    "keys = [47437, 96929, 37252, 50706, 97935]\n",
    "df = data[data['Customer Key'].isin(keys)]\n",
    "df = df.sort_values(by = 'Customer Key')\n",
    "df"
   ]
  },
  {
   "cell_type": "code",
   "execution_count": 16,
   "metadata": {},
   "outputs": [
    {
     "data": {
      "text/plain": [
       "Customer Key\n",
       "37252     6000\n",
       "47437    17000\n",
       "50706    44000\n",
       "96929    13000\n",
       "97935    17000\n",
       "Name: Avg_Credit_Limit, dtype: int64"
      ]
     },
     "execution_count": 16,
     "metadata": {},
     "output_type": "execute_result"
    }
   ],
   "source": [
    "# Keep the 'Customer Key' with the maximum 'Avg_Credit_Limit' \n",
    "# Hence, removing the 'Customer Key' with minimum value for 'Avg_Credit_Limit'\n",
    "df.groupby('Customer Key')['Avg_Credit_Limit'].min()"
   ]
  },
  {
   "cell_type": "code",
   "execution_count": 17,
   "metadata": {},
   "outputs": [],
   "source": [
    "# Drop rows with duplicated 'Customer Key' with minimum 'Avg_Credit_Limit'\n",
    "index_to_remove = [48, 332, 411, 391, 104]\n",
    "data.drop(index_to_remove, axis = 0, inplace = True)"
   ]
  },
  {
   "cell_type": "code",
   "execution_count": 18,
   "metadata": {},
   "outputs": [
    {
     "data": {
      "text/html": [
       "<div>\n",
       "<style scoped>\n",
       "    .dataframe tbody tr th:only-of-type {\n",
       "        vertical-align: middle;\n",
       "    }\n",
       "\n",
       "    .dataframe tbody tr th {\n",
       "        vertical-align: top;\n",
       "    }\n",
       "\n",
       "    .dataframe thead th {\n",
       "        text-align: right;\n",
       "    }\n",
       "</style>\n",
       "<table border=\"1\" class=\"dataframe\">\n",
       "  <thead>\n",
       "    <tr style=\"text-align: right;\">\n",
       "      <th></th>\n",
       "      <th>Customer Key</th>\n",
       "      <th>Avg_Credit_Limit</th>\n",
       "      <th>Total_Credit_Cards</th>\n",
       "      <th>Total_visits_bank</th>\n",
       "      <th>Total_visits_online</th>\n",
       "      <th>Total_calls_made</th>\n",
       "    </tr>\n",
       "  </thead>\n",
       "  <tbody>\n",
       "  </tbody>\n",
       "</table>\n",
       "</div>"
      ],
      "text/plain": [
       "Empty DataFrame\n",
       "Columns: [Customer Key, Avg_Credit_Limit, Total_Credit_Cards, Total_visits_bank, Total_visits_online, Total_calls_made]\n",
       "Index: []"
      ]
     },
     "execution_count": 18,
     "metadata": {},
     "output_type": "execute_result"
    }
   ],
   "source": [
    "# Check duplicate 'Customer key' again\n",
    "data[data['Customer Key'].duplicated() == True]"
   ]
  },
  {
   "cell_type": "markdown",
   "metadata": {},
   "source": [
    "> There are no duplicate 'Customer Key' values anymore."
   ]
  },
  {
   "cell_type": "markdown",
   "metadata": {},
   "source": [
    "## 2a. Univariate Analysis:"
   ]
  },
  {
   "cell_type": "code",
   "execution_count": 19,
   "metadata": {},
   "outputs": [
    {
     "data": {
      "text/plain": [
       "Index(['Customer Key', 'Avg_Credit_Limit', 'Total_Credit_Cards',\n",
       "       'Total_visits_bank', 'Total_visits_online', 'Total_calls_made'],\n",
       "      dtype='object')"
      ]
     },
     "execution_count": 19,
     "metadata": {},
     "output_type": "execute_result"
    }
   ],
   "source": [
    "# Names of columns of dataset\n",
    "data.columns"
   ]
  },
  {
   "cell_type": "code",
   "execution_count": 20,
   "metadata": {},
   "outputs": [],
   "source": [
    "# Remove the 'Customer Key' column as it has all unique/distinct values\n",
    "# The keys wont be used for grouping data.\n",
    "data.drop('Customer Key', axis = 1, inplace = True)"
   ]
  },
  {
   "cell_type": "code",
   "execution_count": 21,
   "metadata": {},
   "outputs": [
    {
     "name": "stdout",
     "output_type": "stream",
     "text": [
      "8000      35\n",
      "6000      30\n",
      "9000      28\n",
      "13000     27\n",
      "10000     26\n",
      "          ..\n",
      "25000      1\n",
      "153000     1\n",
      "111000     1\n",
      "112000     1\n",
      "106000     1\n",
      "Name: Avg_Credit_Limit, Length: 110, dtype: int64\n",
      " \n",
      "4     148\n",
      "6     117\n",
      "7     100\n",
      "5      74\n",
      "2      63\n",
      "1      59\n",
      "3      53\n",
      "10     19\n",
      "9      11\n",
      "8      11\n",
      "Name: Total_Credit_Cards, dtype: int64\n",
      " \n",
      "2    158\n",
      "1    111\n",
      "3     99\n",
      "0     99\n",
      "5     96\n",
      "4     92\n",
      "Name: Total_visits_bank, dtype: int64\n",
      " \n",
      "2     187\n",
      "0     142\n",
      "1     108\n",
      "4      69\n",
      "5      54\n",
      "3      44\n",
      "15     10\n",
      "7       7\n",
      "12      6\n",
      "10      6\n",
      "8       6\n",
      "13      5\n",
      "11      5\n",
      "9       4\n",
      "14      1\n",
      "6       1\n",
      "Name: Total_visits_online, dtype: int64\n",
      " \n",
      "4     108\n",
      "0      95\n",
      "2      90\n",
      "1      90\n",
      "3      83\n",
      "6      39\n",
      "7      35\n",
      "9      32\n",
      "8      29\n",
      "5      29\n",
      "10     25\n",
      "Name: Total_calls_made, dtype: int64\n",
      " \n"
     ]
    }
   ],
   "source": [
    "# Check value counts for all columns/attributes\n",
    "cols = ['Avg_Credit_Limit', 'Total_Credit_Cards',\n",
    "       'Total_visits_bank', 'Total_visits_online', 'Total_calls_made']\n",
    "for i in cols:\n",
    "    print(data[i].value_counts())\n",
    "    print(\" \")"
   ]
  },
  {
   "cell_type": "markdown",
   "metadata": {},
   "source": [
    "> Observations:\n",
    "- Mostly 'Avg_Credit_Limit' is \\\\$8000\n",
    "- Majority of people have 4 total credit cards\n",
    "- Mostly people visit banks twice, approach online twice and make calls to the bank four times in total. "
   ]
  },
  {
   "cell_type": "code",
   "execution_count": 22,
   "metadata": {},
   "outputs": [
    {
     "data": {
      "image/png": "[encoded data removed]",
      "text/plain": [
       "<Figure size 720x1440 with 5 Axes>"
      ]
     },
     "metadata": {
      "needs_background": "light"
     },
     "output_type": "display_data"
    }
   ],
   "source": [
    "# Plot all attributes: Histogram/distplot\n",
    "plt.figure(figsize = (10,20))\n",
    "pos = 1\n",
    "for i in cols:\n",
    "    plt.subplot(5,2,pos)\n",
    "    sns.distplot(data[i]);\n",
    "    pos += 1"
   ]
  },
  {
   "cell_type": "markdown",
   "metadata": {},
   "source": [
    "> Observations:\n",
    "- 'Avg_Credit_Limit' and 'Total_visits_online' appear to be left-skewed."
   ]
  },
  {
   "cell_type": "code",
   "execution_count": 23,
   "metadata": {},
   "outputs": [
    {
     "name": "stdout",
     "output_type": "stream",
     "text": [
      " \n",
      "Percentage of customers according to  Avg_Credit_Limit\n",
      "8000      5.343511\n",
      "6000      4.580153\n",
      "9000      4.274809\n",
      "13000     4.122137\n",
      "10000     3.969466\n",
      "            ...   \n",
      "25000     0.152672\n",
      "153000    0.152672\n",
      "111000    0.152672\n",
      "112000    0.152672\n",
      "106000    0.152672\n",
      "Name: Avg_Credit_Limit, Length: 110, dtype: float64\n",
      " \n",
      "Percentage of customers according to  Total_Credit_Cards\n",
      "4     22.595420\n",
      "6     17.862595\n",
      "7     15.267176\n",
      "5     11.297710\n",
      "2      9.618321\n",
      "1      9.007634\n",
      "3      8.091603\n",
      "10     2.900763\n",
      "9      1.679389\n",
      "8      1.679389\n",
      "Name: Total_Credit_Cards, dtype: float64\n",
      " \n",
      "Percentage of customers according to  Total_visits_bank\n",
      "2    24.122137\n",
      "1    16.946565\n",
      "3    15.114504\n",
      "0    15.114504\n",
      "5    14.656489\n",
      "4    14.045802\n",
      "Name: Total_visits_bank, dtype: float64\n",
      " \n",
      "Percentage of customers according to  Total_visits_online\n",
      "2     28.549618\n",
      "0     21.679389\n",
      "1     16.488550\n",
      "4     10.534351\n",
      "5      8.244275\n",
      "3      6.717557\n",
      "15     1.526718\n",
      "7      1.068702\n",
      "12     0.916031\n",
      "10     0.916031\n",
      "8      0.916031\n",
      "13     0.763359\n",
      "11     0.763359\n",
      "9      0.610687\n",
      "14     0.152672\n",
      "6      0.152672\n",
      "Name: Total_visits_online, dtype: float64\n",
      " \n",
      "Percentage of customers according to  Total_calls_made\n",
      "4     16.488550\n",
      "0     14.503817\n",
      "2     13.740458\n",
      "1     13.740458\n",
      "3     12.671756\n",
      "6      5.954198\n",
      "7      5.343511\n",
      "9      4.885496\n",
      "8      4.427481\n",
      "5      4.427481\n",
      "10     3.816794\n",
      "Name: Total_calls_made, dtype: float64\n"
     ]
    }
   ],
   "source": [
    "# Percentage of customers \n",
    "for i in cols:\n",
    "    print(\" \")\n",
    "    print(\"Percentage of customers according to \", i)\n",
    "    print(data[i].value_counts(normalize = True)*100)\n",
    "    "
   ]
  },
  {
   "cell_type": "markdown",
   "metadata": {},
   "source": [
    "> Observations: (<b> IMPORTANT TRENDS </b>)\n",
    "- Majority of the customers (5.3% of all) have average credit limit of \\\\$8000 whereas minority of the customers (0.15% of all) have the credit limit of \\\\$106,000.\n",
    "- Majority of the customers (22.59% of all) have total 4 credit cards whereas minority of the customers (1.67% of all) have total 8 credit cards.\n",
    "- Majority of the customers (24.12% of all) have visit the bank 2 times whereas minority of the customers (14.04% of all) visit the bank 4 times.\n",
    "- Majority of the customers (28.54% of all) have visit online 2 times whereas minority of the customers (0.15% of all) visit the online 6 times.\n",
    "- Majority of the customers (16.48% of all) have call the bank 4 times whereas minority of the customers (3.81% of all) call the bank 10 times."
   ]
  },
  {
   "cell_type": "code",
   "execution_count": 24,
   "metadata": {},
   "outputs": [
    {
     "data": {
      "text/plain": [
       "Avg_Credit_Limit       2.193141\n",
       "Total_Credit_Cards     0.141287\n",
       "Total_visits_bank      0.142998\n",
       "Total_visits_online    2.217058\n",
       "Total_calls_made       0.659476\n",
       "dtype: float64"
      ]
     },
     "execution_count": 24,
     "metadata": {},
     "output_type": "execute_result"
    }
   ],
   "source": [
    "# check skewed distribution\n",
    "data.skew()"
   ]
  },
  {
   "cell_type": "code",
   "execution_count": 25,
   "metadata": {},
   "outputs": [
    {
     "data": {
      "image/png": "[encoded data removed]",
      "text/plain": [
       "<Figure size 720x1440 with 5 Axes>"
      ]
     },
     "metadata": {
      "needs_background": "light"
     },
     "output_type": "display_data"
    }
   ],
   "source": [
    "# Check outliers using boxplots\n",
    "plt.figure(figsize= (10,20))\n",
    "pos = 1\n",
    "for i in cols:\n",
    "    plt.subplot(5,2, pos)\n",
    "    sns.boxplot(data[i]);\n",
    "    pos += 1  "
   ]
  },
  {
   "cell_type": "markdown",
   "metadata": {},
   "source": [
    "> Both 'Avg_Credit_Limit' and 'Total_visits_online' are left-skewed and have outliers. But we do not treat them since we keep the original range of values. "
   ]
  },
  {
   "cell_type": "markdown",
   "metadata": {},
   "source": [
    "## 2b. Bivariate Analysis:"
   ]
  },
  {
   "cell_type": "code",
   "execution_count": 26,
   "metadata": {},
   "outputs": [
    {
     "data": {
      "text/html": [
       "<div>\n",
       "<style scoped>\n",
       "    .dataframe tbody tr th:only-of-type {\n",
       "        vertical-align: middle;\n",
       "    }\n",
       "\n",
       "    .dataframe tbody tr th {\n",
       "        vertical-align: top;\n",
       "    }\n",
       "\n",
       "    .dataframe thead th {\n",
       "        text-align: right;\n",
       "    }\n",
       "</style>\n",
       "<table border=\"1\" class=\"dataframe\">\n",
       "  <thead>\n",
       "    <tr style=\"text-align: right;\">\n",
       "      <th></th>\n",
       "      <th>Avg_Credit_Limit</th>\n",
       "      <th>Total_Credit_Cards</th>\n",
       "      <th>Total_visits_bank</th>\n",
       "      <th>Total_visits_online</th>\n",
       "      <th>Total_calls_made</th>\n",
       "    </tr>\n",
       "  </thead>\n",
       "  <tbody>\n",
       "    <tr>\n",
       "      <th>Avg_Credit_Limit</th>\n",
       "      <td>1.000000</td>\n",
       "      <td>0.610227</td>\n",
       "      <td>-0.102314</td>\n",
       "      <td>0.551581</td>\n",
       "      <td>-0.416628</td>\n",
       "    </tr>\n",
       "    <tr>\n",
       "      <th>Total_Credit_Cards</th>\n",
       "      <td>0.610227</td>\n",
       "      <td>1.000000</td>\n",
       "      <td>0.317103</td>\n",
       "      <td>0.167892</td>\n",
       "      <td>-0.651979</td>\n",
       "    </tr>\n",
       "    <tr>\n",
       "      <th>Total_visits_bank</th>\n",
       "      <td>-0.102314</td>\n",
       "      <td>0.317103</td>\n",
       "      <td>1.000000</td>\n",
       "      <td>-0.552223</td>\n",
       "      <td>-0.501813</td>\n",
       "    </tr>\n",
       "    <tr>\n",
       "      <th>Total_visits_online</th>\n",
       "      <td>0.551581</td>\n",
       "      <td>0.167892</td>\n",
       "      <td>-0.552223</td>\n",
       "      <td>1.000000</td>\n",
       "      <td>0.126250</td>\n",
       "    </tr>\n",
       "    <tr>\n",
       "      <th>Total_calls_made</th>\n",
       "      <td>-0.416628</td>\n",
       "      <td>-0.651979</td>\n",
       "      <td>-0.501813</td>\n",
       "      <td>0.126250</td>\n",
       "      <td>1.000000</td>\n",
       "    </tr>\n",
       "  </tbody>\n",
       "</table>\n",
       "</div>"
      ],
      "text/plain": [
       "                     Avg_Credit_Limit  Total_Credit_Cards  Total_visits_bank  \\\n",
       "Avg_Credit_Limit             1.000000            0.610227          -0.102314   \n",
       "Total_Credit_Cards           0.610227            1.000000           0.317103   \n",
       "Total_visits_bank           -0.102314            0.317103           1.000000   \n",
       "Total_visits_online          0.551581            0.167892          -0.552223   \n",
       "Total_calls_made            -0.416628           -0.651979          -0.501813   \n",
       "\n",
       "                     Total_visits_online  Total_calls_made  \n",
       "Avg_Credit_Limit                0.551581         -0.416628  \n",
       "Total_Credit_Cards              0.167892         -0.651979  \n",
       "Total_visits_bank              -0.552223         -0.501813  \n",
       "Total_visits_online             1.000000          0.126250  \n",
       "Total_calls_made                0.126250          1.000000  "
      ]
     },
     "execution_count": 26,
     "metadata": {},
     "output_type": "execute_result"
    }
   ],
   "source": [
    "# Correlation\n",
    "data.corr()"
   ]
  },
  {
   "cell_type": "code",
   "execution_count": 27,
   "metadata": {},
   "outputs": [
    {
     "data": {
      "image/png": "[encoded data removed]",
      "text/plain": [
       "<Figure size 432x288 with 2 Axes>"
      ]
     },
     "metadata": {
      "needs_background": "light"
     },
     "output_type": "display_data"
    }
   ],
   "source": [
    "# Heatmap for correlation\n",
    "sns.heatmap(data.corr(), cmap = 'Blues', annot = True);"
   ]
  },
  {
   "cell_type": "markdown",
   "metadata": {},
   "source": [
    "> Observations: (<b> IMPORTANT TRENDS </b>)\n",
    "- High positive correlation:\n",
    "    - 'Avg_Credit_Limit' appears to highly positively correlated to the 'Total_Credit_Cards' i.e. people who have more number of credit cards tend to have higher average credit card limit.\n",
    "    - Other high positive correlations are between 'Total_Credit_Cards' & 'Total_visits_bank' and 'Total_visits_online' & 'Total_calls_made i.e. people with more number of credit cards mostly visit banks and people who go online for their concerns also make calls to the bank. \n",
    "- High negative correlation:\n",
    "    - There is a high negative correlation between 'Total_Credit_Cards' and 'Total_calls_made' i.e. people who have more number of credit cards tend to make lesser calls to the bank.\n",
    "    - There is also a higher negative correlation between 'Total_visits_bank' and 'Total_visits_online' i.e. people who mostly visit bank for credit cards issues generally go online lesser for their concerns. \n",
    "    - There is similar higher negative correlation between 'Total_visits_bank' and 'Total_calls_made' i.e. people who mostly visit bank for credit card issues tend to make lesser calls for their concerns.\n",
    "- Hence, People who have more number of credit cards mostly have higher average credit limit and usually go to the banks for the queries instead of calling the bank. Also, people who mostly go to the bank for their concerns go less online/ make calls to the bank. "
   ]
  },
  {
   "cell_type": "code",
   "execution_count": 28,
   "metadata": {},
   "outputs": [
    {
     "data": {
      "image/png": "[encoded data removed]",
      "text/plain": [
       "<Figure size 900x900 with 30 Axes>"
      ]
     },
     "metadata": {
      "needs_background": "light"
     },
     "output_type": "display_data"
    }
   ],
   "source": [
    "# Plot pair-wise relationship between attributes\n",
    "sns.pairplot(data, diag_kind = 'kde');"
   ]
  },
  {
   "cell_type": "markdown",
   "metadata": {},
   "source": [
    "> From the diagonal plots, there seems to be 3-5 peaks i.e. optimal number of clusters should be 3, 4 or 5. <Br> Since there are 6 features/attributes so the dataset represent 6 different dimensions, hence there could be peaks in different directions. Hence, these plots are not sufficient to determine the groups/clusters of the data.  "
   ]
  },
  {
   "cell_type": "code",
   "execution_count": 29,
   "metadata": {},
   "outputs": [
    {
     "data": {
      "image/png": "[encoded data removed]",
      "text/plain": [
       "<Figure size 432x288 with 1 Axes>"
      ]
     },
     "metadata": {
      "needs_background": "light"
     },
     "output_type": "display_data"
    }
   ],
   "source": [
    "# Relationship between total credit cards and average credit limit\n",
    "sns.boxplot(data['Total_Credit_Cards'], data['Avg_Credit_Limit']);"
   ]
  },
  {
   "cell_type": "markdown",
   "metadata": {},
   "source": [
    "> Observations:\n",
    "- People who have 1-3 credit cards have average credit limit in the range of \\\\$10,000 - \\\\$20,000\n",
    "- People who have 4-7 credit cards have average credit limit in the range of \\\\$10,000 - \\\\$35,000\n",
    "- People who have 8-10 credit cards have average credit limit in the range of \\\\$115,000 - \\\\$160,000\n",
    "- Hence, there seems to be 3 optimum clusters/groups of customers."
   ]
  },
  {
   "cell_type": "code",
   "execution_count": 30,
   "metadata": {},
   "outputs": [
    {
     "data": {
      "image/png": "[encoded data removed]",
      "text/plain": [
       "<Figure size 432x288 with 1 Axes>"
      ]
     },
     "metadata": {
      "needs_background": "light"
     },
     "output_type": "display_data"
    }
   ],
   "source": [
    "# Relationship between total number of credit cards and total visits to bank\n",
    "sns.boxplot(data['Total_Credit_Cards'], data['Total_visits_bank']);"
   ]
  },
  {
   "cell_type": "markdown",
   "metadata": {},
   "source": [
    "> Observations:\n",
    "- People who have 1-3 credit cards mostly visit bank 0-2 times in total.\n",
    "- People who have 4-7 credit cards mostly visit bank 2-4 times in total.\n",
    "- People who have 8-10 credit cards mostly visit bank 0-1 time in total.\n",
    "- Hence, there seems to be 3 optimum clusters/groups of customers."
   ]
  },
  {
   "cell_type": "markdown",
   "metadata": {},
   "source": [
    "# 3. Models: "
   ]
  },
  {
   "cell_type": "markdown",
   "metadata": {},
   "source": [
    "## 3a. KMeans Clustering:"
   ]
  },
  {
   "cell_type": "code",
   "execution_count": 31,
   "metadata": {},
   "outputs": [
    {
     "data": {
      "text/html": [
       "<div>\n",
       "<style scoped>\n",
       "    .dataframe tbody tr th:only-of-type {\n",
       "        vertical-align: middle;\n",
       "    }\n",
       "\n",
       "    .dataframe tbody tr th {\n",
       "        vertical-align: top;\n",
       "    }\n",
       "\n",
       "    .dataframe thead th {\n",
       "        text-align: right;\n",
       "    }\n",
       "</style>\n",
       "<table border=\"1\" class=\"dataframe\">\n",
       "  <thead>\n",
       "    <tr style=\"text-align: right;\">\n",
       "      <th></th>\n",
       "      <th>Avg_Credit_Limit</th>\n",
       "      <th>Total_Credit_Cards</th>\n",
       "      <th>Total_visits_bank</th>\n",
       "      <th>Total_visits_online</th>\n",
       "      <th>Total_calls_made</th>\n",
       "    </tr>\n",
       "  </thead>\n",
       "  <tbody>\n",
       "    <tr>\n",
       "      <th>0</th>\n",
       "      <td>1.732369</td>\n",
       "      <td>-1.249105</td>\n",
       "      <td>-0.860646</td>\n",
       "      <td>-0.550400</td>\n",
       "      <td>-1.256040</td>\n",
       "    </tr>\n",
       "    <tr>\n",
       "      <th>1</th>\n",
       "      <td>0.406101</td>\n",
       "      <td>-0.788168</td>\n",
       "      <td>-1.475392</td>\n",
       "      <td>2.510549</td>\n",
       "      <td>1.901468</td>\n",
       "    </tr>\n",
       "    <tr>\n",
       "      <th>2</th>\n",
       "      <td>0.406101</td>\n",
       "      <td>1.055582</td>\n",
       "      <td>-0.860646</td>\n",
       "      <td>0.129811</td>\n",
       "      <td>0.147297</td>\n",
       "    </tr>\n",
       "    <tr>\n",
       "      <th>3</th>\n",
       "      <td>-0.124406</td>\n",
       "      <td>0.133707</td>\n",
       "      <td>-0.860646</td>\n",
       "      <td>-0.550400</td>\n",
       "      <td>0.147297</td>\n",
       "    </tr>\n",
       "    <tr>\n",
       "      <th>4</th>\n",
       "      <td>1.732369</td>\n",
       "      <td>0.594644</td>\n",
       "      <td>-1.475392</td>\n",
       "      <td>3.190759</td>\n",
       "      <td>-0.203537</td>\n",
       "    </tr>\n",
       "  </tbody>\n",
       "</table>\n",
       "</div>"
      ],
      "text/plain": [
       "   Avg_Credit_Limit  Total_Credit_Cards  Total_visits_bank  \\\n",
       "0          1.732369           -1.249105          -0.860646   \n",
       "1          0.406101           -0.788168          -1.475392   \n",
       "2          0.406101            1.055582          -0.860646   \n",
       "3         -0.124406            0.133707          -0.860646   \n",
       "4          1.732369            0.594644          -1.475392   \n",
       "\n",
       "   Total_visits_online  Total_calls_made  \n",
       "0            -0.550400         -1.256040  \n",
       "1             2.510549          1.901468  \n",
       "2             0.129811          0.147297  \n",
       "3            -0.550400          0.147297  \n",
       "4             3.190759         -0.203537  "
      ]
     },
     "execution_count": 31,
     "metadata": {},
     "output_type": "execute_result"
    }
   ],
   "source": [
    "# Scaling the dataset (zscore)\n",
    "from scipy.stats import zscore\n",
    "dataset = data.copy()\n",
    "dataset = dataset.apply(zscore)\n",
    "dataset.head()"
   ]
  },
  {
   "cell_type": "code",
   "execution_count": 32,
   "metadata": {},
   "outputs": [
    {
     "data": {
      "text/html": [
       "<div>\n",
       "<style scoped>\n",
       "    .dataframe tbody tr th:only-of-type {\n",
       "        vertical-align: middle;\n",
       "    }\n",
       "\n",
       "    .dataframe tbody tr th {\n",
       "        vertical-align: top;\n",
       "    }\n",
       "\n",
       "    .dataframe thead th {\n",
       "        text-align: right;\n",
       "    }\n",
       "</style>\n",
       "<table border=\"1\" class=\"dataframe\">\n",
       "  <thead>\n",
       "    <tr style=\"text-align: right;\">\n",
       "      <th></th>\n",
       "      <th>number of clusters</th>\n",
       "      <th>WSSE/Cluster Error</th>\n",
       "    </tr>\n",
       "  </thead>\n",
       "  <tbody>\n",
       "    <tr>\n",
       "      <th>0</th>\n",
       "      <td>1</td>\n",
       "      <td>3275.000000</td>\n",
       "    </tr>\n",
       "    <tr>\n",
       "      <th>1</th>\n",
       "      <td>2</td>\n",
       "      <td>2027.386090</td>\n",
       "    </tr>\n",
       "    <tr>\n",
       "      <th>2</th>\n",
       "      <td>3</td>\n",
       "      <td>926.079337</td>\n",
       "    </tr>\n",
       "    <tr>\n",
       "      <th>3</th>\n",
       "      <td>4</td>\n",
       "      <td>774.625025</td>\n",
       "    </tr>\n",
       "    <tr>\n",
       "      <th>4</th>\n",
       "      <td>5</td>\n",
       "      <td>712.145555</td>\n",
       "    </tr>\n",
       "    <tr>\n",
       "      <th>5</th>\n",
       "      <td>6</td>\n",
       "      <td>637.259704</td>\n",
       "    </tr>\n",
       "    <tr>\n",
       "      <th>6</th>\n",
       "      <td>7</td>\n",
       "      <td>600.580186</td>\n",
       "    </tr>\n",
       "    <tr>\n",
       "      <th>7</th>\n",
       "      <td>8</td>\n",
       "      <td>572.428223</td>\n",
       "    </tr>\n",
       "    <tr>\n",
       "      <th>8</th>\n",
       "      <td>9</td>\n",
       "      <td>552.110135</td>\n",
       "    </tr>\n",
       "    <tr>\n",
       "      <th>9</th>\n",
       "      <td>10</td>\n",
       "      <td>510.420675</td>\n",
       "    </tr>\n",
       "    <tr>\n",
       "      <th>10</th>\n",
       "      <td>11</td>\n",
       "      <td>486.049610</td>\n",
       "    </tr>\n",
       "    <tr>\n",
       "      <th>11</th>\n",
       "      <td>12</td>\n",
       "      <td>465.903127</td>\n",
       "    </tr>\n",
       "    <tr>\n",
       "      <th>12</th>\n",
       "      <td>13</td>\n",
       "      <td>440.751441</td>\n",
       "    </tr>\n",
       "    <tr>\n",
       "      <th>13</th>\n",
       "      <td>14</td>\n",
       "      <td>423.840597</td>\n",
       "    </tr>\n",
       "  </tbody>\n",
       "</table>\n",
       "</div>"
      ],
      "text/plain": [
       "    number of clusters  WSSE/Cluster Error\n",
       "0                    1         3275.000000\n",
       "1                    2         2027.386090\n",
       "2                    3          926.079337\n",
       "3                    4          774.625025\n",
       "4                    5          712.145555\n",
       "5                    6          637.259704\n",
       "6                    7          600.580186\n",
       "7                    8          572.428223\n",
       "8                    9          552.110135\n",
       "9                   10          510.420675\n",
       "10                  11          486.049610\n",
       "11                  12          465.903127\n",
       "12                  13          440.751441\n",
       "13                  14          423.840597"
      ]
     },
     "execution_count": 32,
     "metadata": {},
     "output_type": "execute_result"
    }
   ],
   "source": [
    "# Calculate within sum of squares error for different number of clusters\n",
    "from sklearn.cluster import KMeans\n",
    "cluster_range = range(1,15)\n",
    "cluster_errors = []\n",
    "\n",
    "for num_clusters in cluster_range:\n",
    "    clusters = KMeans(num_clusters, n_init = 5)\n",
    "    clusters.fit(dataset)\n",
    "    labels = clusters.labels_\n",
    "    centroids = clusters.cluster_centers_\n",
    "    cluster_errors.append(clusters.inertia_)\n",
    "\n",
    "clusters_df = pd.DataFrame({\"number of clusters\": cluster_range,\n",
    "                           \"WSSE/Cluster Error\": cluster_errors})\n",
    "clusters_df\n"
   ]
  },
  {
   "cell_type": "code",
   "execution_count": 33,
   "metadata": {},
   "outputs": [
    {
     "data": {
      "text/plain": [
       "[<matplotlib.lines.Line2D at 0x126978a00>]"
      ]
     },
     "execution_count": 33,
     "metadata": {},
     "output_type": "execute_result"
    },
    {
     "data": {
      "image/png": "[encoded data removed]",
      "text/plain": [
       "<Figure size 864x432 with 1 Axes>"
      ]
     },
     "metadata": {
      "needs_background": "light"
     },
     "output_type": "display_data"
    }
   ],
   "source": [
    "# Elbow Method: plot cluster error(WSSE) for different number of clusters\n",
    "plt.figure(figsize = (12,6))\n",
    "plt.plot(clusters_df['number of clusters'], clusters_df['WSSE/Cluster Error'], marker = 'o')"
   ]
  },
  {
   "cell_type": "markdown",
   "metadata": {},
   "source": [
    "> The elbow is at number of clusters = 3 so optimal number of clusters is 3.  "
   ]
  },
  {
   "cell_type": "code",
   "execution_count": 34,
   "metadata": {},
   "outputs": [
    {
     "data": {
      "text/plain": [
       "KMeans(n_clusters=3, n_init=5, random_state=0)"
      ]
     },
     "execution_count": 34,
     "metadata": {},
     "output_type": "execute_result"
    }
   ],
   "source": [
    "# Use kmeans with number of clusters = 3\n",
    "kmeans = KMeans(n_clusters = 3, n_init = 5, random_state = 0)\n",
    "kmeans.fit(dataset)"
   ]
  },
  {
   "cell_type": "code",
   "execution_count": 35,
   "metadata": {},
   "outputs": [
    {
     "name": "stdout",
     "output_type": "stream",
     "text": [
      "[222 383  50]\n"
     ]
    }
   ],
   "source": [
    "# check number of data in each cluster\n",
    "labels = kmeans.labels_\n",
    "counts = np.bincount(labels[labels>=0])\n",
    "print(counts)"
   ]
  },
  {
   "cell_type": "code",
   "execution_count": 36,
   "metadata": {},
   "outputs": [
    {
     "data": {
      "text/html": [
       "<div>\n",
       "<style scoped>\n",
       "    .dataframe tbody tr th:only-of-type {\n",
       "        vertical-align: middle;\n",
       "    }\n",
       "\n",
       "    .dataframe tbody tr th {\n",
       "        vertical-align: top;\n",
       "    }\n",
       "\n",
       "    .dataframe thead th {\n",
       "        text-align: right;\n",
       "    }\n",
       "</style>\n",
       "<table border=\"1\" class=\"dataframe\">\n",
       "  <thead>\n",
       "    <tr style=\"text-align: right;\">\n",
       "      <th></th>\n",
       "      <th>0</th>\n",
       "      <th>1</th>\n",
       "      <th>2</th>\n",
       "    </tr>\n",
       "  </thead>\n",
       "  <tbody>\n",
       "    <tr>\n",
       "      <th>Avg_Credit_Limit</th>\n",
       "      <td>-0.597083</td>\n",
       "      <td>-0.022183</td>\n",
       "      <td>2.820969</td>\n",
       "    </tr>\n",
       "    <tr>\n",
       "      <th>Total_Credit_Cards</th>\n",
       "      <td>-1.062239</td>\n",
       "      <td>0.373202</td>\n",
       "      <td>1.857613</td>\n",
       "    </tr>\n",
       "    <tr>\n",
       "      <th>Total_visits_bank</th>\n",
       "      <td>-0.899413</td>\n",
       "      <td>0.665788</td>\n",
       "      <td>-1.106544</td>\n",
       "    </tr>\n",
       "    <tr>\n",
       "      <th>Total_visits_online</th>\n",
       "      <td>0.322844</td>\n",
       "      <td>-0.554840</td>\n",
       "      <td>2.816644</td>\n",
       "    </tr>\n",
       "    <tr>\n",
       "      <th>Total_calls_made</th>\n",
       "      <td>1.147648</td>\n",
       "      <td>-0.550708</td>\n",
       "      <td>-0.877139</td>\n",
       "    </tr>\n",
       "  </tbody>\n",
       "</table>\n",
       "</div>"
      ],
      "text/plain": [
       "                            0         1         2\n",
       "Avg_Credit_Limit    -0.597083 -0.022183  2.820969\n",
       "Total_Credit_Cards  -1.062239  0.373202  1.857613\n",
       "Total_visits_bank   -0.899413  0.665788 -1.106544\n",
       "Total_visits_online  0.322844 -0.554840  2.816644\n",
       "Total_calls_made     1.147648 -0.550708 -0.877139"
      ]
     },
     "execution_count": 36,
     "metadata": {},
     "output_type": "execute_result"
    }
   ],
   "source": [
    "# centroids of each cluster\n",
    "centroids = kmeans.cluster_centers_\n",
    "centroid_df = pd.DataFrame(centroids, columns = list(dataset))\n",
    "centroid_df.transpose()"
   ]
  },
  {
   "cell_type": "code",
   "execution_count": 37,
   "metadata": {},
   "outputs": [
    {
     "data": {
      "text/html": [
       "<div>\n",
       "<style scoped>\n",
       "    .dataframe tbody tr th:only-of-type {\n",
       "        vertical-align: middle;\n",
       "    }\n",
       "\n",
       "    .dataframe tbody tr th {\n",
       "        vertical-align: top;\n",
       "    }\n",
       "\n",
       "    .dataframe thead th {\n",
       "        text-align: right;\n",
       "    }\n",
       "</style>\n",
       "<table border=\"1\" class=\"dataframe\">\n",
       "  <thead>\n",
       "    <tr style=\"text-align: right;\">\n",
       "      <th></th>\n",
       "      <th>Avg_Credit_Limit</th>\n",
       "      <th>Total_Credit_Cards</th>\n",
       "      <th>Total_visits_bank</th>\n",
       "      <th>Total_visits_online</th>\n",
       "      <th>Total_calls_made</th>\n",
       "      <th>group</th>\n",
       "    </tr>\n",
       "  </thead>\n",
       "  <tbody>\n",
       "    <tr>\n",
       "      <th>0</th>\n",
       "      <td>1.732369</td>\n",
       "      <td>-1.249105</td>\n",
       "      <td>-0.860646</td>\n",
       "      <td>-0.550400</td>\n",
       "      <td>-1.256040</td>\n",
       "      <td>1</td>\n",
       "    </tr>\n",
       "    <tr>\n",
       "      <th>1</th>\n",
       "      <td>0.406101</td>\n",
       "      <td>-0.788168</td>\n",
       "      <td>-1.475392</td>\n",
       "      <td>2.510549</td>\n",
       "      <td>1.901468</td>\n",
       "      <td>0</td>\n",
       "    </tr>\n",
       "    <tr>\n",
       "      <th>2</th>\n",
       "      <td>0.406101</td>\n",
       "      <td>1.055582</td>\n",
       "      <td>-0.860646</td>\n",
       "      <td>0.129811</td>\n",
       "      <td>0.147297</td>\n",
       "      <td>1</td>\n",
       "    </tr>\n",
       "    <tr>\n",
       "      <th>3</th>\n",
       "      <td>-0.124406</td>\n",
       "      <td>0.133707</td>\n",
       "      <td>-0.860646</td>\n",
       "      <td>-0.550400</td>\n",
       "      <td>0.147297</td>\n",
       "      <td>1</td>\n",
       "    </tr>\n",
       "    <tr>\n",
       "      <th>4</th>\n",
       "      <td>1.732369</td>\n",
       "      <td>0.594644</td>\n",
       "      <td>-1.475392</td>\n",
       "      <td>3.190759</td>\n",
       "      <td>-0.203537</td>\n",
       "      <td>2</td>\n",
       "    </tr>\n",
       "  </tbody>\n",
       "</table>\n",
       "</div>"
      ],
      "text/plain": [
       "   Avg_Credit_Limit  Total_Credit_Cards  Total_visits_bank  \\\n",
       "0          1.732369           -1.249105          -0.860646   \n",
       "1          0.406101           -0.788168          -1.475392   \n",
       "2          0.406101            1.055582          -0.860646   \n",
       "3         -0.124406            0.133707          -0.860646   \n",
       "4          1.732369            0.594644          -1.475392   \n",
       "\n",
       "   Total_visits_online  Total_calls_made group  \n",
       "0            -0.550400         -1.256040     1  \n",
       "1             2.510549          1.901468     0  \n",
       "2             0.129811          0.147297     1  \n",
       "3            -0.550400          0.147297     1  \n",
       "4             3.190759         -0.203537     2  "
      ]
     },
     "execution_count": 37,
     "metadata": {},
     "output_type": "execute_result"
    }
   ],
   "source": [
    "# Add values of 'group' in dataset and make it a 'categorical' data type\n",
    "predictions = kmeans.predict(dataset)\n",
    "dataset['group'] = predictions\n",
    "dataset['group'] = dataset['group'].astype('category')\n",
    "dataset.head()"
   ]
  },
  {
   "cell_type": "code",
   "execution_count": 38,
   "metadata": {},
   "outputs": [
    {
     "data": {
      "image/png": "[encoded data removed]",
      "text/plain": [
       "<Figure size 1080x1080 with 6 Axes>"
      ]
     },
     "metadata": {
      "needs_background": "light"
     },
     "output_type": "display_data"
    }
   ],
   "source": [
    "# Visualize the centers; visualize boxplots of clusters in scaled dataset\n",
    "dataset.boxplot(by='group', figsize = (15,15));"
   ]
  },
  {
   "cell_type": "markdown",
   "metadata": {},
   "source": [
    "> Observations:\n",
    "- Customers in group 2 (3rd cluster) have more number of credit cards, highest range for average credit limit, and visit online maximum number of times for their queries.\n",
    "- Customers in group 0 (1st cluster) have least number of credit cards, lowest range for average credit limit, and make the maximum number of calls to the bank for their concerns.\n",
    "- Customers in group 1 (2nd cluster) have about average number of credit cards, with little less than average credit limit, and  mostly visit the bank for their queries. "
   ]
  },
  {
   "cell_type": "code",
   "execution_count": 39,
   "metadata": {},
   "outputs": [
    {
     "data": {
      "text/html": [
       "<div>\n",
       "<style scoped>\n",
       "    .dataframe tbody tr th:only-of-type {\n",
       "        vertical-align: middle;\n",
       "    }\n",
       "\n",
       "    .dataframe tbody tr th {\n",
       "        vertical-align: top;\n",
       "    }\n",
       "\n",
       "    .dataframe thead th {\n",
       "        text-align: right;\n",
       "    }\n",
       "</style>\n",
       "<table border=\"1\" class=\"dataframe\">\n",
       "  <thead>\n",
       "    <tr style=\"text-align: right;\">\n",
       "      <th></th>\n",
       "      <th>Cluster no.</th>\n",
       "      <th>Total Credit Cards</th>\n",
       "      <th>Average Credit Limit</th>\n",
       "      <th>Contact Method</th>\n",
       "    </tr>\n",
       "  </thead>\n",
       "  <tbody>\n",
       "    <tr>\n",
       "      <th>0</th>\n",
       "      <td>0</td>\n",
       "      <td>Low</td>\n",
       "      <td>Low</td>\n",
       "      <td>Make Calls</td>\n",
       "    </tr>\n",
       "    <tr>\n",
       "      <th>1</th>\n",
       "      <td>1</td>\n",
       "      <td>Medium</td>\n",
       "      <td>Medium</td>\n",
       "      <td>Visit Bank</td>\n",
       "    </tr>\n",
       "    <tr>\n",
       "      <th>2</th>\n",
       "      <td>2</td>\n",
       "      <td>High</td>\n",
       "      <td>High</td>\n",
       "      <td>Visit Online</td>\n",
       "    </tr>\n",
       "  </tbody>\n",
       "</table>\n",
       "</div>"
      ],
      "text/plain": [
       "   Cluster no. Total Credit Cards Average Credit Limit Contact Method\n",
       "0            0                Low                  Low     Make Calls\n",
       "1            1             Medium               Medium     Visit Bank\n",
       "2            2               High                 High   Visit Online"
      ]
     },
     "execution_count": 39,
     "metadata": {},
     "output_type": "execute_result"
    }
   ],
   "source": [
    "# Dataframe depicting trends/characteristics of clusters formed by KMeans\n",
    "df_kmeans = pd.DataFrame({\"Cluster no.\" : [0,1,2],\n",
    "                         \"Total Credit Cards\" : ['Low', 'Medium', 'High'],\n",
    "                         \"Average Credit Limit\" : ['Low', 'Medium', 'High'],\n",
    "                         \"Contact Method\" : ['Make Calls', 'Visit Bank', 'Visit Online']})\n",
    "df_kmeans"
   ]
  },
  {
   "cell_type": "code",
   "execution_count": 40,
   "metadata": {},
   "outputs": [
    {
     "name": "stdout",
     "output_type": "stream",
     "text": [
      "0.5395774903633755\n"
     ]
    }
   ],
   "source": [
    "# silhoutte score for number of clusters = 3\n",
    "from sklearn.metrics import silhouette_score\n",
    "score_kmeans = silhouette_score(dataset, kmeans.labels_)\n",
    "print(score_kmeans)"
   ]
  },
  {
   "cell_type": "code",
   "execution_count": 41,
   "metadata": {},
   "outputs": [
    {
     "name": "stdout",
     "output_type": "stream",
     "text": [
      "2\n",
      "3\n",
      "4\n",
      "5\n",
      "6\n",
      "7\n",
      "8\n",
      "9\n",
      "10\n",
      "11\n"
     ]
    },
    {
     "data": {
      "image/png": "[encoded data removed]",
      "text/plain": [
       "<Figure size 432x288 with 1 Axes>"
      ]
     },
     "metadata": {
      "needs_background": "light"
     },
     "output_type": "display_data"
    }
   ],
   "source": [
    "# plot silhouette score for different number of clusters\n",
    "scores = []\n",
    "for i in range(2,12):\n",
    "    kmeans =KMeans(n_clusters = i, n_init = 5, random_state = 0)\n",
    "    kmeans.fit(dataset)\n",
    "    print(i)\n",
    "    score = silhouette_score(dataset, kmeans.labels_)\n",
    "    scores.append(score)\n",
    "    \n",
    "plt.plot(range(2,12), scores)\n",
    "plt.show()"
   ]
  },
  {
   "cell_type": "markdown",
   "metadata": {},
   "source": [
    "> Since, silhoutte score is highest (close to 1) for number of clusters = 3, therefore, optimal number of clusters is 3. "
   ]
  },
  {
   "cell_type": "markdown",
   "metadata": {},
   "source": [
    "## 3b. Hierarchical Clustering:"
   ]
  },
  {
   "cell_type": "code",
   "execution_count": 42,
   "metadata": {},
   "outputs": [
    {
     "data": {
      "text/html": [
       "<div>\n",
       "<style scoped>\n",
       "    .dataframe tbody tr th:only-of-type {\n",
       "        vertical-align: middle;\n",
       "    }\n",
       "\n",
       "    .dataframe tbody tr th {\n",
       "        vertical-align: top;\n",
       "    }\n",
       "\n",
       "    .dataframe thead th {\n",
       "        text-align: right;\n",
       "    }\n",
       "</style>\n",
       "<table border=\"1\" class=\"dataframe\">\n",
       "  <thead>\n",
       "    <tr style=\"text-align: right;\">\n",
       "      <th></th>\n",
       "      <th>Avg_Credit_Limit</th>\n",
       "      <th>Total_Credit_Cards</th>\n",
       "      <th>Total_visits_bank</th>\n",
       "      <th>Total_visits_online</th>\n",
       "      <th>Total_calls_made</th>\n",
       "    </tr>\n",
       "  </thead>\n",
       "  <tbody>\n",
       "    <tr>\n",
       "      <th>0</th>\n",
       "      <td>100000</td>\n",
       "      <td>2</td>\n",
       "      <td>1</td>\n",
       "      <td>1</td>\n",
       "      <td>0</td>\n",
       "    </tr>\n",
       "    <tr>\n",
       "      <th>1</th>\n",
       "      <td>50000</td>\n",
       "      <td>3</td>\n",
       "      <td>0</td>\n",
       "      <td>10</td>\n",
       "      <td>9</td>\n",
       "    </tr>\n",
       "    <tr>\n",
       "      <th>2</th>\n",
       "      <td>50000</td>\n",
       "      <td>7</td>\n",
       "      <td>1</td>\n",
       "      <td>3</td>\n",
       "      <td>4</td>\n",
       "    </tr>\n",
       "    <tr>\n",
       "      <th>3</th>\n",
       "      <td>30000</td>\n",
       "      <td>5</td>\n",
       "      <td>1</td>\n",
       "      <td>1</td>\n",
       "      <td>4</td>\n",
       "    </tr>\n",
       "    <tr>\n",
       "      <th>4</th>\n",
       "      <td>100000</td>\n",
       "      <td>6</td>\n",
       "      <td>0</td>\n",
       "      <td>12</td>\n",
       "      <td>3</td>\n",
       "    </tr>\n",
       "  </tbody>\n",
       "</table>\n",
       "</div>"
      ],
      "text/plain": [
       "   Avg_Credit_Limit  Total_Credit_Cards  Total_visits_bank  \\\n",
       "0            100000                   2                  1   \n",
       "1             50000                   3                  0   \n",
       "2             50000                   7                  1   \n",
       "3             30000                   5                  1   \n",
       "4            100000                   6                  0   \n",
       "\n",
       "   Total_visits_online  Total_calls_made  \n",
       "0                    1                 0  \n",
       "1                   10                 9  \n",
       "2                    3                 4  \n",
       "3                    1                 4  \n",
       "4                   12                 3  "
      ]
     },
     "execution_count": 42,
     "metadata": {},
     "output_type": "execute_result"
    }
   ],
   "source": [
    "# Create another copy of original dataset \n",
    "datasetH = data.copy()\n",
    "datasetH.head()"
   ]
  },
  {
   "cell_type": "code",
   "execution_count": 43,
   "metadata": {},
   "outputs": [],
   "source": [
    "# Scale the dataset (zscore)\n",
    "datasetH = datasetH.apply(zscore)"
   ]
  },
  {
   "cell_type": "code",
   "execution_count": 44,
   "metadata": {},
   "outputs": [],
   "source": [
    "# Create Dendrograms to find optimal number of clusters\n",
    "from scipy.cluster.hierarchy import cophenet, dendrogram, linkage\n",
    "from scipy.spatial.distance import pdist\n",
    "\n",
    "# linkage methods = ['single', 'complete', 'average', 'weighted', 'centroid', 'median','ward']\n",
    "# distance metrics = ['euclidean', 'jaccard', 'minkowski','chebyshev']"
   ]
  },
  {
   "cell_type": "markdown",
   "metadata": {},
   "source": [
    "> cophenet index is a measure of the correlation between the distance of points in feature space and distance on dendrogram. The closer it is to 1, the better is the clustering. "
   ]
  },
  {
   "cell_type": "code",
   "execution_count": 45,
   "metadata": {},
   "outputs": [
    {
     "name": "stdout",
     "output_type": "stream",
     "text": [
      "single\n",
      "0.7391473713405818\n",
      "complete\n",
      "0.8758017442817639\n",
      "average\n",
      "0.8971061215847376\n",
      "weighted\n",
      "0.8746689772570894\n",
      "centroid\n",
      "0.8938725248289437\n",
      "median\n",
      "0.8808400355320603\n",
      "ward\n",
      "0.7416585017721558\n"
     ]
    }
   ],
   "source": [
    "# calculating cophenetic index for distance = 'euclidean' and different linkage methods\n",
    "for i in ['single', 'complete', 'average', 'weighted', 'centroid', 'median','ward']:\n",
    "    Z = linkage(datasetH, metric = 'euclidean', method = i)\n",
    "    c, coph_dists = cophenet(Z, pdist(datasetH))\n",
    "    print(i)\n",
    "    print(c)      "
   ]
  },
  {
   "cell_type": "markdown",
   "metadata": {},
   "source": [
    "> The best value of c = 0.897 for distance = 'euclidean' and method = 'average'."
   ]
  },
  {
   "cell_type": "code",
   "execution_count": 46,
   "metadata": {},
   "outputs": [
    {
     "data": {
      "image/png": "[encoded data removed]",
      "text/plain": [
       "<Figure size 720x360 with 1 Axes>"
      ]
     },
     "metadata": {
      "needs_background": "light"
     },
     "output_type": "display_data"
    }
   ],
   "source": [
    "# Plot Dendrogram\n",
    "Z1 = linkage(datasetH, metric = 'euclidean', method = 'average')\n",
    "plt.figure(figsize = (10,5))\n",
    "plt.title('Agglomerative Hierarchical Clustering Dendrogram')\n",
    "plt.xlabel('Index')\n",
    "plt.ylabel('Distance')\n",
    "dendrogram(Z1, leaf_rotation = 90, color_threshold = 52, leaf_font_size = 10)\n",
    "plt.tight_layout()"
   ]
  },
  {
   "cell_type": "code",
   "execution_count": 47,
   "metadata": {},
   "outputs": [
    {
     "name": "stdout",
     "output_type": "stream",
     "text": [
      "(654, 4)\n"
     ]
    }
   ],
   "source": [
    "print(Z1.shape)"
   ]
  },
  {
   "cell_type": "code",
   "execution_count": 48,
   "metadata": {},
   "outputs": [
    {
     "name": "stdout",
     "output_type": "stream",
     "text": [
      "single\n",
      "0.7079852086615688\n",
      "complete\n",
      "0.18237489052473685\n",
      "average\n",
      "0.5214976057796517\n",
      "weighted\n",
      "0.4318461700014751\n"
     ]
    }
   ],
   "source": [
    "# calculating cophenetic index for distance = 'jaccard' and different linkage methods\n",
    "for i in ['single', 'complete', 'average', 'weighted']:\n",
    "    Z = linkage(datasetH, metric = 'jaccard', method = i)\n",
    "    c, coph_dists = cophenet(Z, pdist(datasetH))\n",
    "    print(i)\n",
    "    print(c) "
   ]
  },
  {
   "cell_type": "markdown",
   "metadata": {},
   "source": [
    "> The best value of c = 0.707 for distance = 'jaccard' and method = 'single'."
   ]
  },
  {
   "cell_type": "code",
   "execution_count": 49,
   "metadata": {},
   "outputs": [
    {
     "name": "stdout",
     "output_type": "stream",
     "text": [
      "single\n",
      "0.7391473713405818\n",
      "complete\n",
      "0.8758017442817639\n",
      "average\n",
      "0.8971061215847376\n",
      "weighted\n",
      "0.8746689772570894\n"
     ]
    }
   ],
   "source": [
    "# calculating cophenetic index for distance = 'minkowski' and different linkage methods\n",
    "for i in ['single', 'complete', 'average', 'weighted']:\n",
    "    Z = linkage(datasetH, metric = 'minkowski', method = i)\n",
    "    c, coph_dists = cophenet(Z, pdist(datasetH))\n",
    "    print(i)\n",
    "    print(c) "
   ]
  },
  {
   "cell_type": "markdown",
   "metadata": {},
   "source": [
    "> The best value of c = 0.897 for distance = 'minkowski' and method = 'weighted'."
   ]
  },
  {
   "cell_type": "code",
   "execution_count": 50,
   "metadata": {},
   "outputs": [
    {
     "data": {
      "image/png": "[encoded data removed]",
      "text/plain": [
       "<Figure size 720x360 with 1 Axes>"
      ]
     },
     "metadata": {
      "needs_background": "light"
     },
     "output_type": "display_data"
    }
   ],
   "source": [
    "# Plot Dendrogram\n",
    "Z3 = linkage(datasetH, metric = 'minkowski', method = 'weighted')\n",
    "plt.figure(figsize = (10,5))\n",
    "plt.title('Agglomerative Hierarchical Clustering Dendrogram')\n",
    "plt.xlabel('Index')\n",
    "plt.ylabel('Distance')\n",
    "dendrogram(Z3, leaf_rotation = 90, color_threshold = 52, leaf_font_size = 10)\n",
    "plt.tight_layout()"
   ]
  },
  {
   "cell_type": "code",
   "execution_count": 51,
   "metadata": {},
   "outputs": [
    {
     "name": "stdout",
     "output_type": "stream",
     "text": [
      "(654, 4)\n"
     ]
    }
   ],
   "source": [
    "print(Z3.shape)"
   ]
  },
  {
   "cell_type": "code",
   "execution_count": 52,
   "metadata": {},
   "outputs": [
    {
     "name": "stdout",
     "output_type": "stream",
     "text": [
      "single\n",
      "0.7377009257150868\n",
      "complete\n",
      "0.8626209788676898\n",
      "average\n",
      "0.8952075169385171\n",
      "weighted\n",
      "0.8295594595735697\n"
     ]
    }
   ],
   "source": [
    "# calculating cophenetic index for distance = 'chebyshev'' and different linkage methods\n",
    "for i in ['single', 'complete', 'average', 'weighted']:\n",
    "    Z = linkage(datasetH, metric = 'chebyshev', method = i)\n",
    "    c, coph_dists = cophenet(Z, pdist(datasetH))\n",
    "    print(i)\n",
    "    print(c) "
   ]
  },
  {
   "cell_type": "markdown",
   "metadata": {},
   "source": [
    "> The best value of c = 0.895 for distance = 'chebyshev' and method = 'average'."
   ]
  },
  {
   "cell_type": "code",
   "execution_count": 53,
   "metadata": {},
   "outputs": [
    {
     "data": {
      "image/png": "[encoded data removed]",
      "text/plain": [
       "<Figure size 720x360 with 1 Axes>"
      ]
     },
     "metadata": {
      "needs_background": "light"
     },
     "output_type": "display_data"
    }
   ],
   "source": [
    "# Plot Dendrogram\n",
    "Z4 = linkage(datasetH, metric = 'chebyshev', method = 'average')\n",
    "plt.figure(figsize = (10,5))\n",
    "plt.title('Agglomerative Hierarchical Clustering Dendrogram')\n",
    "plt.xlabel('Index')\n",
    "plt.ylabel('Distance')\n",
    "dendrogram(Z4, leaf_rotation = 90, color_threshold = 52, leaf_font_size = 10)\n",
    "plt.tight_layout()"
   ]
  },
  {
   "cell_type": "code",
   "execution_count": 54,
   "metadata": {},
   "outputs": [
    {
     "name": "stdout",
     "output_type": "stream",
     "text": [
      "(654, 4)\n"
     ]
    }
   ],
   "source": [
    "print(Z4.shape)"
   ]
  },
  {
   "cell_type": "markdown",
   "metadata": {},
   "source": [
    "> <b>Hence, we have three different dendrograms with cophenetic coefficient about 0.89 and different combinations of distance metric and method to measure distance between data points and clusters. </b> <Br> The 3 combinations are:\n",
    "           - metric = 'euclidean' , method = 'average'\n",
    "           - metric = 'minkowski', method = 'weighted'\n",
    "           - metric = 'chebyshev' and method = 'average'"
   ]
  },
  {
   "cell_type": "code",
   "execution_count": 55,
   "metadata": {},
   "outputs": [
    {
     "data": {
      "image/png": "[encoded data removed]",
      "text/plain": [
       "<Figure size 432x288 with 1 Axes>"
      ]
     },
     "metadata": {
      "needs_background": "light"
     },
     "output_type": "display_data"
    }
   ],
   "source": [
    "# truncate dendrogram\n",
    "dendrogram(Z1, truncate_mode = 'lastp', p = 3)\n",
    "plt.show()"
   ]
  },
  {
   "cell_type": "code",
   "execution_count": 56,
   "metadata": {},
   "outputs": [
    {
     "data": {
      "image/png": "[encoded data removed]",
      "text/plain": [
       "<Figure size 432x288 with 1 Axes>"
      ]
     },
     "metadata": {
      "needs_background": "light"
     },
     "output_type": "display_data"
    }
   ],
   "source": [
    "# truncate dendrogram\n",
    "dendrogram(Z3, truncate_mode = 'lastp', p = 3)\n",
    "plt.show()"
   ]
  },
  {
   "cell_type": "code",
   "execution_count": 57,
   "metadata": {},
   "outputs": [
    {
     "data": {
      "image/png": "[encoded data removed]",
      "text/plain": [
       "<Figure size 432x288 with 1 Axes>"
      ]
     },
     "metadata": {
      "needs_background": "light"
     },
     "output_type": "display_data"
    }
   ],
   "source": [
    "# truncate dendrogram\n",
    "dendrogram(Z4, truncate_mode = 'lastp', p = 3)\n",
    "plt.show()"
   ]
  },
  {
   "cell_type": "code",
   "execution_count": 58,
   "metadata": {},
   "outputs": [
    {
     "data": {
      "text/plain": [
       "array([3, 2, 3, 2, 1, 2, 1, 2, 2, 2, 2, 2, 2, 2, 2, 2, 2, 2, 2, 2, 2, 2,\n",
       "       2, 2, 2, 2, 2, 2, 2, 2, 2, 2, 2, 2, 2, 2, 2, 2, 2, 2, 2, 2, 2, 2,\n",
       "       2, 2, 2, 2, 2, 2, 2, 2, 2, 2, 2, 2, 2, 2, 2, 2, 2, 2, 2, 2, 2, 2,\n",
       "       2, 2, 2, 2, 2, 2, 2, 2, 2, 2, 2, 2, 2, 2, 2, 2, 2, 2, 2, 2, 2, 2,\n",
       "       2, 2, 2, 2, 2, 2, 2, 2, 2, 2, 2, 2, 2, 2, 2, 2, 2, 2, 2, 2, 2, 2,\n",
       "       2, 2, 2, 2, 2, 2, 2, 2, 2, 2, 2, 2, 2, 2, 2, 2, 2, 2, 2, 2, 2, 2,\n",
       "       2, 2, 2, 2, 2, 2, 2, 2, 2, 2, 2, 2, 2, 2, 2, 2, 2, 2, 2, 2, 2, 2,\n",
       "       2, 2, 2, 2, 2, 2, 2, 2, 2, 2, 2, 2, 2, 2, 2, 2, 2, 2, 2, 2, 2, 2,\n",
       "       2, 2, 2, 2, 2, 2, 2, 2, 2, 2, 2, 2, 2, 2, 2, 2, 2, 2, 2, 2, 2, 2,\n",
       "       2, 2, 2, 2, 2, 2, 2, 2, 2, 2, 2, 2, 2, 2, 2, 2, 2, 2, 2, 2, 2, 2,\n",
       "       2, 2, 2, 2, 2, 2, 3, 3, 3, 3, 3, 3, 3, 3, 3, 3, 3, 3, 3, 3, 3, 3,\n",
       "       3, 3, 3, 3, 3, 3, 3, 3, 3, 3, 3, 3, 3, 3, 3, 3, 3, 3, 3, 3, 3, 3,\n",
       "       3, 3, 3, 3, 3, 3, 3, 3, 3, 3, 3, 3, 3, 3, 3, 3, 3, 3, 3, 3, 3, 3,\n",
       "       3, 3, 3, 3, 3, 3, 3, 3, 3, 3, 3, 3, 3, 3, 3, 3, 3, 3, 3, 3, 3, 3,\n",
       "       3, 3, 3, 3, 3, 3, 3, 3, 3, 3, 3, 3, 3, 3, 3, 3, 3, 3, 3, 3, 3, 3,\n",
       "       3, 3, 3, 3, 3, 3, 3, 3, 3, 3, 3, 3, 3, 3, 3, 3, 3, 3, 3, 3, 3, 3,\n",
       "       3, 3, 3, 3, 3, 3, 3, 3, 3, 3, 3, 3, 3, 3, 3, 3, 3, 3, 3, 3, 3, 3,\n",
       "       3, 3, 3, 3, 3, 3, 3, 3, 3, 3, 3, 3, 3, 3, 3, 3, 3, 3, 3, 3, 3, 3,\n",
       "       3, 3, 3, 3, 3, 3, 3, 3, 3, 3, 3, 3, 3, 3, 3, 3, 3, 3, 3, 3, 3, 3,\n",
       "       3, 3, 3, 3, 3, 3, 3, 3, 3, 3, 3, 3, 3, 3, 3, 3, 3, 3, 3, 3, 3, 3,\n",
       "       3, 3, 3, 3, 3, 3, 3, 3, 3, 3, 3, 3, 3, 3, 3, 3, 3, 3, 3, 3, 3, 3,\n",
       "       3, 3, 3, 3, 3, 3, 3, 3, 3, 3, 3, 3, 3, 3, 3, 3, 3, 3, 3, 3, 3, 3,\n",
       "       3, 3, 3, 3, 3, 3, 3, 3, 3, 3, 3, 3, 3, 3, 3, 3, 3, 3, 3, 3, 3, 3,\n",
       "       3, 3, 3, 3, 3, 3, 3, 3, 3, 3, 3, 3, 3, 3, 3, 3, 3, 3, 3, 3, 3, 3,\n",
       "       3, 3, 3, 3, 3, 3, 3, 3, 3, 3, 3, 3, 3, 3, 3, 3, 3, 3, 3, 3, 3, 3,\n",
       "       3, 3, 3, 3, 3, 3, 3, 3, 3, 3, 3, 3, 3, 3, 3, 3, 3, 3, 3, 3, 3, 3,\n",
       "       3, 3, 3, 3, 3, 3, 3, 3, 3, 3, 3, 3, 3, 3, 3, 3, 3, 3, 3, 3, 3, 3,\n",
       "       3, 3, 3, 3, 3, 3, 3, 3, 3, 3, 3, 3, 3, 1, 1, 1, 1, 1, 1, 1, 1, 1,\n",
       "       1, 1, 1, 1, 1, 1, 1, 1, 1, 1, 1, 1, 1, 1, 1, 1, 1, 1, 1, 1, 1, 1,\n",
       "       1, 1, 1, 1, 1, 1, 1, 1, 1, 1, 1, 1, 1, 1, 1, 1, 1], dtype=int32)"
      ]
     },
     "execution_count": 58,
     "metadata": {},
     "output_type": "execute_result"
    }
   ],
   "source": [
    "max_d = 3.2\n",
    "from scipy.cluster.hierarchy import fcluster\n",
    "clusters = fcluster(Z1, max_d, criterion='distance')\n",
    "clusters"
   ]
  },
  {
   "cell_type": "markdown",
   "metadata": {},
   "source": [
    "> optimum number of clusters from the dendrogram = 3 clusters. <Br> <b> We choose metric = 'euclidean' and method = 'average' for our case.</b>"
   ]
  },
  {
   "cell_type": "code",
   "execution_count": 59,
   "metadata": {},
   "outputs": [
    {
     "data": {
      "text/plain": [
       "AgglomerativeClustering(linkage='average', n_clusters=3)"
      ]
     },
     "execution_count": 59,
     "metadata": {},
     "output_type": "execute_result"
    }
   ],
   "source": [
    "# Agglomerative Clustering\n",
    "from sklearn.cluster import AgglomerativeClustering\n",
    "model = AgglomerativeClustering(n_clusters = 3,\n",
    "                               affinity = 'euclidean',\n",
    "                               linkage = 'average')\n",
    "model.fit(datasetH)"
   ]
  },
  {
   "cell_type": "code",
   "execution_count": 60,
   "metadata": {},
   "outputs": [],
   "source": [
    "# Add group/cluster number to dataset\n",
    "datasetH['labels'] = model.labels_"
   ]
  },
  {
   "cell_type": "code",
   "execution_count": 61,
   "metadata": {},
   "outputs": [
    {
     "data": {
      "text/html": [
       "<div>\n",
       "<style scoped>\n",
       "    .dataframe tbody tr th:only-of-type {\n",
       "        vertical-align: middle;\n",
       "    }\n",
       "\n",
       "    .dataframe tbody tr th {\n",
       "        vertical-align: top;\n",
       "    }\n",
       "\n",
       "    .dataframe thead th {\n",
       "        text-align: right;\n",
       "    }\n",
       "</style>\n",
       "<table border=\"1\" class=\"dataframe\">\n",
       "  <thead>\n",
       "    <tr style=\"text-align: right;\">\n",
       "      <th></th>\n",
       "      <th>Avg_Credit_Limit</th>\n",
       "      <th>Total_Credit_Cards</th>\n",
       "      <th>Total_visits_bank</th>\n",
       "      <th>Total_visits_online</th>\n",
       "      <th>Total_calls_made</th>\n",
       "      <th>labels</th>\n",
       "    </tr>\n",
       "  </thead>\n",
       "  <tbody>\n",
       "    <tr>\n",
       "      <th>0</th>\n",
       "      <td>1.732369</td>\n",
       "      <td>-1.249105</td>\n",
       "      <td>-0.860646</td>\n",
       "      <td>-0.550400</td>\n",
       "      <td>-1.256040</td>\n",
       "      <td>0</td>\n",
       "    </tr>\n",
       "    <tr>\n",
       "      <th>1</th>\n",
       "      <td>0.406101</td>\n",
       "      <td>-0.788168</td>\n",
       "      <td>-1.475392</td>\n",
       "      <td>2.510549</td>\n",
       "      <td>1.901468</td>\n",
       "      <td>2</td>\n",
       "    </tr>\n",
       "    <tr>\n",
       "      <th>2</th>\n",
       "      <td>0.406101</td>\n",
       "      <td>1.055582</td>\n",
       "      <td>-0.860646</td>\n",
       "      <td>0.129811</td>\n",
       "      <td>0.147297</td>\n",
       "      <td>0</td>\n",
       "    </tr>\n",
       "    <tr>\n",
       "      <th>3</th>\n",
       "      <td>-0.124406</td>\n",
       "      <td>0.133707</td>\n",
       "      <td>-0.860646</td>\n",
       "      <td>-0.550400</td>\n",
       "      <td>0.147297</td>\n",
       "      <td>2</td>\n",
       "    </tr>\n",
       "    <tr>\n",
       "      <th>4</th>\n",
       "      <td>1.732369</td>\n",
       "      <td>0.594644</td>\n",
       "      <td>-1.475392</td>\n",
       "      <td>3.190759</td>\n",
       "      <td>-0.203537</td>\n",
       "      <td>1</td>\n",
       "    </tr>\n",
       "  </tbody>\n",
       "</table>\n",
       "</div>"
      ],
      "text/plain": [
       "   Avg_Credit_Limit  Total_Credit_Cards  Total_visits_bank  \\\n",
       "0          1.732369           -1.249105          -0.860646   \n",
       "1          0.406101           -0.788168          -1.475392   \n",
       "2          0.406101            1.055582          -0.860646   \n",
       "3         -0.124406            0.133707          -0.860646   \n",
       "4          1.732369            0.594644          -1.475392   \n",
       "\n",
       "   Total_visits_online  Total_calls_made  labels  \n",
       "0            -0.550400         -1.256040       0  \n",
       "1             2.510549          1.901468       2  \n",
       "2             0.129811          0.147297       0  \n",
       "3            -0.550400          0.147297       2  \n",
       "4             3.190759         -0.203537       1  "
      ]
     },
     "execution_count": 61,
     "metadata": {},
     "output_type": "execute_result"
    }
   ],
   "source": [
    "datasetH.head()"
   ]
  },
  {
   "cell_type": "code",
   "execution_count": 62,
   "metadata": {},
   "outputs": [
    {
     "data": {
      "image/png": "[encoded data removed]",
      "text/plain": [
       "<Figure size 1080x1080 with 6 Axes>"
      ]
     },
     "metadata": {
      "needs_background": "light"
     },
     "output_type": "display_data"
    }
   ],
   "source": [
    "# Visualize clusters\n",
    "datasetH.boxplot(by='labels', figsize = (15,15));"
   ]
  },
  {
   "cell_type": "markdown",
   "metadata": {},
   "source": [
    "> Observations:\n",
    "- Customers in group 1 (2nd cluster) have more number of credit cards, highest range for average credit limit, and visit online maximum number of times for their queries.\n",
    "- Customers in group 2 (3rd cluster) have least number of credit cards, lowest range for average credit limit, and make the maximum number of calls to the bank for their concerns.\n",
    "- Customers in group 0 (1st cluster) have about average number of credit cards, with little less than average credit limit, and  mostly visit the bank for their queries."
   ]
  },
  {
   "cell_type": "code",
   "execution_count": 63,
   "metadata": {},
   "outputs": [
    {
     "data": {
      "text/html": [
       "<div>\n",
       "<style scoped>\n",
       "    .dataframe tbody tr th:only-of-type {\n",
       "        vertical-align: middle;\n",
       "    }\n",
       "\n",
       "    .dataframe tbody tr th {\n",
       "        vertical-align: top;\n",
       "    }\n",
       "\n",
       "    .dataframe thead th {\n",
       "        text-align: right;\n",
       "    }\n",
       "</style>\n",
       "<table border=\"1\" class=\"dataframe\">\n",
       "  <thead>\n",
       "    <tr style=\"text-align: right;\">\n",
       "      <th></th>\n",
       "      <th>Cluster no.</th>\n",
       "      <th>Total Credit Cards</th>\n",
       "      <th>Average Credit Limit</th>\n",
       "      <th>Contact Method</th>\n",
       "    </tr>\n",
       "  </thead>\n",
       "  <tbody>\n",
       "    <tr>\n",
       "      <th>0</th>\n",
       "      <td>0</td>\n",
       "      <td>Medium</td>\n",
       "      <td>Medium</td>\n",
       "      <td>Visit Bank</td>\n",
       "    </tr>\n",
       "    <tr>\n",
       "      <th>1</th>\n",
       "      <td>1</td>\n",
       "      <td>High</td>\n",
       "      <td>High</td>\n",
       "      <td>Visit Online</td>\n",
       "    </tr>\n",
       "    <tr>\n",
       "      <th>2</th>\n",
       "      <td>2</td>\n",
       "      <td>Low</td>\n",
       "      <td>Low</td>\n",
       "      <td>Make Calls</td>\n",
       "    </tr>\n",
       "  </tbody>\n",
       "</table>\n",
       "</div>"
      ],
      "text/plain": [
       "   Cluster no. Total Credit Cards Average Credit Limit Contact Method\n",
       "0            0             Medium               Medium     Visit Bank\n",
       "1            1               High                 High   Visit Online\n",
       "2            2                Low                  Low     Make Calls"
      ]
     },
     "execution_count": 63,
     "metadata": {},
     "output_type": "execute_result"
    }
   ],
   "source": [
    "# Dataframe depicting trends/characteristics of clusters formed by Hierarchical\n",
    "df_hierarchical = pd.DataFrame({\"Cluster no.\" : [0,1,2],\n",
    "                         \"Total Credit Cards\" : ['Medium','High','Low'],\n",
    "                         \"Average Credit Limit\" : ['Medium','High','Low'],\n",
    "                         \"Contact Method\" : ['Visit Bank', 'Visit Online', 'Make Calls']})\n",
    "df_hierarchical"
   ]
  },
  {
   "cell_type": "code",
   "execution_count": 64,
   "metadata": {},
   "outputs": [
    {
     "name": "stdout",
     "output_type": "stream",
     "text": [
      "0.5904746612930871\n"
     ]
    }
   ],
   "source": [
    "# silhoutte score\n",
    "from sklearn.metrics import silhouette_score\n",
    "score_hierarchical = silhouette_score(datasetH, model.labels_)\n",
    "print(score_hierarchical)"
   ]
  },
  {
   "cell_type": "code",
   "execution_count": 65,
   "metadata": {},
   "outputs": [
    {
     "name": "stdout",
     "output_type": "stream",
     "text": [
      "2\n",
      "3\n",
      "4\n",
      "5\n",
      "6\n",
      "7\n"
     ]
    },
    {
     "data": {
      "image/png": "[encoded data removed]",
      "text/plain": [
       "<Figure size 432x288 with 1 Axes>"
      ]
     },
     "metadata": {
      "needs_background": "light"
     },
     "output_type": "display_data"
    }
   ],
   "source": [
    "# plot silhouette score for different number of clusters\n",
    "scores = []\n",
    "for i in range(2,8):\n",
    "    model = AgglomerativeClustering(n_clusters = i,\n",
    "                                   affinity = 'euclidean',\n",
    "                                   linkage = 'average')\n",
    "    model.fit(datasetH)\n",
    "    print(i)\n",
    "    score = silhouette_score(datasetH, model.labels_)\n",
    "    scores.append(score)\n",
    "    \n",
    "plt.plot(range(2,8), scores)\n",
    "plt.show()"
   ]
  },
  {
   "cell_type": "markdown",
   "metadata": {},
   "source": [
    "> Since, silhoutte score is highest (close to 1) for number of clusters = 3, therefore, optimal number of clusters is 3."
   ]
  },
  {
   "cell_type": "markdown",
   "metadata": {},
   "source": [
    "## 3c. Comparing KMeans & Hierarchical Clustering:"
   ]
  },
  {
   "cell_type": "markdown",
   "metadata": {},
   "source": [
    "### Group by cluster labels:"
   ]
  },
  {
   "cell_type": "code",
   "execution_count": 66,
   "metadata": {},
   "outputs": [
    {
     "data": {
      "text/html": [
       "<div>\n",
       "<style scoped>\n",
       "    .dataframe tbody tr th:only-of-type {\n",
       "        vertical-align: middle;\n",
       "    }\n",
       "\n",
       "    .dataframe tbody tr th {\n",
       "        vertical-align: top;\n",
       "    }\n",
       "\n",
       "    .dataframe thead th {\n",
       "        text-align: right;\n",
       "    }\n",
       "</style>\n",
       "<table border=\"1\" class=\"dataframe\">\n",
       "  <thead>\n",
       "    <tr style=\"text-align: right;\">\n",
       "      <th></th>\n",
       "      <th>Avg_Credit_Limit</th>\n",
       "      <th>Total_Credit_Cards</th>\n",
       "      <th>Total_visits_bank</th>\n",
       "      <th>Total_visits_online</th>\n",
       "      <th>Total_calls_made</th>\n",
       "      <th>group</th>\n",
       "    </tr>\n",
       "  </thead>\n",
       "  <tbody>\n",
       "    <tr>\n",
       "      <th>0</th>\n",
       "      <td>1.732369</td>\n",
       "      <td>-1.249105</td>\n",
       "      <td>-0.860646</td>\n",
       "      <td>-0.550400</td>\n",
       "      <td>-1.256040</td>\n",
       "      <td>1</td>\n",
       "    </tr>\n",
       "    <tr>\n",
       "      <th>1</th>\n",
       "      <td>0.406101</td>\n",
       "      <td>-0.788168</td>\n",
       "      <td>-1.475392</td>\n",
       "      <td>2.510549</td>\n",
       "      <td>1.901468</td>\n",
       "      <td>0</td>\n",
       "    </tr>\n",
       "    <tr>\n",
       "      <th>2</th>\n",
       "      <td>0.406101</td>\n",
       "      <td>1.055582</td>\n",
       "      <td>-0.860646</td>\n",
       "      <td>0.129811</td>\n",
       "      <td>0.147297</td>\n",
       "      <td>1</td>\n",
       "    </tr>\n",
       "    <tr>\n",
       "      <th>3</th>\n",
       "      <td>-0.124406</td>\n",
       "      <td>0.133707</td>\n",
       "      <td>-0.860646</td>\n",
       "      <td>-0.550400</td>\n",
       "      <td>0.147297</td>\n",
       "      <td>1</td>\n",
       "    </tr>\n",
       "    <tr>\n",
       "      <th>4</th>\n",
       "      <td>1.732369</td>\n",
       "      <td>0.594644</td>\n",
       "      <td>-1.475392</td>\n",
       "      <td>3.190759</td>\n",
       "      <td>-0.203537</td>\n",
       "      <td>2</td>\n",
       "    </tr>\n",
       "  </tbody>\n",
       "</table>\n",
       "</div>"
      ],
      "text/plain": [
       "   Avg_Credit_Limit  Total_Credit_Cards  Total_visits_bank  \\\n",
       "0          1.732369           -1.249105          -0.860646   \n",
       "1          0.406101           -0.788168          -1.475392   \n",
       "2          0.406101            1.055582          -0.860646   \n",
       "3         -0.124406            0.133707          -0.860646   \n",
       "4          1.732369            0.594644          -1.475392   \n",
       "\n",
       "   Total_visits_online  Total_calls_made group  \n",
       "0            -0.550400         -1.256040     1  \n",
       "1             2.510549          1.901468     0  \n",
       "2             0.129811          0.147297     1  \n",
       "3            -0.550400          0.147297     1  \n",
       "4             3.190759         -0.203537     2  "
      ]
     },
     "execution_count": 66,
     "metadata": {},
     "output_type": "execute_result"
    }
   ],
   "source": [
    "dataset.head()"
   ]
  },
  {
   "cell_type": "code",
   "execution_count": 67,
   "metadata": {},
   "outputs": [
    {
     "data": {
      "text/html": [
       "<div>\n",
       "<style scoped>\n",
       "    .dataframe tbody tr th:only-of-type {\n",
       "        vertical-align: middle;\n",
       "    }\n",
       "\n",
       "    .dataframe tbody tr th {\n",
       "        vertical-align: top;\n",
       "    }\n",
       "\n",
       "    .dataframe thead th {\n",
       "        text-align: right;\n",
       "    }\n",
       "</style>\n",
       "<table border=\"1\" class=\"dataframe\">\n",
       "  <thead>\n",
       "    <tr style=\"text-align: right;\">\n",
       "      <th></th>\n",
       "      <th>Avg_Credit_Limit</th>\n",
       "      <th>Total_Credit_Cards</th>\n",
       "      <th>Total_visits_bank</th>\n",
       "      <th>Total_visits_online</th>\n",
       "      <th>Total_calls_made</th>\n",
       "      <th>labels</th>\n",
       "    </tr>\n",
       "  </thead>\n",
       "  <tbody>\n",
       "    <tr>\n",
       "      <th>0</th>\n",
       "      <td>1.732369</td>\n",
       "      <td>-1.249105</td>\n",
       "      <td>-0.860646</td>\n",
       "      <td>-0.550400</td>\n",
       "      <td>-1.256040</td>\n",
       "      <td>0</td>\n",
       "    </tr>\n",
       "    <tr>\n",
       "      <th>1</th>\n",
       "      <td>0.406101</td>\n",
       "      <td>-0.788168</td>\n",
       "      <td>-1.475392</td>\n",
       "      <td>2.510549</td>\n",
       "      <td>1.901468</td>\n",
       "      <td>2</td>\n",
       "    </tr>\n",
       "    <tr>\n",
       "      <th>2</th>\n",
       "      <td>0.406101</td>\n",
       "      <td>1.055582</td>\n",
       "      <td>-0.860646</td>\n",
       "      <td>0.129811</td>\n",
       "      <td>0.147297</td>\n",
       "      <td>0</td>\n",
       "    </tr>\n",
       "    <tr>\n",
       "      <th>3</th>\n",
       "      <td>-0.124406</td>\n",
       "      <td>0.133707</td>\n",
       "      <td>-0.860646</td>\n",
       "      <td>-0.550400</td>\n",
       "      <td>0.147297</td>\n",
       "      <td>2</td>\n",
       "    </tr>\n",
       "    <tr>\n",
       "      <th>4</th>\n",
       "      <td>1.732369</td>\n",
       "      <td>0.594644</td>\n",
       "      <td>-1.475392</td>\n",
       "      <td>3.190759</td>\n",
       "      <td>-0.203537</td>\n",
       "      <td>1</td>\n",
       "    </tr>\n",
       "  </tbody>\n",
       "</table>\n",
       "</div>"
      ],
      "text/plain": [
       "   Avg_Credit_Limit  Total_Credit_Cards  Total_visits_bank  \\\n",
       "0          1.732369           -1.249105          -0.860646   \n",
       "1          0.406101           -0.788168          -1.475392   \n",
       "2          0.406101            1.055582          -0.860646   \n",
       "3         -0.124406            0.133707          -0.860646   \n",
       "4          1.732369            0.594644          -1.475392   \n",
       "\n",
       "   Total_visits_online  Total_calls_made  labels  \n",
       "0            -0.550400         -1.256040       0  \n",
       "1             2.510549          1.901468       2  \n",
       "2             0.129811          0.147297       0  \n",
       "3            -0.550400          0.147297       2  \n",
       "4             3.190759         -0.203537       1  "
      ]
     },
     "execution_count": 67,
     "metadata": {},
     "output_type": "execute_result"
    }
   ],
   "source": [
    "datasetH.head()"
   ]
  },
  {
   "cell_type": "code",
   "execution_count": 68,
   "metadata": {},
   "outputs": [],
   "source": [
    "# Add clusters to original dataset\n",
    "data_original['KMeans_label'] = dataset['group']\n",
    "data_original['Hierarchical_label'] = datasetH['labels']"
   ]
  },
  {
   "cell_type": "code",
   "execution_count": 69,
   "metadata": {},
   "outputs": [
    {
     "data": {
      "text/html": [
       "<div>\n",
       "<style scoped>\n",
       "    .dataframe tbody tr th:only-of-type {\n",
       "        vertical-align: middle;\n",
       "    }\n",
       "\n",
       "    .dataframe tbody tr th {\n",
       "        vertical-align: top;\n",
       "    }\n",
       "\n",
       "    .dataframe thead th {\n",
       "        text-align: right;\n",
       "    }\n",
       "</style>\n",
       "<table border=\"1\" class=\"dataframe\">\n",
       "  <thead>\n",
       "    <tr style=\"text-align: right;\">\n",
       "      <th></th>\n",
       "      <th>Customer Key</th>\n",
       "      <th>Avg_Credit_Limit</th>\n",
       "      <th>Total_Credit_Cards</th>\n",
       "      <th>Total_visits_bank</th>\n",
       "      <th>Total_visits_online</th>\n",
       "      <th>Total_calls_made</th>\n",
       "      <th>KMeans_label</th>\n",
       "      <th>Hierarchical_label</th>\n",
       "    </tr>\n",
       "  </thead>\n",
       "  <tbody>\n",
       "    <tr>\n",
       "      <th>0</th>\n",
       "      <td>87073</td>\n",
       "      <td>100000</td>\n",
       "      <td>2</td>\n",
       "      <td>1</td>\n",
       "      <td>1</td>\n",
       "      <td>0</td>\n",
       "      <td>1</td>\n",
       "      <td>0.0</td>\n",
       "    </tr>\n",
       "    <tr>\n",
       "      <th>1</th>\n",
       "      <td>38414</td>\n",
       "      <td>50000</td>\n",
       "      <td>3</td>\n",
       "      <td>0</td>\n",
       "      <td>10</td>\n",
       "      <td>9</td>\n",
       "      <td>0</td>\n",
       "      <td>2.0</td>\n",
       "    </tr>\n",
       "    <tr>\n",
       "      <th>2</th>\n",
       "      <td>17341</td>\n",
       "      <td>50000</td>\n",
       "      <td>7</td>\n",
       "      <td>1</td>\n",
       "      <td>3</td>\n",
       "      <td>4</td>\n",
       "      <td>1</td>\n",
       "      <td>0.0</td>\n",
       "    </tr>\n",
       "    <tr>\n",
       "      <th>3</th>\n",
       "      <td>40496</td>\n",
       "      <td>30000</td>\n",
       "      <td>5</td>\n",
       "      <td>1</td>\n",
       "      <td>1</td>\n",
       "      <td>4</td>\n",
       "      <td>1</td>\n",
       "      <td>2.0</td>\n",
       "    </tr>\n",
       "    <tr>\n",
       "      <th>4</th>\n",
       "      <td>47437</td>\n",
       "      <td>100000</td>\n",
       "      <td>6</td>\n",
       "      <td>0</td>\n",
       "      <td>12</td>\n",
       "      <td>3</td>\n",
       "      <td>2</td>\n",
       "      <td>1.0</td>\n",
       "    </tr>\n",
       "  </tbody>\n",
       "</table>\n",
       "</div>"
      ],
      "text/plain": [
       "   Customer Key  Avg_Credit_Limit  Total_Credit_Cards  Total_visits_bank  \\\n",
       "0         87073            100000                   2                  1   \n",
       "1         38414             50000                   3                  0   \n",
       "2         17341             50000                   7                  1   \n",
       "3         40496             30000                   5                  1   \n",
       "4         47437            100000                   6                  0   \n",
       "\n",
       "   Total_visits_online  Total_calls_made KMeans_label  Hierarchical_label  \n",
       "0                    1                 0            1                 0.0  \n",
       "1                   10                 9            0                 2.0  \n",
       "2                    3                 4            1                 0.0  \n",
       "3                    1                 4            1                 2.0  \n",
       "4                   12                 3            2                 1.0  "
      ]
     },
     "execution_count": 69,
     "metadata": {},
     "output_type": "execute_result"
    }
   ],
   "source": [
    "data_original.head()"
   ]
  },
  {
   "cell_type": "code",
   "execution_count": 70,
   "metadata": {},
   "outputs": [
    {
     "data": {
      "text/html": [
       "<div>\n",
       "<style scoped>\n",
       "    .dataframe tbody tr th:only-of-type {\n",
       "        vertical-align: middle;\n",
       "    }\n",
       "\n",
       "    .dataframe tbody tr th {\n",
       "        vertical-align: top;\n",
       "    }\n",
       "\n",
       "    .dataframe thead th {\n",
       "        text-align: right;\n",
       "    }\n",
       "</style>\n",
       "<table border=\"1\" class=\"dataframe\">\n",
       "  <thead>\n",
       "    <tr style=\"text-align: right;\">\n",
       "      <th></th>\n",
       "      <th>KMeans_label</th>\n",
       "      <th>0</th>\n",
       "      <th>1</th>\n",
       "      <th>2</th>\n",
       "    </tr>\n",
       "  </thead>\n",
       "  <tbody>\n",
       "    <tr>\n",
       "      <th rowspan=\"8\" valign=\"top\">Customer Key</th>\n",
       "      <th>count</th>\n",
       "      <td>222.000000</td>\n",
       "      <td>383.000000</td>\n",
       "      <td>50.000000</td>\n",
       "    </tr>\n",
       "    <tr>\n",
       "      <th>mean</th>\n",
       "      <td>55128.536036</td>\n",
       "      <td>54801.882507</td>\n",
       "      <td>56708.760000</td>\n",
       "    </tr>\n",
       "    <tr>\n",
       "      <th>std</th>\n",
       "      <td>25924.359359</td>\n",
       "      <td>25314.312166</td>\n",
       "      <td>26862.130097</td>\n",
       "    </tr>\n",
       "    <tr>\n",
       "      <th>min</th>\n",
       "      <td>11412.000000</td>\n",
       "      <td>11265.000000</td>\n",
       "      <td>13315.000000</td>\n",
       "    </tr>\n",
       "    <tr>\n",
       "      <th>25%</th>\n",
       "      <td>33219.500000</td>\n",
       "      <td>34459.000000</td>\n",
       "      <td>32897.250000</td>\n",
       "    </tr>\n",
       "    <tr>\n",
       "      <th>50%</th>\n",
       "      <td>55235.500000</td>\n",
       "      <td>53002.000000</td>\n",
       "      <td>53875.000000</td>\n",
       "    </tr>\n",
       "    <tr>\n",
       "      <th>75%</th>\n",
       "      <td>75852.500000</td>\n",
       "      <td>76724.500000</td>\n",
       "      <td>79713.750000</td>\n",
       "    </tr>\n",
       "    <tr>\n",
       "      <th>max</th>\n",
       "      <td>99596.000000</td>\n",
       "      <td>99473.000000</td>\n",
       "      <td>99843.000000</td>\n",
       "    </tr>\n",
       "    <tr>\n",
       "      <th rowspan=\"8\" valign=\"top\">Avg_Credit_Limit</th>\n",
       "      <th>count</th>\n",
       "      <td>222.000000</td>\n",
       "      <td>383.000000</td>\n",
       "      <td>50.000000</td>\n",
       "    </tr>\n",
       "    <tr>\n",
       "      <th>mean</th>\n",
       "      <td>12180.180180</td>\n",
       "      <td>33853.785901</td>\n",
       "      <td>141040.000000</td>\n",
       "    </tr>\n",
       "    <tr>\n",
       "      <th>std</th>\n",
       "      <td>5246.327219</td>\n",
       "      <td>22208.071973</td>\n",
       "      <td>34457.877272</td>\n",
       "    </tr>\n",
       "    <tr>\n",
       "      <th>min</th>\n",
       "      <td>3000.000000</td>\n",
       "      <td>5000.000000</td>\n",
       "      <td>84000.000000</td>\n",
       "    </tr>\n",
       "    <tr>\n",
       "      <th>25%</th>\n",
       "      <td>8000.000000</td>\n",
       "      <td>13000.000000</td>\n",
       "      <td>108750.000000</td>\n",
       "    </tr>\n",
       "    <tr>\n",
       "      <th>50%</th>\n",
       "      <td>12000.000000</td>\n",
       "      <td>31000.000000</td>\n",
       "      <td>145500.000000</td>\n",
       "    </tr>\n",
       "    <tr>\n",
       "      <th>75%</th>\n",
       "      <td>16000.000000</td>\n",
       "      <td>52000.000000</td>\n",
       "      <td>170000.000000</td>\n",
       "    </tr>\n",
       "    <tr>\n",
       "      <th>max</th>\n",
       "      <td>50000.000000</td>\n",
       "      <td>100000.000000</td>\n",
       "      <td>200000.000000</td>\n",
       "    </tr>\n",
       "    <tr>\n",
       "      <th rowspan=\"8\" valign=\"top\">Total_Credit_Cards</th>\n",
       "      <th>count</th>\n",
       "      <td>222.000000</td>\n",
       "      <td>383.000000</td>\n",
       "      <td>50.000000</td>\n",
       "    </tr>\n",
       "    <tr>\n",
       "      <th>mean</th>\n",
       "      <td>2.405405</td>\n",
       "      <td>5.519582</td>\n",
       "      <td>8.740000</td>\n",
       "    </tr>\n",
       "    <tr>\n",
       "      <th>std</th>\n",
       "      <td>1.100213</td>\n",
       "      <td>1.136730</td>\n",
       "      <td>1.274715</td>\n",
       "    </tr>\n",
       "    <tr>\n",
       "      <th>min</th>\n",
       "      <td>1.000000</td>\n",
       "      <td>2.000000</td>\n",
       "      <td>5.000000</td>\n",
       "    </tr>\n",
       "    <tr>\n",
       "      <th>25%</th>\n",
       "      <td>1.000000</td>\n",
       "      <td>4.000000</td>\n",
       "      <td>8.000000</td>\n",
       "    </tr>\n",
       "    <tr>\n",
       "      <th>50%</th>\n",
       "      <td>2.000000</td>\n",
       "      <td>6.000000</td>\n",
       "      <td>9.000000</td>\n",
       "    </tr>\n",
       "    <tr>\n",
       "      <th>75%</th>\n",
       "      <td>3.000000</td>\n",
       "      <td>6.000000</td>\n",
       "      <td>10.000000</td>\n",
       "    </tr>\n",
       "    <tr>\n",
       "      <th>max</th>\n",
       "      <td>4.000000</td>\n",
       "      <td>7.000000</td>\n",
       "      <td>10.000000</td>\n",
       "    </tr>\n",
       "    <tr>\n",
       "      <th rowspan=\"8\" valign=\"top\">Total_visits_bank</th>\n",
       "      <th>count</th>\n",
       "      <td>222.000000</td>\n",
       "      <td>383.000000</td>\n",
       "      <td>50.000000</td>\n",
       "    </tr>\n",
       "    <tr>\n",
       "      <th>mean</th>\n",
       "      <td>0.936937</td>\n",
       "      <td>3.483029</td>\n",
       "      <td>0.600000</td>\n",
       "    </tr>\n",
       "    <tr>\n",
       "      <th>std</th>\n",
       "      <td>0.804729</td>\n",
       "      <td>1.134467</td>\n",
       "      <td>0.494872</td>\n",
       "    </tr>\n",
       "    <tr>\n",
       "      <th>min</th>\n",
       "      <td>0.000000</td>\n",
       "      <td>1.000000</td>\n",
       "      <td>0.000000</td>\n",
       "    </tr>\n",
       "    <tr>\n",
       "      <th>25%</th>\n",
       "      <td>0.000000</td>\n",
       "      <td>2.500000</td>\n",
       "      <td>0.000000</td>\n",
       "    </tr>\n",
       "    <tr>\n",
       "      <th>50%</th>\n",
       "      <td>1.000000</td>\n",
       "      <td>3.000000</td>\n",
       "      <td>1.000000</td>\n",
       "    </tr>\n",
       "    <tr>\n",
       "      <th>75%</th>\n",
       "      <td>2.000000</td>\n",
       "      <td>4.500000</td>\n",
       "      <td>1.000000</td>\n",
       "    </tr>\n",
       "    <tr>\n",
       "      <th>max</th>\n",
       "      <td>2.000000</td>\n",
       "      <td>5.000000</td>\n",
       "      <td>1.000000</td>\n",
       "    </tr>\n",
       "    <tr>\n",
       "      <th rowspan=\"8\" valign=\"top\">Total_visits_online</th>\n",
       "      <th>count</th>\n",
       "      <td>222.000000</td>\n",
       "      <td>383.000000</td>\n",
       "      <td>50.000000</td>\n",
       "    </tr>\n",
       "    <tr>\n",
       "      <th>mean</th>\n",
       "      <td>3.567568</td>\n",
       "      <td>0.986945</td>\n",
       "      <td>10.900000</td>\n",
       "    </tr>\n",
       "    <tr>\n",
       "      <th>std</th>\n",
       "      <td>1.215448</td>\n",
       "      <td>0.857573</td>\n",
       "      <td>2.880264</td>\n",
       "    </tr>\n",
       "    <tr>\n",
       "      <th>min</th>\n",
       "      <td>1.000000</td>\n",
       "      <td>0.000000</td>\n",
       "      <td>6.000000</td>\n",
       "    </tr>\n",
       "    <tr>\n",
       "      <th>25%</th>\n",
       "      <td>3.000000</td>\n",
       "      <td>0.000000</td>\n",
       "      <td>8.000000</td>\n",
       "    </tr>\n",
       "    <tr>\n",
       "      <th>50%</th>\n",
       "      <td>4.000000</td>\n",
       "      <td>1.000000</td>\n",
       "      <td>11.000000</td>\n",
       "    </tr>\n",
       "    <tr>\n",
       "      <th>75%</th>\n",
       "      <td>4.000000</td>\n",
       "      <td>2.000000</td>\n",
       "      <td>13.000000</td>\n",
       "    </tr>\n",
       "    <tr>\n",
       "      <th>max</th>\n",
       "      <td>10.000000</td>\n",
       "      <td>3.000000</td>\n",
       "      <td>15.000000</td>\n",
       "    </tr>\n",
       "    <tr>\n",
       "      <th rowspan=\"8\" valign=\"top\">Total_calls_made</th>\n",
       "      <th>count</th>\n",
       "      <td>222.000000</td>\n",
       "      <td>383.000000</td>\n",
       "      <td>50.000000</td>\n",
       "    </tr>\n",
       "    <tr>\n",
       "      <th>mean</th>\n",
       "      <td>6.851351</td>\n",
       "      <td>2.010444</td>\n",
       "      <td>1.080000</td>\n",
       "    </tr>\n",
       "    <tr>\n",
       "      <th>std</th>\n",
       "      <td>1.986487</td>\n",
       "      <td>1.428907</td>\n",
       "      <td>0.876915</td>\n",
       "    </tr>\n",
       "    <tr>\n",
       "      <th>min</th>\n",
       "      <td>1.000000</td>\n",
       "      <td>0.000000</td>\n",
       "      <td>0.000000</td>\n",
       "    </tr>\n",
       "    <tr>\n",
       "      <th>25%</th>\n",
       "      <td>5.000000</td>\n",
       "      <td>1.000000</td>\n",
       "      <td>0.000000</td>\n",
       "    </tr>\n",
       "    <tr>\n",
       "      <th>50%</th>\n",
       "      <td>7.000000</td>\n",
       "      <td>2.000000</td>\n",
       "      <td>1.000000</td>\n",
       "    </tr>\n",
       "    <tr>\n",
       "      <th>75%</th>\n",
       "      <td>9.000000</td>\n",
       "      <td>3.000000</td>\n",
       "      <td>2.000000</td>\n",
       "    </tr>\n",
       "    <tr>\n",
       "      <th>max</th>\n",
       "      <td>10.000000</td>\n",
       "      <td>4.000000</td>\n",
       "      <td>3.000000</td>\n",
       "    </tr>\n",
       "    <tr>\n",
       "      <th rowspan=\"8\" valign=\"top\">Hierarchical_label</th>\n",
       "      <th>count</th>\n",
       "      <td>222.000000</td>\n",
       "      <td>383.000000</td>\n",
       "      <td>50.000000</td>\n",
       "    </tr>\n",
       "    <tr>\n",
       "      <th>mean</th>\n",
       "      <td>1.990991</td>\n",
       "      <td>0.005222</td>\n",
       "      <td>1.000000</td>\n",
       "    </tr>\n",
       "    <tr>\n",
       "      <th>std</th>\n",
       "      <td>0.134231</td>\n",
       "      <td>0.102195</td>\n",
       "      <td>0.000000</td>\n",
       "    </tr>\n",
       "    <tr>\n",
       "      <th>min</th>\n",
       "      <td>0.000000</td>\n",
       "      <td>0.000000</td>\n",
       "      <td>1.000000</td>\n",
       "    </tr>\n",
       "    <tr>\n",
       "      <th>25%</th>\n",
       "      <td>2.000000</td>\n",
       "      <td>0.000000</td>\n",
       "      <td>1.000000</td>\n",
       "    </tr>\n",
       "    <tr>\n",
       "      <th>50%</th>\n",
       "      <td>2.000000</td>\n",
       "      <td>0.000000</td>\n",
       "      <td>1.000000</td>\n",
       "    </tr>\n",
       "    <tr>\n",
       "      <th>75%</th>\n",
       "      <td>2.000000</td>\n",
       "      <td>0.000000</td>\n",
       "      <td>1.000000</td>\n",
       "    </tr>\n",
       "    <tr>\n",
       "      <th>max</th>\n",
       "      <td>2.000000</td>\n",
       "      <td>2.000000</td>\n",
       "      <td>1.000000</td>\n",
       "    </tr>\n",
       "  </tbody>\n",
       "</table>\n",
       "</div>"
      ],
      "text/plain": [
       "KMeans_label                          0              1              2\n",
       "Customer Key        count    222.000000     383.000000      50.000000\n",
       "                    mean   55128.536036   54801.882507   56708.760000\n",
       "                    std    25924.359359   25314.312166   26862.130097\n",
       "                    min    11412.000000   11265.000000   13315.000000\n",
       "                    25%    33219.500000   34459.000000   32897.250000\n",
       "                    50%    55235.500000   53002.000000   53875.000000\n",
       "                    75%    75852.500000   76724.500000   79713.750000\n",
       "                    max    99596.000000   99473.000000   99843.000000\n",
       "Avg_Credit_Limit    count    222.000000     383.000000      50.000000\n",
       "                    mean   12180.180180   33853.785901  141040.000000\n",
       "                    std     5246.327219   22208.071973   34457.877272\n",
       "                    min     3000.000000    5000.000000   84000.000000\n",
       "                    25%     8000.000000   13000.000000  108750.000000\n",
       "                    50%    12000.000000   31000.000000  145500.000000\n",
       "                    75%    16000.000000   52000.000000  170000.000000\n",
       "                    max    50000.000000  100000.000000  200000.000000\n",
       "Total_Credit_Cards  count    222.000000     383.000000      50.000000\n",
       "                    mean       2.405405       5.519582       8.740000\n",
       "                    std        1.100213       1.136730       1.274715\n",
       "                    min        1.000000       2.000000       5.000000\n",
       "                    25%        1.000000       4.000000       8.000000\n",
       "                    50%        2.000000       6.000000       9.000000\n",
       "                    75%        3.000000       6.000000      10.000000\n",
       "                    max        4.000000       7.000000      10.000000\n",
       "Total_visits_bank   count    222.000000     383.000000      50.000000\n",
       "                    mean       0.936937       3.483029       0.600000\n",
       "                    std        0.804729       1.134467       0.494872\n",
       "                    min        0.000000       1.000000       0.000000\n",
       "                    25%        0.000000       2.500000       0.000000\n",
       "                    50%        1.000000       3.000000       1.000000\n",
       "                    75%        2.000000       4.500000       1.000000\n",
       "                    max        2.000000       5.000000       1.000000\n",
       "Total_visits_online count    222.000000     383.000000      50.000000\n",
       "                    mean       3.567568       0.986945      10.900000\n",
       "                    std        1.215448       0.857573       2.880264\n",
       "                    min        1.000000       0.000000       6.000000\n",
       "                    25%        3.000000       0.000000       8.000000\n",
       "                    50%        4.000000       1.000000      11.000000\n",
       "                    75%        4.000000       2.000000      13.000000\n",
       "                    max       10.000000       3.000000      15.000000\n",
       "Total_calls_made    count    222.000000     383.000000      50.000000\n",
       "                    mean       6.851351       2.010444       1.080000\n",
       "                    std        1.986487       1.428907       0.876915\n",
       "                    min        1.000000       0.000000       0.000000\n",
       "                    25%        5.000000       1.000000       0.000000\n",
       "                    50%        7.000000       2.000000       1.000000\n",
       "                    75%        9.000000       3.000000       2.000000\n",
       "                    max       10.000000       4.000000       3.000000\n",
       "Hierarchical_label  count    222.000000     383.000000      50.000000\n",
       "                    mean       1.990991       0.005222       1.000000\n",
       "                    std        0.134231       0.102195       0.000000\n",
       "                    min        0.000000       0.000000       1.000000\n",
       "                    25%        2.000000       0.000000       1.000000\n",
       "                    50%        2.000000       0.000000       1.000000\n",
       "                    75%        2.000000       0.000000       1.000000\n",
       "                    max        2.000000       2.000000       1.000000"
      ]
     },
     "execution_count": 70,
     "metadata": {},
     "output_type": "execute_result"
    }
   ],
   "source": [
    "# Statistical Summary of dataset for different clusters \n",
    "df1 = data_original.groupby('KMeans_label').describe().T\n",
    "df1"
   ]
  },
  {
   "cell_type": "markdown",
   "metadata": {},
   "source": [
    "> Analysis:\n",
    "- For group 0: (Cluster name - Low Customers)\n",
    "    - range for average credit limit is \\\\$3000 -\\\\$50,000 with median \\\\$12,000.\n",
    "    - range for total credit cards is 1-4.\n",
    "    - total visits to bank is 0-2 times.\n",
    "    - total visits online are 1-10 times.\n",
    "    - calls made are 1-10 times.\n",
    "- For group 1: (Cluster name - Medium Customers)\n",
    "    - range for average credit limit is \\\\$5000 -\\\\$100,000 with median \\\\$31,000..\n",
    "    - range for total credit cards is 4-7.\n",
    "    - total visits to bank is 1-5 times.\n",
    "    - total visits online are 0-3 times.\n",
    "    - calls made are 0-4 times.\n",
    "- For group 2: (Cluster name - High Customers)\n",
    "    - range for average credit limit is \\\\$84000 -\\\\$200,000 with median \\\\$145,500.\n",
    "    - range for total credit cards is 5-10.\n",
    "    - total visits to bank is 0-1 times.\n",
    "    - total visits online are 6-15 times.\n",
    "    - calls made are 0-3 times.  \n"
   ]
  },
  {
   "cell_type": "code",
   "execution_count": 71,
   "metadata": {
    "scrolled": false
   },
   "outputs": [
    {
     "data": {
      "text/html": [
       "<div>\n",
       "<style scoped>\n",
       "    .dataframe tbody tr th:only-of-type {\n",
       "        vertical-align: middle;\n",
       "    }\n",
       "\n",
       "    .dataframe tbody tr th {\n",
       "        vertical-align: top;\n",
       "    }\n",
       "\n",
       "    .dataframe thead th {\n",
       "        text-align: right;\n",
       "    }\n",
       "</style>\n",
       "<table border=\"1\" class=\"dataframe\">\n",
       "  <thead>\n",
       "    <tr style=\"text-align: right;\">\n",
       "      <th></th>\n",
       "      <th>Hierarchical_label</th>\n",
       "      <th>0.0</th>\n",
       "      <th>1.0</th>\n",
       "      <th>2.0</th>\n",
       "    </tr>\n",
       "  </thead>\n",
       "  <tbody>\n",
       "    <tr>\n",
       "      <th rowspan=\"8\" valign=\"top\">Customer Key</th>\n",
       "      <th>count</th>\n",
       "      <td>383.000000</td>\n",
       "      <td>50.000000</td>\n",
       "      <td>222.000000</td>\n",
       "    </tr>\n",
       "    <tr>\n",
       "      <th>mean</th>\n",
       "      <td>54884.545692</td>\n",
       "      <td>56708.760000</td>\n",
       "      <td>54985.923423</td>\n",
       "    </tr>\n",
       "    <tr>\n",
       "      <th>std</th>\n",
       "      <td>25319.166372</td>\n",
       "      <td>26862.130097</td>\n",
       "      <td>25917.347191</td>\n",
       "    </tr>\n",
       "    <tr>\n",
       "      <th>min</th>\n",
       "      <td>11265.000000</td>\n",
       "      <td>13315.000000</td>\n",
       "      <td>11412.000000</td>\n",
       "    </tr>\n",
       "    <tr>\n",
       "      <th>25%</th>\n",
       "      <td>34459.000000</td>\n",
       "      <td>32897.250000</td>\n",
       "      <td>33219.500000</td>\n",
       "    </tr>\n",
       "    <tr>\n",
       "      <th>50%</th>\n",
       "      <td>53166.000000</td>\n",
       "      <td>53875.000000</td>\n",
       "      <td>54990.500000</td>\n",
       "    </tr>\n",
       "    <tr>\n",
       "      <th>75%</th>\n",
       "      <td>76724.500000</td>\n",
       "      <td>79713.750000</td>\n",
       "      <td>75852.500000</td>\n",
       "    </tr>\n",
       "    <tr>\n",
       "      <th>max</th>\n",
       "      <td>99473.000000</td>\n",
       "      <td>99843.000000</td>\n",
       "      <td>99596.000000</td>\n",
       "    </tr>\n",
       "    <tr>\n",
       "      <th rowspan=\"8\" valign=\"top\">Avg_Credit_Limit</th>\n",
       "      <th>count</th>\n",
       "      <td>383.000000</td>\n",
       "      <td>50.000000</td>\n",
       "      <td>222.000000</td>\n",
       "    </tr>\n",
       "    <tr>\n",
       "      <th>mean</th>\n",
       "      <td>33793.733681</td>\n",
       "      <td>141040.000000</td>\n",
       "      <td>12283.783784</td>\n",
       "    </tr>\n",
       "    <tr>\n",
       "      <th>std</th>\n",
       "      <td>22249.578204</td>\n",
       "      <td>34457.877272</td>\n",
       "      <td>5369.227563</td>\n",
       "    </tr>\n",
       "    <tr>\n",
       "      <th>min</th>\n",
       "      <td>5000.000000</td>\n",
       "      <td>84000.000000</td>\n",
       "      <td>3000.000000</td>\n",
       "    </tr>\n",
       "    <tr>\n",
       "      <th>25%</th>\n",
       "      <td>13000.000000</td>\n",
       "      <td>108750.000000</td>\n",
       "      <td>8000.000000</td>\n",
       "    </tr>\n",
       "    <tr>\n",
       "      <th>50%</th>\n",
       "      <td>31000.000000</td>\n",
       "      <td>145500.000000</td>\n",
       "      <td>12000.000000</td>\n",
       "    </tr>\n",
       "    <tr>\n",
       "      <th>75%</th>\n",
       "      <td>52000.000000</td>\n",
       "      <td>170000.000000</td>\n",
       "      <td>16000.000000</td>\n",
       "    </tr>\n",
       "    <tr>\n",
       "      <th>max</th>\n",
       "      <td>100000.000000</td>\n",
       "      <td>200000.000000</td>\n",
       "      <td>50000.000000</td>\n",
       "    </tr>\n",
       "    <tr>\n",
       "      <th rowspan=\"8\" valign=\"top\">Total_Credit_Cards</th>\n",
       "      <th>count</th>\n",
       "      <td>383.000000</td>\n",
       "      <td>50.000000</td>\n",
       "      <td>222.000000</td>\n",
       "    </tr>\n",
       "    <tr>\n",
       "      <th>mean</th>\n",
       "      <td>5.516971</td>\n",
       "      <td>8.740000</td>\n",
       "      <td>2.409910</td>\n",
       "    </tr>\n",
       "    <tr>\n",
       "      <th>std</th>\n",
       "      <td>1.139072</td>\n",
       "      <td>1.274715</td>\n",
       "      <td>1.108785</td>\n",
       "    </tr>\n",
       "    <tr>\n",
       "      <th>min</th>\n",
       "      <td>2.000000</td>\n",
       "      <td>5.000000</td>\n",
       "      <td>1.000000</td>\n",
       "    </tr>\n",
       "    <tr>\n",
       "      <th>25%</th>\n",
       "      <td>4.000000</td>\n",
       "      <td>8.000000</td>\n",
       "      <td>1.000000</td>\n",
       "    </tr>\n",
       "    <tr>\n",
       "      <th>50%</th>\n",
       "      <td>6.000000</td>\n",
       "      <td>9.000000</td>\n",
       "      <td>2.000000</td>\n",
       "    </tr>\n",
       "    <tr>\n",
       "      <th>75%</th>\n",
       "      <td>6.000000</td>\n",
       "      <td>10.000000</td>\n",
       "      <td>3.000000</td>\n",
       "    </tr>\n",
       "    <tr>\n",
       "      <th>max</th>\n",
       "      <td>7.000000</td>\n",
       "      <td>10.000000</td>\n",
       "      <td>5.000000</td>\n",
       "    </tr>\n",
       "    <tr>\n",
       "      <th rowspan=\"8\" valign=\"top\">Total_visits_bank</th>\n",
       "      <th>count</th>\n",
       "      <td>383.000000</td>\n",
       "      <td>50.000000</td>\n",
       "      <td>222.000000</td>\n",
       "    </tr>\n",
       "    <tr>\n",
       "      <th>mean</th>\n",
       "      <td>3.485640</td>\n",
       "      <td>0.600000</td>\n",
       "      <td>0.932432</td>\n",
       "    </tr>\n",
       "    <tr>\n",
       "      <th>std</th>\n",
       "      <td>1.129879</td>\n",
       "      <td>0.494872</td>\n",
       "      <td>0.801544</td>\n",
       "    </tr>\n",
       "    <tr>\n",
       "      <th>min</th>\n",
       "      <td>1.000000</td>\n",
       "      <td>0.000000</td>\n",
       "      <td>0.000000</td>\n",
       "    </tr>\n",
       "    <tr>\n",
       "      <th>25%</th>\n",
       "      <td>2.500000</td>\n",
       "      <td>0.000000</td>\n",
       "      <td>0.000000</td>\n",
       "    </tr>\n",
       "    <tr>\n",
       "      <th>50%</th>\n",
       "      <td>3.000000</td>\n",
       "      <td>1.000000</td>\n",
       "      <td>1.000000</td>\n",
       "    </tr>\n",
       "    <tr>\n",
       "      <th>75%</th>\n",
       "      <td>4.500000</td>\n",
       "      <td>1.000000</td>\n",
       "      <td>2.000000</td>\n",
       "    </tr>\n",
       "    <tr>\n",
       "      <th>max</th>\n",
       "      <td>5.000000</td>\n",
       "      <td>1.000000</td>\n",
       "      <td>2.000000</td>\n",
       "    </tr>\n",
       "    <tr>\n",
       "      <th rowspan=\"8\" valign=\"top\">Total_visits_online</th>\n",
       "      <th>count</th>\n",
       "      <td>383.000000</td>\n",
       "      <td>50.000000</td>\n",
       "      <td>222.000000</td>\n",
       "    </tr>\n",
       "    <tr>\n",
       "      <th>mean</th>\n",
       "      <td>0.989556</td>\n",
       "      <td>10.900000</td>\n",
       "      <td>3.563063</td>\n",
       "    </tr>\n",
       "    <tr>\n",
       "      <th>std</th>\n",
       "      <td>0.859134</td>\n",
       "      <td>2.880264</td>\n",
       "      <td>1.223113</td>\n",
       "    </tr>\n",
       "    <tr>\n",
       "      <th>min</th>\n",
       "      <td>0.000000</td>\n",
       "      <td>6.000000</td>\n",
       "      <td>1.000000</td>\n",
       "    </tr>\n",
       "    <tr>\n",
       "      <th>25%</th>\n",
       "      <td>0.000000</td>\n",
       "      <td>8.000000</td>\n",
       "      <td>3.000000</td>\n",
       "    </tr>\n",
       "    <tr>\n",
       "      <th>50%</th>\n",
       "      <td>1.000000</td>\n",
       "      <td>11.000000</td>\n",
       "      <td>4.000000</td>\n",
       "    </tr>\n",
       "    <tr>\n",
       "      <th>75%</th>\n",
       "      <td>2.000000</td>\n",
       "      <td>13.000000</td>\n",
       "      <td>4.000000</td>\n",
       "    </tr>\n",
       "    <tr>\n",
       "      <th>max</th>\n",
       "      <td>3.000000</td>\n",
       "      <td>15.000000</td>\n",
       "      <td>10.000000</td>\n",
       "    </tr>\n",
       "    <tr>\n",
       "      <th rowspan=\"8\" valign=\"top\">Total_calls_made</th>\n",
       "      <th>count</th>\n",
       "      <td>383.000000</td>\n",
       "      <td>50.000000</td>\n",
       "      <td>222.000000</td>\n",
       "    </tr>\n",
       "    <tr>\n",
       "      <th>mean</th>\n",
       "      <td>2.010444</td>\n",
       "      <td>1.080000</td>\n",
       "      <td>6.851351</td>\n",
       "    </tr>\n",
       "    <tr>\n",
       "      <th>std</th>\n",
       "      <td>1.428907</td>\n",
       "      <td>0.876915</td>\n",
       "      <td>1.986487</td>\n",
       "    </tr>\n",
       "    <tr>\n",
       "      <th>min</th>\n",
       "      <td>0.000000</td>\n",
       "      <td>0.000000</td>\n",
       "      <td>1.000000</td>\n",
       "    </tr>\n",
       "    <tr>\n",
       "      <th>25%</th>\n",
       "      <td>1.000000</td>\n",
       "      <td>0.000000</td>\n",
       "      <td>5.000000</td>\n",
       "    </tr>\n",
       "    <tr>\n",
       "      <th>50%</th>\n",
       "      <td>2.000000</td>\n",
       "      <td>1.000000</td>\n",
       "      <td>7.000000</td>\n",
       "    </tr>\n",
       "    <tr>\n",
       "      <th>75%</th>\n",
       "      <td>3.000000</td>\n",
       "      <td>2.000000</td>\n",
       "      <td>9.000000</td>\n",
       "    </tr>\n",
       "    <tr>\n",
       "      <th>max</th>\n",
       "      <td>4.000000</td>\n",
       "      <td>3.000000</td>\n",
       "      <td>10.000000</td>\n",
       "    </tr>\n",
       "  </tbody>\n",
       "</table>\n",
       "</div>"
      ],
      "text/plain": [
       "Hierarchical_label                   0.0            1.0           2.0\n",
       "Customer Key        count     383.000000      50.000000    222.000000\n",
       "                    mean    54884.545692   56708.760000  54985.923423\n",
       "                    std     25319.166372   26862.130097  25917.347191\n",
       "                    min     11265.000000   13315.000000  11412.000000\n",
       "                    25%     34459.000000   32897.250000  33219.500000\n",
       "                    50%     53166.000000   53875.000000  54990.500000\n",
       "                    75%     76724.500000   79713.750000  75852.500000\n",
       "                    max     99473.000000   99843.000000  99596.000000\n",
       "Avg_Credit_Limit    count     383.000000      50.000000    222.000000\n",
       "                    mean    33793.733681  141040.000000  12283.783784\n",
       "                    std     22249.578204   34457.877272   5369.227563\n",
       "                    min      5000.000000   84000.000000   3000.000000\n",
       "                    25%     13000.000000  108750.000000   8000.000000\n",
       "                    50%     31000.000000  145500.000000  12000.000000\n",
       "                    75%     52000.000000  170000.000000  16000.000000\n",
       "                    max    100000.000000  200000.000000  50000.000000\n",
       "Total_Credit_Cards  count     383.000000      50.000000    222.000000\n",
       "                    mean        5.516971       8.740000      2.409910\n",
       "                    std         1.139072       1.274715      1.108785\n",
       "                    min         2.000000       5.000000      1.000000\n",
       "                    25%         4.000000       8.000000      1.000000\n",
       "                    50%         6.000000       9.000000      2.000000\n",
       "                    75%         6.000000      10.000000      3.000000\n",
       "                    max         7.000000      10.000000      5.000000\n",
       "Total_visits_bank   count     383.000000      50.000000    222.000000\n",
       "                    mean        3.485640       0.600000      0.932432\n",
       "                    std         1.129879       0.494872      0.801544\n",
       "                    min         1.000000       0.000000      0.000000\n",
       "                    25%         2.500000       0.000000      0.000000\n",
       "                    50%         3.000000       1.000000      1.000000\n",
       "                    75%         4.500000       1.000000      2.000000\n",
       "                    max         5.000000       1.000000      2.000000\n",
       "Total_visits_online count     383.000000      50.000000    222.000000\n",
       "                    mean        0.989556      10.900000      3.563063\n",
       "                    std         0.859134       2.880264      1.223113\n",
       "                    min         0.000000       6.000000      1.000000\n",
       "                    25%         0.000000       8.000000      3.000000\n",
       "                    50%         1.000000      11.000000      4.000000\n",
       "                    75%         2.000000      13.000000      4.000000\n",
       "                    max         3.000000      15.000000     10.000000\n",
       "Total_calls_made    count     383.000000      50.000000    222.000000\n",
       "                    mean        2.010444       1.080000      6.851351\n",
       "                    std         1.428907       0.876915      1.986487\n",
       "                    min         0.000000       0.000000      1.000000\n",
       "                    25%         1.000000       0.000000      5.000000\n",
       "                    50%         2.000000       1.000000      7.000000\n",
       "                    75%         3.000000       2.000000      9.000000\n",
       "                    max         4.000000       3.000000     10.000000"
      ]
     },
     "execution_count": 71,
     "metadata": {},
     "output_type": "execute_result"
    }
   ],
   "source": [
    "df2 = data_original.groupby('Hierarchical_label').describe().T\n",
    "df2"
   ]
  },
  {
   "cell_type": "markdown",
   "metadata": {},
   "source": [
    "> Analysis:\n",
    "- For group 0: (Cluster name - Medium Customers)\n",
    "    - range for average credit limit is \\\\$5000 -\\\\$100,000 with median \\\\$31,000..\n",
    "    - range for total credit cards is 2-7.\n",
    "    - total visits to bank is 1-5 times.\n",
    "    - total visits online are 0-3 times.\n",
    "    - calls made are 0-4 times.\n",
    "- For group 1: (Cluster name - High Customers)\n",
    "    - range for average credit limit is \\\\$84000 -\\\\$200,000 with median \\\\$145,500.\n",
    "    - range for total credit cards is 5-10.\n",
    "    - total visits to bank is 0-1 times.\n",
    "    - total visits online are 6-15 times.\n",
    "    - calls made are 0-3 times. \n",
    "- For group 2: (Cluster name - Low Customers)\n",
    "    - range for average credit limit is \\\\$3000 -\\\\$50,000 with median \\\\$12,000.\n",
    "    - range for total credit cards is 1-5.\n",
    "    - total visits to bank is 0-2 times.\n",
    "    - total visits online are 1-10 times.\n",
    "    - calls made are 1-10 times."
   ]
  },
  {
   "cell_type": "markdown",
   "metadata": {},
   "source": [
    "> The grouping of data points according to both the methods seem to have similar distribution with only noticeable difference in how the clusters are formed for different number of credit cards. "
   ]
  },
  {
   "cell_type": "markdown",
   "metadata": {},
   "source": [
    "### Plot Average Credit Limit for clusters:"
   ]
  },
  {
   "cell_type": "code",
   "execution_count": 72,
   "metadata": {},
   "outputs": [
    {
     "data": {
      "image/png": "[encoded data removed]",
      "text/plain": [
       "<Figure size 432x288 with 1 Axes>"
      ]
     },
     "metadata": {
      "needs_background": "light"
     },
     "output_type": "display_data"
    }
   ],
   "source": [
    "sns.boxplot(x = data_original['KMeans_label'], y = data_original['Avg_Credit_Limit'], color = \"0.75\");\n",
    "sns.boxplot(x = data_original['Hierarchical_label'], y = data_original['Avg_Credit_Limit'], color = \"0.25\");\n",
    "plt.show()"
   ]
  },
  {
   "cell_type": "code",
   "execution_count": 73,
   "metadata": {},
   "outputs": [
    {
     "data": {
      "image/png": "[encoded data removed]",
      "text/plain": [
       "<Figure size 432x288 with 1 Axes>"
      ]
     },
     "metadata": {
      "needs_background": "light"
     },
     "output_type": "display_data"
    }
   ],
   "source": [
    "sns.boxplot(x = data_original['KMeans_label'], y = data_original['Total_Credit_Cards'], color = \"0.75\");\n",
    "sns.boxplot(x = data_original['Hierarchical_label'], y = data_original['Total_Credit_Cards'], color = \"0.25\");\n",
    "plt.show()"
   ]
  },
  {
   "cell_type": "markdown",
   "metadata": {},
   "source": [
    "> The plots show similar ranges for different groups according to both methods."
   ]
  },
  {
   "cell_type": "markdown",
   "metadata": {},
   "source": [
    "### Plot the Clusters"
   ]
  },
  {
   "cell_type": "code",
   "execution_count": 74,
   "metadata": {},
   "outputs": [
    {
     "data": {
      "image/png": "[encoded data removed]",
      "text/plain": [
       "<Figure size 432x288 with 1 Axes>"
      ]
     },
     "metadata": {
      "needs_background": "light"
     },
     "output_type": "display_data"
    }
   ],
   "source": [
    "sns.scatterplot(x = data_original['Total_Credit_Cards'], y = data_original['Avg_Credit_Limit'], hue = data_original['KMeans_label']);"
   ]
  },
  {
   "cell_type": "code",
   "execution_count": 75,
   "metadata": {},
   "outputs": [
    {
     "data": {
      "image/png": "[encoded data removed]",
      "text/plain": [
       "<Figure size 432x288 with 1 Axes>"
      ]
     },
     "metadata": {
      "needs_background": "light"
     },
     "output_type": "display_data"
    }
   ],
   "source": [
    "sns.scatterplot(x = data_original['Total_Credit_Cards'], y = data_original['Avg_Credit_Limit'], hue = data_original['Hierarchical_label']);"
   ]
  },
  {
   "cell_type": "markdown",
   "metadata": {},
   "source": [
    "> The clusters formed by KMeans and Hierarchical look the same, with about few wrong data points in the cluster."
   ]
  },
  {
   "cell_type": "markdown",
   "metadata": {},
   "source": [
    "### Comparing Silhoutte Scores"
   ]
  },
  {
   "cell_type": "code",
   "execution_count": 76,
   "metadata": {},
   "outputs": [
    {
     "name": "stdout",
     "output_type": "stream",
     "text": [
      "Silhoutte Scores for\n",
      "KMeans Clustering:  0.5395774903633755\n",
      "Hierarchical Clustering:  0.5904746612930871\n"
     ]
    }
   ],
   "source": [
    "print('Silhoutte Scores for')\n",
    "print('KMeans Clustering: ', score_kmeans)\n",
    "print('Hierarchical Clustering: ', score_hierarchical )"
   ]
  },
  {
   "cell_type": "markdown",
   "metadata": {},
   "source": [
    "> Silhoutte is a method to determine optimal number of clusters for a given dataset. It defines as a coefficient of measure of how similar an observation to its own cluster compared to that of other clusters. The range of silhouette coefficient varies between -1 to 1. 1 value indicate that an observation is far from its neighbouring cluster and close to its own whereas -1 denotes that an observation is close to neighbouring cluster than its own cluster. The 0 value indicate the presence of observation on boundary of two clusters. <b>Since Silhoutte Score is highest/closer to 1 for Hierarchical clustering, hence it is the best method for this dataset. </b>"
   ]
  },
  {
   "cell_type": "markdown",
   "metadata": {},
   "source": [
    "# 4. Evaluation/ Conclusion:"
   ]
  },
  {
   "cell_type": "markdown",
   "metadata": {},
   "source": [
    "Both KMeans and Hierarchical clustering algorithms segment the customers into 3 clusters showing same following trends:\n",
    "\n",
    "- <b>(Cluster name - High Customers)</b> The first cluster consists of people who have higher number of total credit cards and high average credit card limit. They mostly go online for their queries. \n",
    "\n",
    "- <b>(Cluster name - Low Customers)</b> The second cluster consists of people who have lowest number of total credit cards and lowest average credit card limit. They mostly call the bank for their concerns. \n",
    "\n",
    "- <b>(Cluster name - Medium Customers)</b> The third cluster consists of the average group of people who have average number of credit cards, and average credit card limit. They mostly go to the bank for their queries. "
   ]
  },
  {
   "cell_type": "code",
   "execution_count": 77,
   "metadata": {},
   "outputs": [
    {
     "name": "stdout",
     "output_type": "stream",
     "text": [
      "SUMMARY: \n",
      "\n",
      "Clusters formed by KMeans:\n",
      "\n",
      "            Total Credit Cards Average Credit Limit Contact Method\n",
      "Cluster no.                                                       \n",
      "0                          Low                  Low     Make Calls\n",
      "1                       Medium               Medium     Visit Bank\n",
      "2                         High                 High   Visit Online\n",
      "\n",
      "Percentage of customers in each cluster: \n",
      "\n",
      "1    58.473282\n",
      "0    33.893130\n",
      "2     7.633588\n",
      "Name: KMeans_label, dtype: float64\n",
      "\n",
      "Clusters formed by Hierarchical:\n",
      "\n",
      "            Total Credit Cards Average Credit Limit Contact Method\n",
      "Cluster no.                                                       \n",
      "0                       Medium               Medium     Visit Bank\n",
      "1                         High                 High   Visit Online\n",
      "2                          Low                  Low     Make Calls\n",
      "\n",
      "Percentage of customers in each cluster: \n",
      "\n",
      "0.0    58.473282\n",
      "2.0    33.893130\n",
      "1.0     7.633588\n",
      "Name: Hierarchical_label, dtype: float64\n"
     ]
    }
   ],
   "source": [
    "print(\"SUMMARY: \")\n",
    "print(\"\\nClusters formed by KMeans:\\n\")\n",
    "print(df_kmeans.set_index('Cluster no.'))\n",
    "print(\"\\nPercentage of customers in each cluster: \\n\")\n",
    "print(data_original['KMeans_label'].value_counts(normalize = True)*100)\n",
    "\n",
    "print(\"\\nClusters formed by Hierarchical:\\n\")\n",
    "print(df_hierarchical.set_index('Cluster no.'))\n",
    "print(\"\\nPercentage of customers in each cluster: \\n\")\n",
    "print(data_original['Hierarchical_label'].value_counts(normalize = True)*100)\n"
   ]
  },
  {
   "cell_type": "markdown",
   "metadata": {},
   "source": [
    "><b>Conclusion: \n",
    "- 58% of the customers belong to the cluster with medium number of total credit cards, medium average credit limit and visit bank for their queries.\n",
    "- 33% of the customers belong to the cluster with low number of total credit cards, low average credit limit and call bank for their queries.\n",
    "- 7% of the customers belong to the cluster with high number of total credit cards, high average credit limit and visit online for their queries. </b>"
   ]
  },
  {
   "cell_type": "markdown",
   "metadata": {},
   "source": [
    "## Answer Key Questions:"
   ]
  },
  {
   "cell_type": "markdown",
   "metadata": {},
   "source": [
    "### Q1. How many different segments of customers are there?"
   ]
  },
  {
   "cell_type": "markdown",
   "metadata": {},
   "source": [
    "There are 3 different segments of Credit Card Customers in the bank."
   ]
  },
  {
   "cell_type": "markdown",
   "metadata": {},
   "source": [
    "### Q2. How are these segments different from each other?"
   ]
  },
  {
   "cell_type": "markdown",
   "metadata": {},
   "source": [
    "The first segment consists of people who have higher number of total credit cards and high average credit card limit. They mostly go online for their queries.\n",
    "\n",
    "The second segment consists of people who have lowest number of total credit cards and lowest average credit card limit. They mostly call the bank for their concerns. \n",
    "\n",
    "The third segment consists of the average group of people who have average number of credit cards, and average credit card limit. They mostly go to the bank for their queries. "
   ]
  },
  {
   "cell_type": "markdown",
   "metadata": {},
   "source": [
    "### Q3. What are your recommendations to the bank on how to better market to and service these customers?"
   ]
  },
  {
   "cell_type": "markdown",
   "metadata": {},
   "source": [
    "The strategy of the bank should be to retain the old customers and make efforts to add new customers. Here are some recommendations on how to retain different groups of old customers. \n",
    "\n",
    "<Br>\n",
    "<b>\n",
    "1. Group with people having medium number of credit cards, medium average credit card limit and visiting bank mostly.</b>\n",
    "(Since majority of the customers belong to the cluster this is priority)\n",
    "\n",
    "   - Offers promoting balance transfers and/or 0% APR pricing.\n",
    "   - Supporting a direct mail campaign with email and/or other digital channels, wherever possible. Direct mail offers should lead with and amplify online response so prospects don’t have to leave home and physically mail applications. Check existing DM controls and remove references to in-person applications.\n",
    "   - Credit card issuers will have to make sure that applications on mobile devices are easy to understand and complete — a good user-friendly design that encourages the consumer to complete the application instead of giving up in frustration.\n",
    "\n",
    "<b>\n",
    "2. Group with people having least number of credit cards, lower average credit card limit and making calls mostly.</b>\n",
    "\n",
    "   - Test out a new approach of marketing by using social media.\n",
    "   - Also take into consideration the expansion of VantageScore, which uses different metrics from FICO. The reason for this is changes in the metrics that determine credit eligibility. Credit card issuers will be able to advertise to a larger percentage of people who would be considered subprime e.g. students, or other people who might not use credit often. (Whereas FICO requires a full six months of credit scoring, VantageScore takes into account the very first month)\n",
    "   - In order to promote online banking, the bank can incorporate account tracking within their mobile apps by adding features that automatically create budgets based on the card holder’s spending habits, bills, and incomes, and even auto deposit in their savings account for rainy days. This will become a good personal finance management tool.\n",
    "\n",
    "<b>\n",
    "3. Group with people having more number of credit cards, higher average credit card limit and visiting online mostly.</b>\n",
    "\n",
    "   - Focus on promoting cash back cards and cards with accelerated earn on everyday spend e.g. groceries.\n",
    "   - Elevating incentives for services that consumers are purchasing e.g. third party delivery apps or streaming services.\n",
    "   - Card issuers can promote any regional or national partnership already in place, or card marketers can look to payment partners for existing incentives e.g. Visa may be able to support an issuer-partner with pre-negotiated merchant offers making it possible for all card issuers to tout attractive incentives with high-value brands.\n",
    "   - Brand-related credit cards — such as those that offer Uber points — can get even more attractive for consumers, due to their relative value for users’ priorities.\n",
    "   - Promote the mobile payment functionality offered by your card.\n",
    "\n",
    "<b>\n",
    "New Customers</b>:\n",
    "\n",
    "   - Target the students or recently graduated by promoting credt cards that may feature the university's logo, accept applicants with no credit history or offer promotional interest rates that appeal to students with limited income.\n",
    "   - To attract customers who like to travel, companies like airlines, hotel chains and motor vehicle manufacturers partner with card companies to offer cards with benefits like priority airport lounges, room upgrades and special gifts for purchases.\n",
    "   - By giving customers cash back or points, credit card companies can use rewards systems to gain new customers and keep them. card companies may continue to offer rewards points or dollars based on the customer's purchase amount and type.\n",
    "   - To target new customers who plan to make major purchases or transfer balances from other cards, card companies sometimes offer a period of several months to over a year where cardholders pay no interest or have a reduced rate. e.g. balance transfers often come with a fee of around 3 to 5 percent of the amount, card companies may waive it to gain new customers. Cards with annual fees may also have the fee waived for the first year to reduce the burden on the new customer.\n",
    "   - Partner with major retail stores to offer branded cards and give flat rate/ percentage discounts to attract new customers who are the stores's frequent shoppers.\n",
    "   - Bank can offer secure credit cards to attract new customers who have no credit or bad credit and want to improve their credit history. These cards require a security deposit or bank account hold and may charge higher interest rates than unsecured cards do. \n",
    "   - New customers with very good credit score can be offered preferred, gold, platinum or signature cards. These cards tend to come with higher rewards, special perks, lower interest rates and cash introductory bonuses.\n",
    "\n",
    "<b>\n",
    "Improve service</b>:\n",
    "\n",
    "   - Using technology like social media or mobile phones to get immediate customer feedback on the quality of service.\n"
   ]
  },
  {
   "cell_type": "code",
   "execution_count": null,
   "metadata": {},
   "outputs": [],
   "source": []
  }
 ],
 "metadata": {
  "kernelspec": {
   "display_name": "Python [conda env:py3]",
   "language": "python",
   "name": "conda-env-py3-py"
  },
  "language_info": {
   "codemirror_mode": {
    "name": "ipython",
    "version": 3
   },
   "file_extension": ".py",
   "mimetype": "text/x-python",
   "name": "python",
   "nbconvert_exporter": "python",
   "pygments_lexer": "ipython3",
   "version": "3.8.3"
  }
 },
 "nbformat": 4,
 "nbformat_minor": 2
}
